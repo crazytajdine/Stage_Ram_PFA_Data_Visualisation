{
 "cells": [
  {
   "cell_type": "code",
   "execution_count": 1,
   "id": "61561334",
   "metadata": {},
   "outputs": [
    {
     "name": "stdout",
     "output_type": "stream",
     "text": [
      "Loading config from: /Users/abderrahmanebenider/Documents/Documents - abderrahmane’s MacBook Air/GitHub/Stage_Ram_PFA_Data_Visualisation/dashboard/config.toml\n",
      "Initializing server instance...\n",
      "Loading config from: /Users/abderrahmanebenider/Library/Application Support/DashboardApp/config_data.toml\n",
      "✅ Data loaded: 707 rows \n"
     ]
    }
   ],
   "source": [
    "import polars as pl\n",
    "\n",
    "\n",
    "from excel_manager import (\n",
    "    get_df,\n",
    "    get_count_df,\n",
    "    COL_NAME_TOTAL_COUNT,\n",
    "    COL_NAME_WINDOW_TIME,\n",
    "    COL_NAME_DEPARTURE_DATETIME,\n",
    ")\n",
    "import pages.tech.page as tech_page\n"
   ]
  },
  {
   "cell_type": "code",
   "execution_count": 2,
   "id": "38114e23",
   "metadata": {},
   "outputs": [],
   "source": [
    "df= get_df()\n"
   ]
  },
  {
   "cell_type": "code",
   "execution_count": 3,
   "id": "7c1bfc94",
   "metadata": {},
   "outputs": [
    {
     "data": {
      "text/plain": [
       "('2025-03-30', '2025-06-24')"
      ]
     },
     "execution_count": 3,
     "metadata": {},
     "output_type": "execute_result"
    }
   ],
   "source": [
    "dmax= tech_page.dt_max_iso\n",
    "dmin= tech_page.dt_min_iso\n",
    "dmin, dmax"
   ]
  },
  {
   "cell_type": "code",
   "execution_count": 4,
   "id": "c9073105",
   "metadata": {},
   "outputs": [
    {
     "data": {
      "text/html": [
       "<div><style>\n",
       ".dataframe > thead > tr,\n",
       ".dataframe > tbody > tr {\n",
       "  text-align: right;\n",
       "  white-space: pre-wrap;\n",
       "}\n",
       "</style>\n",
       "<small>shape: (707, 71)</small><table border=\"1\" class=\"dataframe\"><thead><tr><th>FN_CARRIER</th><th>FN_NUMBER</th><th>DAY_OF_ORIGIN</th><th>AC_OWNER</th><th>AC_SUBTYPE</th><th>MC_LC_CC</th><th>AC_VERSION</th><th>AC_REGISTRATION</th><th>DEP_AP_SCHED</th><th>ARR_AP_SCHED</th><th>DEP_AP_ACTUAL</th><th>ARR_AP_ACTUAL</th><th>O/D</th><th>SECTEUR_ORIGIN</th><th>SECTEUR_DESTINATION</th><th>LEG_STATE</th><th>LEG_TYPE</th><th>DEP_DAY_SCHED</th><th>DAY_OF_WEEK_DEP</th><th>Month DEP DAY SCHED</th><th>DEP_TIME_SCHED</th><th>ARR_DAY_SCHED</th><th>ARR_TIME_SCHED</th><th>OFFBLOCK_DAY</th><th>OFFBLOCK_TIME</th><th>AIRBORNE_DATE</th><th>AIRBORNE_TIME</th><th>LANDING_DAY</th><th>LANDING_TIME</th><th>ONBLOCK_DAY</th><th>ONBLOCK_TIME</th><th>Temps de vol programmé sur NETLINE</th><th>TAXI TIME DEPART Réalisé</th><th>TDV AIRBORNE Réalisé MIN</th><th>TDV AIRBORNE Réalisé HOUR</th><th>TAXI_TIME_ARR réalisé</th><th>TDV Réalisé MIN</th><th>TDV Réalisé HOUR</th><th>Early departure_v2</th><th>ext </th><th>DELTA TDV</th><th>RETARD ARR</th><th>TRANCHE RETARD ARR</th><th>Tranch Retard Arrivée</th><th>DELAY_CODE_01</th><th>DELAY_TIME_01</th><th>DELAY_CODE_02</th><th>DELAY_TIME_02</th><th>DELAY_CODE_03</th><th>DELAY_TIME_03</th><th>CODE_DR</th><th>FAMILLE_DR</th><th>LIB_CODE_DR</th><th>Retard en min</th><th>Tranch Retard départ</th><th>Tranch Retard départ 30</th><th>Type retard départ</th><th>TRAFIC</th><th>RCR Code</th><th>RCR numero vol</th><th>RCR Date</th><th>ESC Départ RCR</th><th>ESC Arrivé RCR</th><th>RCR LIB CODE DR</th><th>RCR Famille DR</th><th>LIB_CODE_DR_FUSION</th><th>FAMILLE_DR_FUSION</th><th>Interne/Externe</th><th>AT_RXP_AFFRT</th><th>GROUP_AVION</th><th>time_period</th></tr><tr><td>str</td><td>str</td><td>date</td><td>str</td><td>str</td><td>str</td><td>str</td><td>str</td><td>str</td><td>str</td><td>str</td><td>str</td><td>str</td><td>str</td><td>str</td><td>str</td><td>str</td><td>date</td><td>str</td><td>str</td><td>str</td><td>date</td><td>str</td><td>date</td><td>str</td><td>date</td><td>str</td><td>date</td><td>str</td><td>date</td><td>str</td><td>i64</td><td>i64</td><td>i64</td><td>f64</td><td>i64</td><td>i64</td><td>f64</td><td>str</td><td>str</td><td>i64</td><td>str</td><td>str</td><td>str</td><td>str</td><td>i64</td><td>str</td><td>datetime[ms]</td><td>str</td><td>str</td><td>i32</td><td>str</td><td>str</td><td>i64</td><td>str</td><td>str</td><td>str</td><td>i64</td><td>str</td><td>str</td><td>str</td><td>str</td><td>str</td><td>str</td><td>str</td><td>str</td><td>str</td><td>str</td><td>str</td><td>str</td><td>str</td></tr></thead><tbody><tr><td>&quot;AT&quot;</td><td>&quot;0470&quot;</td><td>2025-03-30</td><td>&quot;RXP&quot;</td><td>&quot;AT7&quot;</td><td>&quot;CC&quot;</td><td>&quot;JY70&quot;</td><td>&quot;CNCOG&quot;</td><td>&quot;CMN&quot;</td><td>&quot;TNG&quot;</td><td>&quot;CMN&quot;</td><td>&quot;TNG&quot;</td><td>&quot;CMN/TNG&quot;</td><td>&quot;CMN&quot;</td><td>&quot;TNG&quot;</td><td>&quot;ARR&quot;</td><td>&quot;J&quot;</td><td>2025-03-30</td><td>&quot;dimanche&quot;</td><td>&quot;mars&quot;</td><td>&quot;21:50&quot;</td><td>2025-03-30</td><td>&quot;23:10&quot;</td><td>2025-03-30</td><td>&quot;22:10&quot;</td><td>2025-03-30</td><td>&quot;22:25&quot;</td><td>2025-03-30</td><td>&quot;23:20&quot;</td><td>2025-03-30</td><td>&quot;23:23&quot;</td><td>80</td><td>15</td><td>55</td><td>0.916667</td><td>3</td><td>73</td><td>1.216667</td><td>&quot;-&quot;</td><td>&quot;NOEXT&quot;</td><td>7</td><td>&quot;13&quot;</td><td>&quot;A&quot;</td><td>&quot;-&quot;</td><td>&quot;42&quot;</td><td>20</td><td>&quot;00&quot;</td><td>1899-12-31 00:00:00</td><td>&quot;00&quot;</td><td>&quot;00:00&quot;</td><td>42</td><td>&quot;TECHNIQIE&quot;</td><td>&quot;TEC&quot;</td><td>20</td><td>&quot;16min&lt;=R&lt;1h&quot;</td><td>&quot;16min&lt;=R&lt;30min&quot;</td><td>&quot;R&quot;</td><td>46</td><td>&quot;-&quot;</td><td>&quot;-&quot;</td><td>&quot;-&quot;</td><td>&quot;-&quot;</td><td>&quot;-&quot;</td><td>&quot;-&quot;</td><td>&quot;-&quot;</td><td>&quot;TEC&quot;</td><td>&quot;TECHNIQIE&quot;</td><td>&quot;Interne&quot;</td><td>&quot;RAM Express&quot;</td><td>&quot;AT7&quot;</td><td>&quot;2025-03-30 to 2025-04-28&quot;</td></tr><tr><td>&quot;AT&quot;</td><td>&quot;1436&quot;</td><td>2025-03-30</td><td>&quot;RXP&quot;</td><td>&quot;AT7&quot;</td><td>&quot;CC&quot;</td><td>&quot;JY70&quot;</td><td>&quot;CNCOH&quot;</td><td>&quot;CMN&quot;</td><td>&quot;TTU&quot;</td><td>&quot;CMN&quot;</td><td>&quot;TTU&quot;</td><td>&quot;CMN/TTU&quot;</td><td>&quot;CMN&quot;</td><td>&quot;TNG&quot;</td><td>&quot;ARR&quot;</td><td>&quot;J&quot;</td><td>2025-03-30</td><td>&quot;dimanche&quot;</td><td>&quot;mars&quot;</td><td>&quot;14:30&quot;</td><td>2025-03-30</td><td>&quot;15:50&quot;</td><td>2025-03-30</td><td>&quot;14:51&quot;</td><td>2025-03-30</td><td>&quot;15:09&quot;</td><td>2025-03-30</td><td>&quot;16:20&quot;</td><td>2025-03-30</td><td>&quot;16:23&quot;</td><td>80</td><td>18</td><td>71</td><td>1.183333</td><td>3</td><td>92</td><td>1.533333</td><td>&quot;-&quot;</td><td>&quot;EXT&quot;</td><td>-12</td><td>&quot;33&quot;</td><td>&quot;R&quot;</td><td>&quot;16min&lt;=R&lt;1h&quot;</td><td>&quot;51&quot;</td><td>21</td><td>&quot;00&quot;</td><td>1899-12-31 00:00:00</td><td>&quot;00&quot;</td><td>&quot;00:00&quot;</td><td>51</td><td>&quot;AVARIE&quot;</td><td>&quot;AVA&quot;</td><td>21</td><td>&quot;16min&lt;=R&lt;1h&quot;</td><td>&quot;16min&lt;=R&lt;30min&quot;</td><td>&quot;R&quot;</td><td>26</td><td>&quot;-&quot;</td><td>&quot;-&quot;</td><td>&quot;-&quot;</td><td>&quot;-&quot;</td><td>&quot;-&quot;</td><td>&quot;-&quot;</td><td>&quot;-&quot;</td><td>&quot;AVA&quot;</td><td>&quot;AVARIE&quot;</td><td>&quot;Interne&quot;</td><td>&quot;RAM Express&quot;</td><td>&quot;AT7&quot;</td><td>&quot;2025-03-30 to 2025-04-28&quot;</td></tr><tr><td>&quot;AT&quot;</td><td>&quot;0413&quot;</td><td>2025-03-30</td><td>&quot;RXP&quot;</td><td>&quot;AT7&quot;</td><td>&quot;CC&quot;</td><td>&quot;JY70&quot;</td><td>&quot;CNCOI&quot;</td><td>&quot;CMN&quot;</td><td>&quot;RAK&quot;</td><td>&quot;CMN&quot;</td><td>&quot;RAK&quot;</td><td>&quot;CMN/RAK&quot;</td><td>&quot;CMN&quot;</td><td>&quot;RAK&quot;</td><td>&quot;ARR&quot;</td><td>&quot;J&quot;</td><td>2025-03-30</td><td>&quot;dimanche&quot;</td><td>&quot;mars&quot;</td><td>&quot;15:35&quot;</td><td>2025-03-30</td><td>&quot;16:40&quot;</td><td>2025-03-30</td><td>&quot;15:44&quot;</td><td>2025-03-30</td><td>&quot;15:56&quot;</td><td>2025-03-30</td><td>&quot;16:33&quot;</td><td>2025-03-30</td><td>&quot;16:37&quot;</td><td>65</td><td>12</td><td>37</td><td>0.616667</td><td>4</td><td>53</td><td>0.883333</td><td>&quot;-&quot;</td><td>&quot;NOEXT&quot;</td><td>12</td><td>&quot;0&quot;</td><td>&quot;-&quot;</td><td>&quot;-&quot;</td><td>&quot;52&quot;</td><td>9</td><td>&quot;00&quot;</td><td>1899-12-31 00:00:00</td><td>&quot;00&quot;</td><td>&quot;00:00&quot;</td><td>52</td><td>&quot;AVARIE&quot;</td><td>&quot;AVA&quot;</td><td>9</td><td>&quot;-&quot;</td><td>&quot;-&quot;</td><td>&quot;A&quot;</td><td>54</td><td>&quot;-&quot;</td><td>&quot;-&quot;</td><td>&quot;-&quot;</td><td>&quot;-&quot;</td><td>&quot;-&quot;</td><td>&quot;-&quot;</td><td>&quot;-&quot;</td><td>&quot;AVA&quot;</td><td>&quot;AVARIE&quot;</td><td>&quot;Interne&quot;</td><td>&quot;RAM Express&quot;</td><td>&quot;AT7&quot;</td><td>&quot;2025-03-30 to 2025-04-28&quot;</td></tr><tr><td>&quot;AT&quot;</td><td>&quot;0210&quot;</td><td>2025-03-30</td><td>&quot;AT&quot;</td><td>&quot;788&quot;</td><td>&quot;LC&quot;</td><td>&quot;JY274&quot;</td><td>&quot;CNRGB&quot;</td><td>&quot;CMN&quot;</td><td>&quot;YYZ&quot;</td><td>&quot;CMN&quot;</td><td>&quot;YYZ&quot;</td><td>&quot;CMN/YYZ&quot;</td><td>&quot;CMN&quot;</td><td>&quot;AMR&quot;</td><td>&quot;ARR&quot;</td><td>&quot;J&quot;</td><td>2025-03-30</td><td>&quot;dimanche&quot;</td><td>&quot;mars&quot;</td><td>&quot;15:45&quot;</td><td>2025-03-31</td><td>&quot;00:10&quot;</td><td>2025-03-30</td><td>&quot;18:31&quot;</td><td>2025-03-30</td><td>&quot;18:38&quot;</td><td>2025-03-31</td><td>&quot;02:44&quot;</td><td>2025-03-31</td><td>&quot;02:55&quot;</td><td>505</td><td>7</td><td>486</td><td>8.1</td><td>11</td><td>504</td><td>8.4</td><td>&quot;-&quot;</td><td>&quot;NOEXT&quot;</td><td>1</td><td>&quot;165&quot;</td><td>&quot;R&quot;</td><td>&quot;2h&lt;=R&lt;4h&quot;</td><td>&quot;52&quot;</td><td>46</td><td>&quot;00&quot;</td><td>1899-12-31 00:00:00</td><td>&quot;00&quot;</td><td>&quot;00:00&quot;</td><td>52</td><td>&quot;AVARIE&quot;</td><td>&quot;AVA&quot;</td><td>166</td><td>&quot;2h&lt;=R&lt;4h&quot;</td><td>&quot;2h&lt;=R&lt;4h&quot;</td><td>&quot;R&quot;</td><td>228</td><td>&quot;-&quot;</td><td>&quot;-&quot;</td><td>&quot;-&quot;</td><td>&quot;-&quot;</td><td>&quot;-&quot;</td><td>&quot;-&quot;</td><td>&quot;-&quot;</td><td>&quot;AVA&quot;</td><td>&quot;AVARIE&quot;</td><td>&quot;Interne&quot;</td><td>&quot;AT&quot;</td><td>&quot;787&quot;</td><td>&quot;2025-03-30 to 2025-04-28&quot;</td></tr><tr><td>&quot;AT&quot;</td><td>&quot;0509&quot;</td><td>2025-03-30</td><td>&quot;AT&quot;</td><td>&quot;73H&quot;</td><td>&quot;MC&quot;</td><td>&quot;JY159&quot;</td><td>&quot;CNRGK&quot;</td><td>&quot;DLA&quot;</td><td>&quot;CMN&quot;</td><td>&quot;DLA&quot;</td><td>&quot;CMN&quot;</td><td>&quot;DLA/CMN&quot;</td><td>&quot;AFR&quot;</td><td>&quot;CMN&quot;</td><td>&quot;ARR&quot;</td><td>&quot;J&quot;</td><td>2025-03-31</td><td>&quot;lundi&quot;</td><td>&quot;mars&quot;</td><td>&quot;05:35&quot;</td><td>2025-03-31</td><td>&quot;10:55&quot;</td><td>2025-03-31</td><td>&quot;06:57&quot;</td><td>2025-03-31</td><td>&quot;07:12&quot;</td><td>2025-03-31</td><td>&quot;12:14&quot;</td><td>2025-03-31</td><td>&quot;12:21&quot;</td><td>320</td><td>15</td><td>302</td><td>5.033333</td><td>7</td><td>324</td><td>5.4</td><td>&quot;-&quot;</td><td>&quot;EXT&quot;</td><td>-4</td><td>&quot;86&quot;</td><td>&quot;R&quot;</td><td>&quot;1h&lt;=R&lt;2h&quot;</td><td>&quot;93&quot;</td><td>12</td><td>&quot;41&quot;</td><td>1899-12-31 01:10:00</td><td>&quot;00&quot;</td><td>&quot;00:00&quot;</td><td>41</td><td>&quot;TECHNIQIE&quot;</td><td>&quot;TEC&quot;</td><td>82</td><td>&quot;1h&lt;=R&lt;2h&quot;</td><td>&quot;1h&lt;=R&lt;2h&quot;</td><td>&quot;R&quot;</td><td>123</td><td>&quot;-&quot;</td><td>&quot;-&quot;</td><td>&quot;-&quot;</td><td>&quot;-&quot;</td><td>&quot;-&quot;</td><td>&quot;-&quot;</td><td>&quot;-&quot;</td><td>&quot;TEC&quot;</td><td>&quot;TECHNIQIE&quot;</td><td>&quot;Interne&quot;</td><td>&quot;AT&quot;</td><td>&quot;NG&quot;</td><td>&quot;2025-03-30 to 2025-04-28&quot;</td></tr><tr><td>&hellip;</td><td>&hellip;</td><td>&hellip;</td><td>&hellip;</td><td>&hellip;</td><td>&hellip;</td><td>&hellip;</td><td>&hellip;</td><td>&hellip;</td><td>&hellip;</td><td>&hellip;</td><td>&hellip;</td><td>&hellip;</td><td>&hellip;</td><td>&hellip;</td><td>&hellip;</td><td>&hellip;</td><td>&hellip;</td><td>&hellip;</td><td>&hellip;</td><td>&hellip;</td><td>&hellip;</td><td>&hellip;</td><td>&hellip;</td><td>&hellip;</td><td>&hellip;</td><td>&hellip;</td><td>&hellip;</td><td>&hellip;</td><td>&hellip;</td><td>&hellip;</td><td>&hellip;</td><td>&hellip;</td><td>&hellip;</td><td>&hellip;</td><td>&hellip;</td><td>&hellip;</td><td>&hellip;</td><td>&hellip;</td><td>&hellip;</td><td>&hellip;</td><td>&hellip;</td><td>&hellip;</td><td>&hellip;</td><td>&hellip;</td><td>&hellip;</td><td>&hellip;</td><td>&hellip;</td><td>&hellip;</td><td>&hellip;</td><td>&hellip;</td><td>&hellip;</td><td>&hellip;</td><td>&hellip;</td><td>&hellip;</td><td>&hellip;</td><td>&hellip;</td><td>&hellip;</td><td>&hellip;</td><td>&hellip;</td><td>&hellip;</td><td>&hellip;</td><td>&hellip;</td><td>&hellip;</td><td>&hellip;</td><td>&hellip;</td><td>&hellip;</td><td>&hellip;</td><td>&hellip;</td><td>&hellip;</td><td>&hellip;</td></tr><tr><td>&quot;AT&quot;</td><td>&quot;0764&quot;</td><td>2025-05-10</td><td>&quot;AT&quot;</td><td>&quot;788&quot;</td><td>&quot;LC&quot;</td><td>&quot;JY274&quot;</td><td>&quot;CNRGT&quot;</td><td>&quot;CMN&quot;</td><td>&quot;ORY&quot;</td><td>&quot;CMN&quot;</td><td>&quot;ORY&quot;</td><td>&quot;CMN/ORY&quot;</td><td>&quot;CMN&quot;</td><td>&quot;PAR&quot;</td><td>&quot;ARR&quot;</td><td>&quot;J&quot;</td><td>2025-05-10</td><td>&quot;samedi&quot;</td><td>&quot;mai&quot;</td><td>&quot;11:20&quot;</td><td>2025-05-10</td><td>&quot;14:05&quot;</td><td>2025-05-10</td><td>&quot;12:45&quot;</td><td>2025-05-10</td><td>&quot;13:03&quot;</td><td>2025-05-10</td><td>&quot;15:14&quot;</td><td>2025-05-10</td><td>&quot;15:24&quot;</td><td>165</td><td>18</td><td>131</td><td>2.183333</td><td>10</td><td>159</td><td>2.65</td><td>&quot;-&quot;</td><td>&quot;NOEXT&quot;</td><td>6</td><td>&quot;79&quot;</td><td>&quot;R&quot;</td><td>&quot;1h&lt;=R&lt;2h&quot;</td><td>&quot;44&quot;</td><td>25</td><td>&quot;00&quot;</td><td>1899-12-31 00:00:00</td><td>&quot;00&quot;</td><td>&quot;00:00&quot;</td><td>44</td><td>&quot;TECHNIQIE&quot;</td><td>&quot;TEC&quot;</td><td>85</td><td>&quot;1h&lt;=R&lt;2h&quot;</td><td>&quot;1h&lt;=R&lt;2h&quot;</td><td>&quot;R&quot;</td><td>188</td><td>&quot;-&quot;</td><td>&quot;-&quot;</td><td>&quot;-&quot;</td><td>&quot;-&quot;</td><td>&quot;-&quot;</td><td>&quot;-&quot;</td><td>&quot;-&quot;</td><td>&quot;TEC&quot;</td><td>&quot;TECHNIQIE&quot;</td><td>&quot;Interne&quot;</td><td>&quot;AT&quot;</td><td>&quot;787&quot;</td><td>&quot;2025-04-29 to 2025-05-28&quot;</td></tr><tr><td>&quot;AT&quot;</td><td>&quot;0764&quot;</td><td>2025-05-10</td><td>&quot;AT&quot;</td><td>&quot;788&quot;</td><td>&quot;LC&quot;</td><td>&quot;JY274&quot;</td><td>&quot;CNRGT&quot;</td><td>&quot;CMN&quot;</td><td>&quot;ORY&quot;</td><td>&quot;CMN&quot;</td><td>&quot;ORY&quot;</td><td>&quot;CMN/ORY&quot;</td><td>&quot;CMN&quot;</td><td>&quot;PAR&quot;</td><td>&quot;ARR&quot;</td><td>&quot;J&quot;</td><td>2025-05-10</td><td>&quot;samedi&quot;</td><td>&quot;mai&quot;</td><td>&quot;11:20&quot;</td><td>2025-05-10</td><td>&quot;14:05&quot;</td><td>2025-05-10</td><td>&quot;12:45&quot;</td><td>2025-05-10</td><td>&quot;13:03&quot;</td><td>2025-05-10</td><td>&quot;15:14&quot;</td><td>2025-05-10</td><td>&quot;15:24&quot;</td><td>165</td><td>18</td><td>131</td><td>2.183333</td><td>10</td><td>159</td><td>2.65</td><td>&quot;-&quot;</td><td>&quot;NOEXT&quot;</td><td>6</td><td>&quot;79&quot;</td><td>&quot;R&quot;</td><td>&quot;1h&lt;=R&lt;2h&quot;</td><td>&quot;44&quot;</td><td>25</td><td>&quot;00&quot;</td><td>1899-12-31 00:00:00</td><td>&quot;00&quot;</td><td>&quot;00:00&quot;</td><td>44</td><td>&quot;TECHNIQIE&quot;</td><td>&quot;TEC&quot;</td><td>85</td><td>&quot;1h&lt;=R&lt;2h&quot;</td><td>&quot;1h&lt;=R&lt;2h&quot;</td><td>&quot;R&quot;</td><td>188</td><td>&quot;-&quot;</td><td>&quot;-&quot;</td><td>&quot;-&quot;</td><td>&quot;-&quot;</td><td>&quot;-&quot;</td><td>&quot;-&quot;</td><td>&quot;-&quot;</td><td>&quot;TEC&quot;</td><td>&quot;TECHNIQIE&quot;</td><td>&quot;Interne&quot;</td><td>&quot;AT&quot;</td><td>&quot;787&quot;</td><td>&quot;2025-04-29 to 2025-05-28&quot;</td></tr><tr><td>&quot;AT&quot;</td><td>&quot;0764&quot;</td><td>2025-05-10</td><td>&quot;AT&quot;</td><td>&quot;788&quot;</td><td>&quot;LC&quot;</td><td>&quot;JY274&quot;</td><td>&quot;CNRGT&quot;</td><td>&quot;CMN&quot;</td><td>&quot;ORY&quot;</td><td>&quot;CMN&quot;</td><td>&quot;ORY&quot;</td><td>&quot;CMN/ORY&quot;</td><td>&quot;CMN&quot;</td><td>&quot;PAR&quot;</td><td>&quot;ARR&quot;</td><td>&quot;J&quot;</td><td>2025-05-10</td><td>&quot;samedi&quot;</td><td>&quot;mai&quot;</td><td>&quot;11:20&quot;</td><td>2025-05-10</td><td>&quot;14:05&quot;</td><td>2025-05-10</td><td>&quot;12:45&quot;</td><td>2025-05-10</td><td>&quot;13:03&quot;</td><td>2025-05-10</td><td>&quot;15:14&quot;</td><td>2025-05-10</td><td>&quot;15:24&quot;</td><td>165</td><td>18</td><td>131</td><td>2.183333</td><td>10</td><td>159</td><td>2.65</td><td>&quot;-&quot;</td><td>&quot;NOEXT&quot;</td><td>6</td><td>&quot;79&quot;</td><td>&quot;R&quot;</td><td>&quot;1h&lt;=R&lt;2h&quot;</td><td>&quot;44&quot;</td><td>25</td><td>&quot;00&quot;</td><td>1899-12-31 00:00:00</td><td>&quot;00&quot;</td><td>&quot;00:00&quot;</td><td>44</td><td>&quot;TECHNIQIE&quot;</td><td>&quot;TEC&quot;</td><td>85</td><td>&quot;1h&lt;=R&lt;2h&quot;</td><td>&quot;1h&lt;=R&lt;2h&quot;</td><td>&quot;R&quot;</td><td>188</td><td>&quot;-&quot;</td><td>&quot;-&quot;</td><td>&quot;-&quot;</td><td>&quot;-&quot;</td><td>&quot;-&quot;</td><td>&quot;-&quot;</td><td>&quot;-&quot;</td><td>&quot;TEC&quot;</td><td>&quot;TECHNIQIE&quot;</td><td>&quot;Interne&quot;</td><td>&quot;AT&quot;</td><td>&quot;787&quot;</td><td>&quot;2025-04-29 to 2025-05-28&quot;</td></tr><tr><td>&quot;AT&quot;</td><td>&quot;0509&quot;</td><td>2025-03-30</td><td>&quot;AT&quot;</td><td>&quot;73H&quot;</td><td>&quot;MC&quot;</td><td>&quot;JY159&quot;</td><td>&quot;CNRGK&quot;</td><td>&quot;DLA&quot;</td><td>&quot;CMN&quot;</td><td>&quot;DLA&quot;</td><td>&quot;CMN&quot;</td><td>&quot;DLA/CMN&quot;</td><td>&quot;AFR&quot;</td><td>&quot;CMN&quot;</td><td>&quot;ARR&quot;</td><td>&quot;J&quot;</td><td>2025-03-31</td><td>&quot;lundi&quot;</td><td>&quot;mars&quot;</td><td>&quot;05:35&quot;</td><td>2025-03-31</td><td>&quot;10:55&quot;</td><td>2025-03-31</td><td>&quot;06:57&quot;</td><td>2025-03-31</td><td>&quot;07:12&quot;</td><td>2025-03-31</td><td>&quot;12:14&quot;</td><td>2025-03-31</td><td>&quot;12:21&quot;</td><td>320</td><td>15</td><td>302</td><td>5.033333</td><td>7</td><td>324</td><td>5.4</td><td>&quot;-&quot;</td><td>&quot;EXT&quot;</td><td>-4</td><td>&quot;86&quot;</td><td>&quot;R&quot;</td><td>&quot;1h&lt;=R&lt;2h&quot;</td><td>&quot;93&quot;</td><td>12</td><td>&quot;41&quot;</td><td>1899-12-31 01:10:00</td><td>&quot;00&quot;</td><td>&quot;00:00&quot;</td><td>41</td><td>&quot;TECHNIQIE&quot;</td><td>&quot;TEC&quot;</td><td>82</td><td>&quot;1h&lt;=R&lt;2h&quot;</td><td>&quot;1h&lt;=R&lt;2h&quot;</td><td>&quot;R&quot;</td><td>123</td><td>&quot;-&quot;</td><td>&quot;-&quot;</td><td>&quot;-&quot;</td><td>&quot;-&quot;</td><td>&quot;-&quot;</td><td>&quot;-&quot;</td><td>&quot;-&quot;</td><td>&quot;TEC&quot;</td><td>&quot;TECHNIQIE&quot;</td><td>&quot;Interne&quot;</td><td>&quot;AT&quot;</td><td>&quot;NG&quot;</td><td>&quot;2025-03-30 to 2025-04-28&quot;</td></tr><tr><td>&quot;AT&quot;</td><td>&quot;0509&quot;</td><td>2025-03-30</td><td>&quot;AT&quot;</td><td>&quot;73H&quot;</td><td>&quot;MC&quot;</td><td>&quot;JY159&quot;</td><td>&quot;CNRGK&quot;</td><td>&quot;DLA&quot;</td><td>&quot;CMN&quot;</td><td>&quot;DLA&quot;</td><td>&quot;CMN&quot;</td><td>&quot;DLA/CMN&quot;</td><td>&quot;AFR&quot;</td><td>&quot;CMN&quot;</td><td>&quot;ARR&quot;</td><td>&quot;J&quot;</td><td>2025-03-31</td><td>&quot;lundi&quot;</td><td>&quot;mars&quot;</td><td>&quot;05:35&quot;</td><td>2025-03-31</td><td>&quot;10:55&quot;</td><td>2025-03-31</td><td>&quot;06:57&quot;</td><td>2025-03-31</td><td>&quot;07:12&quot;</td><td>2025-03-31</td><td>&quot;12:14&quot;</td><td>2025-03-31</td><td>&quot;12:21&quot;</td><td>320</td><td>15</td><td>302</td><td>5.033333</td><td>7</td><td>324</td><td>5.4</td><td>&quot;-&quot;</td><td>&quot;EXT&quot;</td><td>-4</td><td>&quot;86&quot;</td><td>&quot;R&quot;</td><td>&quot;1h&lt;=R&lt;2h&quot;</td><td>&quot;93&quot;</td><td>12</td><td>&quot;41&quot;</td><td>1899-12-31 01:10:00</td><td>&quot;00&quot;</td><td>&quot;00:00&quot;</td><td>41</td><td>&quot;TECHNIQIE&quot;</td><td>&quot;TEC&quot;</td><td>82</td><td>&quot;1h&lt;=R&lt;2h&quot;</td><td>&quot;1h&lt;=R&lt;2h&quot;</td><td>&quot;R&quot;</td><td>123</td><td>&quot;-&quot;</td><td>&quot;-&quot;</td><td>&quot;-&quot;</td><td>&quot;-&quot;</td><td>&quot;-&quot;</td><td>&quot;-&quot;</td><td>&quot;-&quot;</td><td>&quot;TEC&quot;</td><td>&quot;TECHNIQIE&quot;</td><td>&quot;Interne&quot;</td><td>&quot;AT&quot;</td><td>&quot;NG&quot;</td><td>&quot;2025-03-30 to 2025-04-28&quot;</td></tr></tbody></table></div>"
      ],
      "text/plain": [
       "shape: (707, 71)\n",
       "┌───────────┬───────────┬───────────┬──────────┬───┬───────────┬───────────┬───────────┬───────────┐\n",
       "│ FN_CARRIE ┆ FN_NUMBER ┆ DAY_OF_OR ┆ AC_OWNER ┆ … ┆ Interne/E ┆ AT_RXP_AF ┆ GROUP_AVI ┆ time_peri │\n",
       "│ R         ┆ ---       ┆ IGIN      ┆ ---      ┆   ┆ xterne    ┆ FRT       ┆ ON        ┆ od        │\n",
       "│ ---       ┆ str       ┆ ---       ┆ str      ┆   ┆ ---       ┆ ---       ┆ ---       ┆ ---       │\n",
       "│ str       ┆           ┆ date      ┆          ┆   ┆ str       ┆ str       ┆ str       ┆ str       │\n",
       "╞═══════════╪═══════════╪═══════════╪══════════╪═══╪═══════════╪═══════════╪═══════════╪═══════════╡\n",
       "│ AT        ┆ 0470      ┆ 2025-03-3 ┆ RXP      ┆ … ┆ Interne   ┆ RAM       ┆ AT7       ┆ 2025-03-3 │\n",
       "│           ┆           ┆ 0         ┆          ┆   ┆           ┆ Express   ┆           ┆ 0 to 2025 │\n",
       "│           ┆           ┆           ┆          ┆   ┆           ┆           ┆           ┆ -04-28    │\n",
       "│ AT        ┆ 1436      ┆ 2025-03-3 ┆ RXP      ┆ … ┆ Interne   ┆ RAM       ┆ AT7       ┆ 2025-03-3 │\n",
       "│           ┆           ┆ 0         ┆          ┆   ┆           ┆ Express   ┆           ┆ 0 to 2025 │\n",
       "│           ┆           ┆           ┆          ┆   ┆           ┆           ┆           ┆ -04-28    │\n",
       "│ AT        ┆ 0413      ┆ 2025-03-3 ┆ RXP      ┆ … ┆ Interne   ┆ RAM       ┆ AT7       ┆ 2025-03-3 │\n",
       "│           ┆           ┆ 0         ┆          ┆   ┆           ┆ Express   ┆           ┆ 0 to 2025 │\n",
       "│           ┆           ┆           ┆          ┆   ┆           ┆           ┆           ┆ -04-28    │\n",
       "│ AT        ┆ 0210      ┆ 2025-03-3 ┆ AT       ┆ … ┆ Interne   ┆ AT        ┆ 787       ┆ 2025-03-3 │\n",
       "│           ┆           ┆ 0         ┆          ┆   ┆           ┆           ┆           ┆ 0 to 2025 │\n",
       "│           ┆           ┆           ┆          ┆   ┆           ┆           ┆           ┆ -04-28    │\n",
       "│ AT        ┆ 0509      ┆ 2025-03-3 ┆ AT       ┆ … ┆ Interne   ┆ AT        ┆ NG        ┆ 2025-03-3 │\n",
       "│           ┆           ┆ 0         ┆          ┆   ┆           ┆           ┆           ┆ 0 to 2025 │\n",
       "│           ┆           ┆           ┆          ┆   ┆           ┆           ┆           ┆ -04-28    │\n",
       "│ …         ┆ …         ┆ …         ┆ …        ┆ … ┆ …         ┆ …         ┆ …         ┆ …         │\n",
       "│ AT        ┆ 0764      ┆ 2025-05-1 ┆ AT       ┆ … ┆ Interne   ┆ AT        ┆ 787       ┆ 2025-04-2 │\n",
       "│           ┆           ┆ 0         ┆          ┆   ┆           ┆           ┆           ┆ 9 to 2025 │\n",
       "│           ┆           ┆           ┆          ┆   ┆           ┆           ┆           ┆ -05-28    │\n",
       "│ AT        ┆ 0764      ┆ 2025-05-1 ┆ AT       ┆ … ┆ Interne   ┆ AT        ┆ 787       ┆ 2025-04-2 │\n",
       "│           ┆           ┆ 0         ┆          ┆   ┆           ┆           ┆           ┆ 9 to 2025 │\n",
       "│           ┆           ┆           ┆          ┆   ┆           ┆           ┆           ┆ -05-28    │\n",
       "│ AT        ┆ 0764      ┆ 2025-05-1 ┆ AT       ┆ … ┆ Interne   ┆ AT        ┆ 787       ┆ 2025-04-2 │\n",
       "│           ┆           ┆ 0         ┆          ┆   ┆           ┆           ┆           ┆ 9 to 2025 │\n",
       "│           ┆           ┆           ┆          ┆   ┆           ┆           ┆           ┆ -05-28    │\n",
       "│ AT        ┆ 0509      ┆ 2025-03-3 ┆ AT       ┆ … ┆ Interne   ┆ AT        ┆ NG        ┆ 2025-03-3 │\n",
       "│           ┆           ┆ 0         ┆          ┆   ┆           ┆           ┆           ┆ 0 to 2025 │\n",
       "│           ┆           ┆           ┆          ┆   ┆           ┆           ┆           ┆ -04-28    │\n",
       "│ AT        ┆ 0509      ┆ 2025-03-3 ┆ AT       ┆ … ┆ Interne   ┆ AT        ┆ NG        ┆ 2025-03-3 │\n",
       "│           ┆           ┆ 0         ┆          ┆   ┆           ┆           ┆           ┆ 0 to 2025 │\n",
       "│           ┆           ┆           ┆          ┆   ┆           ┆           ┆           ┆ -04-28    │\n",
       "└───────────┴───────────┴───────────┴──────────┴───┴───────────┴───────────┴───────────┴───────────┘"
      ]
     },
     "execution_count": 4,
     "metadata": {},
     "output_type": "execute_result"
    }
   ],
   "source": [
    "tech_page.create_time_segments(df.collect(), dmin, dmax, 30)"
   ]
  },
  {
   "cell_type": "code",
   "execution_count": null,
   "id": "5c5823d3",
   "metadata": {},
   "outputs": [],
   "source": []
  }
 ],
 "metadata": {
  "kernelspec": {
   "display_name": "dashboard-Rs4ctTbj-py3.10",
   "language": "python",
   "name": "python3"
  },
  "language_info": {
   "codemirror_mode": {
    "name": "ipython",
    "version": 3
   },
   "file_extension": ".py",
   "mimetype": "text/x-python",
   "name": "python",
   "nbconvert_exporter": "python",
   "pygments_lexer": "ipython3",
   "version": "3.10.18"
  }
 },
 "nbformat": 4,
 "nbformat_minor": 5
}
