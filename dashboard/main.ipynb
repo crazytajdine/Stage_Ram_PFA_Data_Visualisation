{
 "cells": [
  {
   "cell_type": "code",
   "execution_count": 2,
   "id": "19794130",
   "metadata": {},
   "outputs": [],
   "source": [
    "from config import get_config_dir, get_data_dir"
   ]
  },
  {
   "cell_type": "code",
   "execution_count": 3,
   "id": "ae5db787",
   "metadata": {},
   "outputs": [
    {
     "name": "stdout",
     "output_type": "stream",
     "text": [
      "User config dir: C:\\Users\\tajdi\\AppData\\Local\\StagePFA\\DashboardApp\n",
      "User data dir: C:\\Users\\tajdi\\AppData\\Local\\StagePFA\\DashboardApp\n"
     ]
    }
   ],
   "source": [
    "print(\"User config dir:\", get_config_dir())\n",
    "print(\"User data dir:\", get_data_dir())"
   ]
  },
  {
   "cell_type": "code",
   "execution_count": null,
   "id": "9cd847b5",
   "metadata": {},
   "outputs": [],
   "source": []
  },
  {
   "cell_type": "code",
   "execution_count": null,
   "id": "2d51bff3",
   "metadata": {},
   "outputs": [],
   "source": []
  },
  {
   "cell_type": "code",
   "execution_count": null,
   "id": "ec4b33e9",
   "metadata": {},
   "outputs": [],
   "source": []
  }
 ],
 "metadata": {
  "kernelspec": {
   "display_name": "dashboard-rbGoJx3C-py3.13",
   "language": "python",
   "name": "python3"
  },
  "language_info": {
   "codemirror_mode": {
    "name": "ipython",
    "version": 3
   },
   "file_extension": ".py",
   "mimetype": "text/x-python",
   "name": "python",
   "nbconvert_exporter": "python",
   "pygments_lexer": "ipython3",
   "version": "3.13.5"
  }
 },
 "nbformat": 4,
 "nbformat_minor": 5
}
