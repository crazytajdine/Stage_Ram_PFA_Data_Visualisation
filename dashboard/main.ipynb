{
 "cells": [
  {
   "cell_type": "code",
   "execution_count": 1,
   "id": "61561334",
   "metadata": {},
   "outputs": [
    {
     "name": "stdout",
     "output_type": "stream",
     "text": [
      "Loading config from: C:\\Users\\tajdi\\OneDrive\\Documents\\GitHub\\Stage_Ram_PFA_Data_Visualisation\\config.toml\n",
      "Initializing server instance...\n",
      "Loading config from: C:\\Users\\tajdi\\AppData\\Local\\StagePFA\\DashboardApp\\config_data.toml\n"
     ]
    }
   ],
   "source": [
    "import polars as pl\n",
    "\n",
    "\n",
    "from excel_manager import (\n",
    "    get_df,\n",
    "    get_count_df,\n",
    "    COL_NAME_TOTAL_COUNT,\n",
    "    COL_NAME_WINDOW_TIME,\n",
    "    COL_NAME_DEPARTURE_DATETIME,\n",
    ")"
   ]
  },
  {
   "cell_type": "code",
   "execution_count": 2,
   "id": "634034ec",
   "metadata": {},
   "outputs": [],
   "source": [
    "COL_NAME_TOTAL_COUNT_FLIGHT_WITH_DELAY = \"flight_with_delay\"\n",
    "COL_NAME_TOTAL_COUNT_FLIGHT_WITH_DELAY_GTE_15MIN = \"flight_with_delay_gte_15min\"\n",
    "COL_NAME_TOTAL_COUNT_FLIGHT_WITH_DELAY_41_42_GTE_15MIN = (\n",
    "    \"flight_with_delay_gte_15min_code_41_42\"\n",
    ")\n",
    "COL_NAME_PER_DELAYED_FLIGHTS_15MIN_NOT_WITH_41_42 = (\n",
    "    \"per_delayed_flights_15min__not_with_41_42\"\n",
    ")\n",
    "COL_NAME_PER_DELAYED_FLIGHTS_NOT_WITH_15MIN = \"per_delayed_flights_not_with_15min\"\n",
    "COL_NAME_PER_FLIGHTS_NOT_DELAYED = \"per_flights_not_delayed\""
   ]
  },
  {
   "cell_type": "code",
   "execution_count": 3,
   "id": "f992a40a",
   "metadata": {},
   "outputs": [],
   "source": [
    "df = get_df()"
   ]
  },
  {
   "cell_type": "code",
   "execution_count": 4,
   "id": "01fb20e8",
   "metadata": {},
   "outputs": [],
   "source": [
    "window_str = \"3w\""
   ]
  },
  {
   "cell_type": "code",
   "execution_count": 5,
   "id": "a57275d8",
   "metadata": {},
   "outputs": [],
   "source": [
    "total_df = get_count_df(window_str)"
   ]
  },
  {
   "cell_type": "code",
   "execution_count": null,
   "id": "4f9af507",
   "metadata": {},
   "outputs": [],
   "source": []
  },
  {
   "cell_type": "code",
   "execution_count": 6,
   "id": "8813bf19",
   "metadata": {},
   "outputs": [
    {
     "data": {
      "text/html": [
       "<div><style>\n",
       ".dataframe > thead > tr,\n",
       ".dataframe > tbody > tr {\n",
       "  text-align: right;\n",
       "  white-space: pre-wrap;\n",
       "}\n",
       "</style>\n",
       "<small>shape: (5, 2)</small><table border=\"1\" class=\"dataframe\"><thead><tr><th>WINDOW_DATETIME_DEP</th><th>total_count</th></tr><tr><td>datetime[μs]</td><td>u32</td></tr></thead><tbody><tr><td>2025-03-17 00:00:00</td><td>1590</td></tr><tr><td>2025-04-07 00:00:00</td><td>4156</td></tr><tr><td>2025-04-28 00:00:00</td><td>4049</td></tr><tr><td>2025-05-19 00:00:00</td><td>4032</td></tr><tr><td>2025-06-09 00:00:00</td><td>3190</td></tr></tbody></table></div>"
      ],
      "text/plain": [
       "shape: (5, 2)\n",
       "┌─────────────────────┬─────────────┐\n",
       "│ WINDOW_DATETIME_DEP ┆ total_count │\n",
       "│ ---                 ┆ ---         │\n",
       "│ datetime[μs]        ┆ u32         │\n",
       "╞═════════════════════╪═════════════╡\n",
       "│ 2025-03-17 00:00:00 ┆ 1590        │\n",
       "│ 2025-04-07 00:00:00 ┆ 4156        │\n",
       "│ 2025-04-28 00:00:00 ┆ 4049        │\n",
       "│ 2025-05-19 00:00:00 ┆ 4032        │\n",
       "│ 2025-06-09 00:00:00 ┆ 3190        │\n",
       "└─────────────────────┴─────────────┘"
      ]
     },
     "execution_count": 6,
     "metadata": {},
     "output_type": "execute_result"
    }
   ],
   "source": [
    "total_df.sort(\"WINDOW_DATETIME_DEP\").collect()"
   ]
  },
  {
   "cell_type": "code",
   "execution_count": null,
   "id": "cd9c6ca8",
   "metadata": {},
   "outputs": [],
   "source": []
  },
  {
   "cell_type": "code",
   "execution_count": 7,
   "id": "b17356eb",
   "metadata": {},
   "outputs": [],
   "source": [
    "windowed_df = df.with_columns(\n",
    "    pl.col(COL_NAME_DEPARTURE_DATETIME)\n",
    "    .dt.truncate(window_str)\n",
    "    .alias(COL_NAME_WINDOW_TIME)\n",
    ")\n",
    "delayed_flights_count_df = windowed_df.group_by(COL_NAME_WINDOW_TIME).agg(\n",
    "    pl.len().alias(COL_NAME_TOTAL_COUNT_FLIGHT_WITH_DELAY)\n",
    ")"
   ]
  },
  {
   "cell_type": "code",
   "execution_count": 8,
   "id": "60c83c1f",
   "metadata": {},
   "outputs": [
    {
     "data": {
      "text/html": [
       "<div><style>\n",
       ".dataframe > thead > tr,\n",
       ".dataframe > tbody > tr {\n",
       "  text-align: right;\n",
       "  white-space: pre-wrap;\n",
       "}\n",
       "</style>\n",
       "<small>shape: (5, 2)</small><table border=\"1\" class=\"dataframe\"><thead><tr><th>WINDOW_DATETIME_DEP</th><th>flight_with_delay</th></tr><tr><td>datetime[μs]</td><td>u32</td></tr></thead><tbody><tr><td>2025-03-17 00:00:00</td><td>30</td></tr><tr><td>2025-04-07 00:00:00</td><td>89</td></tr><tr><td>2025-04-28 00:00:00</td><td>79</td></tr><tr><td>2025-05-19 00:00:00</td><td>97</td></tr><tr><td>2025-06-09 00:00:00</td><td>70</td></tr></tbody></table></div>"
      ],
      "text/plain": [
       "shape: (5, 2)\n",
       "┌─────────────────────┬───────────────────┐\n",
       "│ WINDOW_DATETIME_DEP ┆ flight_with_delay │\n",
       "│ ---                 ┆ ---               │\n",
       "│ datetime[μs]        ┆ u32               │\n",
       "╞═════════════════════╪═══════════════════╡\n",
       "│ 2025-03-17 00:00:00 ┆ 30                │\n",
       "│ 2025-04-07 00:00:00 ┆ 89                │\n",
       "│ 2025-04-28 00:00:00 ┆ 79                │\n",
       "│ 2025-05-19 00:00:00 ┆ 97                │\n",
       "│ 2025-06-09 00:00:00 ┆ 70                │\n",
       "└─────────────────────┴───────────────────┘"
      ]
     },
     "execution_count": 8,
     "metadata": {},
     "output_type": "execute_result"
    }
   ],
   "source": [
    "delayed_flights_count_df.sort(\"WINDOW_DATETIME_DEP\").collect()"
   ]
  },
  {
   "cell_type": "code",
   "execution_count": 9,
   "id": "c0298aae",
   "metadata": {},
   "outputs": [],
   "source": [
    "delayed_15min_df = windowed_df.filter((pl.col(\"Retard en min\") >= 15))\n",
    "delayed_15min_count_df = delayed_15min_df.group_by(COL_NAME_WINDOW_TIME).agg(\n",
    "    pl.len().alias(COL_NAME_TOTAL_COUNT_FLIGHT_WITH_DELAY_GTE_15MIN)\n",
    ")"
   ]
  },
  {
   "cell_type": "code",
   "execution_count": 10,
   "id": "6557bfb0",
   "metadata": {},
   "outputs": [
    {
     "data": {
      "text/html": [
       "<div><style>\n",
       ".dataframe > thead > tr,\n",
       ".dataframe > tbody > tr {\n",
       "  text-align: right;\n",
       "  white-space: pre-wrap;\n",
       "}\n",
       "</style>\n",
       "<small>shape: (5, 2)</small><table border=\"1\" class=\"dataframe\"><thead><tr><th>WINDOW_DATETIME_DEP</th><th>flight_with_delay_gte_15min</th></tr><tr><td>datetime[μs]</td><td>u32</td></tr></thead><tbody><tr><td>2025-03-17 00:00:00</td><td>22</td></tr><tr><td>2025-04-07 00:00:00</td><td>73</td></tr><tr><td>2025-04-28 00:00:00</td><td>69</td></tr><tr><td>2025-05-19 00:00:00</td><td>79</td></tr><tr><td>2025-06-09 00:00:00</td><td>51</td></tr></tbody></table></div>"
      ],
      "text/plain": [
       "shape: (5, 2)\n",
       "┌─────────────────────┬─────────────────────────────┐\n",
       "│ WINDOW_DATETIME_DEP ┆ flight_with_delay_gte_15min │\n",
       "│ ---                 ┆ ---                         │\n",
       "│ datetime[μs]        ┆ u32                         │\n",
       "╞═════════════════════╪═════════════════════════════╡\n",
       "│ 2025-03-17 00:00:00 ┆ 22                          │\n",
       "│ 2025-04-07 00:00:00 ┆ 73                          │\n",
       "│ 2025-04-28 00:00:00 ┆ 69                          │\n",
       "│ 2025-05-19 00:00:00 ┆ 79                          │\n",
       "│ 2025-06-09 00:00:00 ┆ 51                          │\n",
       "└─────────────────────┴─────────────────────────────┘"
      ]
     },
     "execution_count": 10,
     "metadata": {},
     "output_type": "execute_result"
    }
   ],
   "source": [
    "delayed_15min_count_df.sort(\"WINDOW_DATETIME_DEP\").collect()"
   ]
  },
  {
   "cell_type": "code",
   "execution_count": 11,
   "id": "119fc885",
   "metadata": {},
   "outputs": [],
   "source": [
    "delayed_flights_41_42_gte_15min_count_df = (\n",
    "    delayed_15min_df.filter(pl.col(\"CODE_DR\").is_in({41, 42}))\n",
    "    .group_by(COL_NAME_WINDOW_TIME)\n",
    "    .agg(pl.len().alias(COL_NAME_TOTAL_COUNT_FLIGHT_WITH_DELAY_41_42_GTE_15MIN))\n",
    ")"
   ]
  },
  {
   "cell_type": "code",
   "execution_count": 12,
   "id": "4410a2b6",
   "metadata": {},
   "outputs": [
    {
     "data": {
      "text/html": [
       "<div><style>\n",
       ".dataframe > thead > tr,\n",
       ".dataframe > tbody > tr {\n",
       "  text-align: right;\n",
       "  white-space: pre-wrap;\n",
       "}\n",
       "</style>\n",
       "<small>shape: (5, 2)</small><table border=\"1\" class=\"dataframe\"><thead><tr><th>WINDOW_DATETIME_DEP</th><th>flight_with_delay_gte_15min_code_41_42</th></tr><tr><td>datetime[μs]</td><td>u32</td></tr></thead><tbody><tr><td>2025-03-17 00:00:00</td><td>16</td></tr><tr><td>2025-04-07 00:00:00</td><td>50</td></tr><tr><td>2025-04-28 00:00:00</td><td>38</td></tr><tr><td>2025-05-19 00:00:00</td><td>55</td></tr><tr><td>2025-06-09 00:00:00</td><td>35</td></tr></tbody></table></div>"
      ],
      "text/plain": [
       "shape: (5, 2)\n",
       "┌─────────────────────┬─────────────────────────────────┐\n",
       "│ WINDOW_DATETIME_DEP ┆ flight_with_delay_gte_15min_co… │\n",
       "│ ---                 ┆ ---                             │\n",
       "│ datetime[μs]        ┆ u32                             │\n",
       "╞═════════════════════╪═════════════════════════════════╡\n",
       "│ 2025-03-17 00:00:00 ┆ 16                              │\n",
       "│ 2025-04-07 00:00:00 ┆ 50                              │\n",
       "│ 2025-04-28 00:00:00 ┆ 38                              │\n",
       "│ 2025-05-19 00:00:00 ┆ 55                              │\n",
       "│ 2025-06-09 00:00:00 ┆ 35                              │\n",
       "└─────────────────────┴─────────────────────────────────┘"
      ]
     },
     "execution_count": 12,
     "metadata": {},
     "output_type": "execute_result"
    }
   ],
   "source": [
    "delayed_flights_41_42_gte_15min_count_df.sort(\"WINDOW_DATETIME_DEP\").collect()"
   ]
  },
  {
   "cell_type": "code",
   "execution_count": null,
   "id": "c4cba264",
   "metadata": {},
   "outputs": [],
   "source": []
  },
  {
   "cell_type": "code",
   "execution_count": 13,
   "id": "17edf60a",
   "metadata": {},
   "outputs": [],
   "source": [
    "joined_df = (\n",
    "    total_df.join(delayed_flights_count_df, COL_NAME_WINDOW_TIME, how=\"left\")\n",
    "    .join(delayed_15min_count_df, COL_NAME_WINDOW_TIME, how=\"left\")\n",
    "    .join(delayed_flights_41_42_gte_15min_count_df, COL_NAME_WINDOW_TIME, how=\"left\")\n",
    ")"
   ]
  },
  {
   "cell_type": "code",
   "execution_count": 14,
   "id": "c2759b03",
   "metadata": {},
   "outputs": [
    {
     "data": {
      "text/html": [
       "<div><style>\n",
       ".dataframe > thead > tr,\n",
       ".dataframe > tbody > tr {\n",
       "  text-align: right;\n",
       "  white-space: pre-wrap;\n",
       "}\n",
       "</style>\n",
       "<small>shape: (5, 5)</small><table border=\"1\" class=\"dataframe\"><thead><tr><th>WINDOW_DATETIME_DEP</th><th>total_count</th><th>flight_with_delay</th><th>flight_with_delay_gte_15min</th><th>flight_with_delay_gte_15min_code_41_42</th></tr><tr><td>datetime[μs]</td><td>u32</td><td>u32</td><td>u32</td><td>u32</td></tr></thead><tbody><tr><td>2025-06-09 00:00:00</td><td>3190</td><td>70</td><td>51</td><td>35</td></tr><tr><td>2025-04-07 00:00:00</td><td>4156</td><td>89</td><td>73</td><td>50</td></tr><tr><td>2025-03-17 00:00:00</td><td>1590</td><td>30</td><td>22</td><td>16</td></tr><tr><td>2025-05-19 00:00:00</td><td>4032</td><td>97</td><td>79</td><td>55</td></tr><tr><td>2025-04-28 00:00:00</td><td>4049</td><td>79</td><td>69</td><td>38</td></tr></tbody></table></div>"
      ],
      "text/plain": [
       "shape: (5, 5)\n",
       "┌─────────────────────┬─────────────┬───────────────────┬─────────────────────┬────────────────────┐\n",
       "│ WINDOW_DATETIME_DEP ┆ total_count ┆ flight_with_delay ┆ flight_with_delay_g ┆ flight_with_delay_ │\n",
       "│ ---                 ┆ ---         ┆ ---               ┆ te_15min            ┆ gte_15min_co…      │\n",
       "│ datetime[μs]        ┆ u32         ┆ u32               ┆ ---                 ┆ ---                │\n",
       "│                     ┆             ┆                   ┆ u32                 ┆ u32                │\n",
       "╞═════════════════════╪═════════════╪═══════════════════╪═════════════════════╪════════════════════╡\n",
       "│ 2025-06-09 00:00:00 ┆ 3190        ┆ 70                ┆ 51                  ┆ 35                 │\n",
       "│ 2025-04-07 00:00:00 ┆ 4156        ┆ 89                ┆ 73                  ┆ 50                 │\n",
       "│ 2025-03-17 00:00:00 ┆ 1590        ┆ 30                ┆ 22                  ┆ 16                 │\n",
       "│ 2025-05-19 00:00:00 ┆ 4032        ┆ 97                ┆ 79                  ┆ 55                 │\n",
       "│ 2025-04-28 00:00:00 ┆ 4049        ┆ 79                ┆ 69                  ┆ 38                 │\n",
       "└─────────────────────┴─────────────┴───────────────────┴─────────────────────┴────────────────────┘"
      ]
     },
     "execution_count": 14,
     "metadata": {},
     "output_type": "execute_result"
    }
   ],
   "source": [
    "joined_df.collect()"
   ]
  },
  {
   "cell_type": "code",
   "execution_count": 15,
   "id": "c2716ff6",
   "metadata": {},
   "outputs": [],
   "source": [
    "joined_df_res = joined_df.with_columns(\n",
    "    [\n",
    "        ## delay\n",
    "        pl.lit(1)\n",
    "        .sub(\n",
    "            pl.col(COL_NAME_TOTAL_COUNT_FLIGHT_WITH_DELAY)\n",
    "            / (pl.col(COL_NAME_TOTAL_COUNT))\n",
    "        )\n",
    "        .alias(COL_NAME_PER_FLIGHTS_NOT_DELAYED),\n",
    "        ## delay > 15\n",
    "        (\n",
    "            pl.lit(1).sub(\n",
    "                pl.col(COL_NAME_TOTAL_COUNT_FLIGHT_WITH_DELAY_GTE_15MIN)\n",
    "                / (pl.col(COL_NAME_TOTAL_COUNT))\n",
    "            )\n",
    "        ).alias(COL_NAME_PER_DELAYED_FLIGHTS_NOT_WITH_15MIN),\n",
    "        ## delay > 15 min for 41 42\n",
    "        pl.lit(1)\n",
    "        .sub(\n",
    "            (\n",
    "                pl.col(COL_NAME_TOTAL_COUNT_FLIGHT_WITH_DELAY_41_42_GTE_15MIN)\n",
    "                / pl.col(COL_NAME_TOTAL_COUNT)\n",
    "            )\n",
    "        )\n",
    "        .alias(COL_NAME_PER_DELAYED_FLIGHTS_15MIN_NOT_WITH_41_42),\n",
    "    ]\n",
    ")"
   ]
  },
  {
   "cell_type": "code",
   "execution_count": 16,
   "id": "fefd36bc",
   "metadata": {},
   "outputs": [
    {
     "data": {
      "text/html": [
       "<div><style>\n",
       ".dataframe > thead > tr,\n",
       ".dataframe > tbody > tr {\n",
       "  text-align: right;\n",
       "  white-space: pre-wrap;\n",
       "}\n",
       "</style>\n",
       "<small>shape: (5, 8)</small><table border=\"1\" class=\"dataframe\"><thead><tr><th>WINDOW_DATETIME_DEP</th><th>total_count</th><th>flight_with_delay</th><th>flight_with_delay_gte_15min</th><th>flight_with_delay_gte_15min_code_41_42</th><th>per_flights_not_delayed</th><th>per_delayed_flights_not_with_15min</th><th>per_delayed_flights_15min__not_with_41_42</th></tr><tr><td>datetime[μs]</td><td>u32</td><td>u32</td><td>u32</td><td>u32</td><td>f64</td><td>f64</td><td>f64</td></tr></thead><tbody><tr><td>2025-05-19 00:00:00</td><td>4032</td><td>97</td><td>79</td><td>55</td><td>0.975942</td><td>0.980407</td><td>0.986359</td></tr><tr><td>2025-06-09 00:00:00</td><td>3190</td><td>70</td><td>51</td><td>35</td><td>0.978056</td><td>0.984013</td><td>0.989028</td></tr><tr><td>2025-04-07 00:00:00</td><td>4156</td><td>89</td><td>73</td><td>50</td><td>0.978585</td><td>0.982435</td><td>0.987969</td></tr><tr><td>2025-04-28 00:00:00</td><td>4049</td><td>79</td><td>69</td><td>38</td><td>0.980489</td><td>0.982959</td><td>0.990615</td></tr><tr><td>2025-03-17 00:00:00</td><td>1590</td><td>30</td><td>22</td><td>16</td><td>0.981132</td><td>0.986164</td><td>0.989937</td></tr></tbody></table></div>"
      ],
      "text/plain": [
       "shape: (5, 8)\n",
       "┌────────────┬────────────┬────────────┬───────────┬───────────┬───────────┬───────────┬───────────┐\n",
       "│ WINDOW_DAT ┆ total_coun ┆ flight_wit ┆ flight_wi ┆ flight_wi ┆ per_fligh ┆ per_delay ┆ per_delay │\n",
       "│ ETIME_DEP  ┆ t          ┆ h_delay    ┆ th_delay_ ┆ th_delay_ ┆ ts_not_de ┆ ed_flight ┆ ed_flight │\n",
       "│ ---        ┆ ---        ┆ ---        ┆ gte_15min ┆ gte_15min ┆ layed     ┆ s_not_wit ┆ s_15min__ │\n",
       "│ datetime[μ ┆ u32        ┆ u32        ┆ ---       ┆ _co…      ┆ ---       ┆ h_1…      ┆ not…      │\n",
       "│ s]         ┆            ┆            ┆ u32       ┆ ---       ┆ f64       ┆ ---       ┆ ---       │\n",
       "│            ┆            ┆            ┆           ┆ u32       ┆           ┆ f64       ┆ f64       │\n",
       "╞════════════╪════════════╪════════════╪═══════════╪═══════════╪═══════════╪═══════════╪═══════════╡\n",
       "│ 2025-05-19 ┆ 4032       ┆ 97         ┆ 79        ┆ 55        ┆ 0.975942  ┆ 0.980407  ┆ 0.986359  │\n",
       "│ 00:00:00   ┆            ┆            ┆           ┆           ┆           ┆           ┆           │\n",
       "│ 2025-06-09 ┆ 3190       ┆ 70         ┆ 51        ┆ 35        ┆ 0.978056  ┆ 0.984013  ┆ 0.989028  │\n",
       "│ 00:00:00   ┆            ┆            ┆           ┆           ┆           ┆           ┆           │\n",
       "│ 2025-04-07 ┆ 4156       ┆ 89         ┆ 73        ┆ 50        ┆ 0.978585  ┆ 0.982435  ┆ 0.987969  │\n",
       "│ 00:00:00   ┆            ┆            ┆           ┆           ┆           ┆           ┆           │\n",
       "│ 2025-04-28 ┆ 4049       ┆ 79         ┆ 69        ┆ 38        ┆ 0.980489  ┆ 0.982959  ┆ 0.990615  │\n",
       "│ 00:00:00   ┆            ┆            ┆           ┆           ┆           ┆           ┆           │\n",
       "│ 2025-03-17 ┆ 1590       ┆ 30         ┆ 22        ┆ 16        ┆ 0.981132  ┆ 0.986164  ┆ 0.989937  │\n",
       "│ 00:00:00   ┆            ┆            ┆           ┆           ┆           ┆           ┆           │\n",
       "└────────────┴────────────┴────────────┴───────────┴───────────┴───────────┴───────────┴───────────┘"
      ]
     },
     "execution_count": 16,
     "metadata": {},
     "output_type": "execute_result"
    }
   ],
   "source": [
    "joined_df_res.collect()"
   ]
  },
  {
   "cell_type": "code",
   "execution_count": 17,
   "id": "df5c4ccb",
   "metadata": {},
   "outputs": [],
   "source": [
    "joined_df_res_2 = joined_df.with_columns(\n",
    "    [\n",
    "        ## delay\n",
    "        (\n",
    "            (\n",
    "                pl.col(COL_NAME_TOTAL_COUNT)\n",
    "                - pl.col(COL_NAME_TOTAL_COUNT_FLIGHT_WITH_DELAY)\n",
    "            ).cast(pl.Float64)\n",
    "            / pl.col(COL_NAME_TOTAL_COUNT)\n",
    "        ).alias(COL_NAME_PER_FLIGHTS_NOT_DELAYED),\n",
    "        ## delay > 15\n",
    "        (\n",
    "            (\n",
    "                pl.col(COL_NAME_TOTAL_COUNT)\n",
    "                - pl.col(COL_NAME_TOTAL_COUNT_FLIGHT_WITH_DELAY_GTE_15MIN)\n",
    "            )\n",
    "            / pl.col(COL_NAME_TOTAL_COUNT)\n",
    "        ).alias(COL_NAME_PER_DELAYED_FLIGHTS_NOT_WITH_15MIN),\n",
    "        ## delay > 15 min for 41 42\n",
    "        (\n",
    "            (\n",
    "                pl.col(COL_NAME_TOTAL_COUNT)\n",
    "                - pl.col(COL_NAME_TOTAL_COUNT_FLIGHT_WITH_DELAY_41_42_GTE_15MIN)\n",
    "            )\n",
    "            / pl.col(COL_NAME_TOTAL_COUNT)\n",
    "        ).alias(COL_NAME_PER_DELAYED_FLIGHTS_15MIN_NOT_WITH_41_42),\n",
    "    ]\n",
    ")"
   ]
  },
  {
   "cell_type": "code",
   "execution_count": 18,
   "id": "0a1b667a",
   "metadata": {},
   "outputs": [
    {
     "data": {
      "text/html": [
       "<div><style>\n",
       ".dataframe > thead > tr,\n",
       ".dataframe > tbody > tr {\n",
       "  text-align: right;\n",
       "  white-space: pre-wrap;\n",
       "}\n",
       "</style>\n",
       "<small>shape: (5, 8)</small><table border=\"1\" class=\"dataframe\"><thead><tr><th>WINDOW_DATETIME_DEP</th><th>total_count</th><th>flight_with_delay</th><th>flight_with_delay_gte_15min</th><th>flight_with_delay_gte_15min_code_41_42</th><th>per_flights_not_delayed</th><th>per_delayed_flights_not_with_15min</th><th>per_delayed_flights_15min__not_with_41_42</th></tr><tr><td>datetime[μs]</td><td>u32</td><td>u32</td><td>u32</td><td>u32</td><td>f64</td><td>f64</td><td>f64</td></tr></thead><tbody><tr><td>2025-04-28 00:00:00</td><td>4049</td><td>79</td><td>69</td><td>38</td><td>0.980489</td><td>0.982959</td><td>0.990615</td></tr><tr><td>2025-03-17 00:00:00</td><td>1590</td><td>30</td><td>22</td><td>16</td><td>0.981132</td><td>0.986164</td><td>0.989937</td></tr><tr><td>2025-04-07 00:00:00</td><td>4156</td><td>89</td><td>73</td><td>50</td><td>0.978585</td><td>0.982435</td><td>0.987969</td></tr><tr><td>2025-05-19 00:00:00</td><td>4032</td><td>97</td><td>79</td><td>55</td><td>0.975942</td><td>0.980407</td><td>0.986359</td></tr><tr><td>2025-06-09 00:00:00</td><td>3190</td><td>70</td><td>51</td><td>35</td><td>0.978056</td><td>0.984013</td><td>0.989028</td></tr></tbody></table></div>"
      ],
      "text/plain": [
       "shape: (5, 8)\n",
       "┌────────────┬────────────┬────────────┬───────────┬───────────┬───────────┬───────────┬───────────┐\n",
       "│ WINDOW_DAT ┆ total_coun ┆ flight_wit ┆ flight_wi ┆ flight_wi ┆ per_fligh ┆ per_delay ┆ per_delay │\n",
       "│ ETIME_DEP  ┆ t          ┆ h_delay    ┆ th_delay_ ┆ th_delay_ ┆ ts_not_de ┆ ed_flight ┆ ed_flight │\n",
       "│ ---        ┆ ---        ┆ ---        ┆ gte_15min ┆ gte_15min ┆ layed     ┆ s_not_wit ┆ s_15min__ │\n",
       "│ datetime[μ ┆ u32        ┆ u32        ┆ ---       ┆ _co…      ┆ ---       ┆ h_1…      ┆ not…      │\n",
       "│ s]         ┆            ┆            ┆ u32       ┆ ---       ┆ f64       ┆ ---       ┆ ---       │\n",
       "│            ┆            ┆            ┆           ┆ u32       ┆           ┆ f64       ┆ f64       │\n",
       "╞════════════╪════════════╪════════════╪═══════════╪═══════════╪═══════════╪═══════════╪═══════════╡\n",
       "│ 2025-04-28 ┆ 4049       ┆ 79         ┆ 69        ┆ 38        ┆ 0.980489  ┆ 0.982959  ┆ 0.990615  │\n",
       "│ 00:00:00   ┆            ┆            ┆           ┆           ┆           ┆           ┆           │\n",
       "│ 2025-03-17 ┆ 1590       ┆ 30         ┆ 22        ┆ 16        ┆ 0.981132  ┆ 0.986164  ┆ 0.989937  │\n",
       "│ 00:00:00   ┆            ┆            ┆           ┆           ┆           ┆           ┆           │\n",
       "│ 2025-04-07 ┆ 4156       ┆ 89         ┆ 73        ┆ 50        ┆ 0.978585  ┆ 0.982435  ┆ 0.987969  │\n",
       "│ 00:00:00   ┆            ┆            ┆           ┆           ┆           ┆           ┆           │\n",
       "│ 2025-05-19 ┆ 4032       ┆ 97         ┆ 79        ┆ 55        ┆ 0.975942  ┆ 0.980407  ┆ 0.986359  │\n",
       "│ 00:00:00   ┆            ┆            ┆           ┆           ┆           ┆           ┆           │\n",
       "│ 2025-06-09 ┆ 3190       ┆ 70         ┆ 51        ┆ 35        ┆ 0.978056  ┆ 0.984013  ┆ 0.989028  │\n",
       "│ 00:00:00   ┆            ┆            ┆           ┆           ┆           ┆           ┆           │\n",
       "└────────────┴────────────┴────────────┴───────────┴───────────┴───────────┴───────────┴───────────┘"
      ]
     },
     "execution_count": 18,
     "metadata": {},
     "output_type": "execute_result"
    }
   ],
   "source": [
    "joined_df_res_2.collect()"
   ]
  },
  {
   "cell_type": "code",
   "execution_count": 24,
   "id": "ccc80878",
   "metadata": {},
   "outputs": [
    {
     "data": {
      "text/plain": [
       "[datetime.datetime(2025, 4, 28, 0, 0),\n",
       " datetime.datetime(2025, 5, 19, 0, 0),\n",
       " datetime.datetime(2025, 6, 9, 0, 0),\n",
       " datetime.datetime(2025, 3, 17, 0, 0),\n",
       " datetime.datetime(2025, 4, 7, 0, 0)]"
      ]
     },
     "execution_count": 24,
     "metadata": {},
     "output_type": "execute_result"
    }
   ],
   "source": [
    "joined_df_res_2.select(COL_NAME_WINDOW_TIME).collect().to_series().to_list()"
   ]
  },
  {
   "cell_type": "code",
   "execution_count": 20,
   "id": "b30a0929",
   "metadata": {},
   "outputs": [
    {
     "data": {
      "text/html": [
       "<div><style>\n",
       ".dataframe > thead > tr,\n",
       ".dataframe > tbody > tr {\n",
       "  text-align: right;\n",
       "  white-space: pre-wrap;\n",
       "}\n",
       "</style>\n",
       "<small>shape: (5, 5)</small><table border=\"1\" class=\"dataframe\"><thead><tr><th>WINDOW_DATETIME_DEP</th><th>total_count</th><th>flight_with_delay</th><th>flight_with_delay_gte_15min</th><th>flight_with_delay_gte_15min_code_41_42</th></tr><tr><td>datetime[μs]</td><td>u32</td><td>u32</td><td>u32</td><td>u32</td></tr></thead><tbody><tr><td>2025-04-07 00:00:00</td><td>4156</td><td>89</td><td>73</td><td>50</td></tr><tr><td>2025-06-09 00:00:00</td><td>3190</td><td>70</td><td>51</td><td>35</td></tr><tr><td>2025-04-28 00:00:00</td><td>4049</td><td>79</td><td>69</td><td>38</td></tr><tr><td>2025-03-17 00:00:00</td><td>1590</td><td>30</td><td>22</td><td>16</td></tr><tr><td>2025-05-19 00:00:00</td><td>4032</td><td>97</td><td>79</td><td>55</td></tr></tbody></table></div>"
      ],
      "text/plain": [
       "shape: (5, 5)\n",
       "┌─────────────────────┬─────────────┬───────────────────┬─────────────────────┬────────────────────┐\n",
       "│ WINDOW_DATETIME_DEP ┆ total_count ┆ flight_with_delay ┆ flight_with_delay_g ┆ flight_with_delay_ │\n",
       "│ ---                 ┆ ---         ┆ ---               ┆ te_15min            ┆ gte_15min_co…      │\n",
       "│ datetime[μs]        ┆ u32         ┆ u32               ┆ ---                 ┆ ---                │\n",
       "│                     ┆             ┆                   ┆ u32                 ┆ u32                │\n",
       "╞═════════════════════╪═════════════╪═══════════════════╪═════════════════════╪════════════════════╡\n",
       "│ 2025-04-07 00:00:00 ┆ 4156        ┆ 89                ┆ 73                  ┆ 50                 │\n",
       "│ 2025-06-09 00:00:00 ┆ 3190        ┆ 70                ┆ 51                  ┆ 35                 │\n",
       "│ 2025-04-28 00:00:00 ┆ 4049        ┆ 79                ┆ 69                  ┆ 38                 │\n",
       "│ 2025-03-17 00:00:00 ┆ 1590        ┆ 30                ┆ 22                  ┆ 16                 │\n",
       "│ 2025-05-19 00:00:00 ┆ 4032        ┆ 97                ┆ 79                  ┆ 55                 │\n",
       "└─────────────────────┴─────────────┴───────────────────┴─────────────────────┴────────────────────┘"
      ]
     },
     "execution_count": 20,
     "metadata": {},
     "output_type": "execute_result"
    }
   ],
   "source": [
    "joined_df.collect()"
   ]
  },
  {
   "cell_type": "markdown",
   "id": "c73204ba",
   "metadata": {},
   "source": [
    "# normal\n"
   ]
  },
  {
   "cell_type": "code",
   "execution_count": 21,
   "id": "7e104c5f",
   "metadata": {},
   "outputs": [],
   "source": [
    "delayed_flights_count_df = df.select(\n",
    "    pl.len().alias(COL_NAME_TOTAL_COUNT_FLIGHT_WITH_DELAY)\n",
    ")\n",
    "\n",
    "delayed_15min_df = df.filter((pl.col(\"Retard en min\") >= 15))\n",
    "delayed_15min_count_df = delayed_15min_df.select(\n",
    "    pl.len().alias(COL_NAME_TOTAL_COUNT_FLIGHT_WITH_DELAY_GTE_15MIN)\n",
    ")"
   ]
  },
  {
   "cell_type": "code",
   "execution_count": 22,
   "id": "eacc2e43",
   "metadata": {},
   "outputs": [
    {
     "data": {
      "text/html": [
       "<div><style>\n",
       ".dataframe > thead > tr,\n",
       ".dataframe > tbody > tr {\n",
       "  text-align: right;\n",
       "  white-space: pre-wrap;\n",
       "}\n",
       "</style>\n",
       "<small>shape: (5, 5)</small><table border=\"1\" class=\"dataframe\"><thead><tr><th>WINDOW_DATETIME_DEP</th><th>total_count</th><th>flight_with_delay</th><th>flight_with_delay_gte_15min</th><th>flight_with_delay_gte_15min_code_41_42</th></tr><tr><td>datetime[μs]</td><td>u32</td><td>u32</td><td>u32</td><td>u32</td></tr></thead><tbody><tr><td>2025-06-09 00:00:00</td><td>3190</td><td>70</td><td>51</td><td>35</td></tr><tr><td>2025-04-07 00:00:00</td><td>4156</td><td>89</td><td>73</td><td>50</td></tr><tr><td>2025-04-28 00:00:00</td><td>4049</td><td>79</td><td>69</td><td>38</td></tr><tr><td>2025-03-17 00:00:00</td><td>1590</td><td>30</td><td>22</td><td>16</td></tr><tr><td>2025-05-19 00:00:00</td><td>4032</td><td>97</td><td>79</td><td>55</td></tr></tbody></table></div>"
      ],
      "text/plain": [
       "shape: (5, 5)\n",
       "┌─────────────────────┬─────────────┬───────────────────┬─────────────────────┬────────────────────┐\n",
       "│ WINDOW_DATETIME_DEP ┆ total_count ┆ flight_with_delay ┆ flight_with_delay_g ┆ flight_with_delay_ │\n",
       "│ ---                 ┆ ---         ┆ ---               ┆ te_15min            ┆ gte_15min_co…      │\n",
       "│ datetime[μs]        ┆ u32         ┆ u32               ┆ ---                 ┆ ---                │\n",
       "│                     ┆             ┆                   ┆ u32                 ┆ u32                │\n",
       "╞═════════════════════╪═════════════╪═══════════════════╪═════════════════════╪════════════════════╡\n",
       "│ 2025-06-09 00:00:00 ┆ 3190        ┆ 70                ┆ 51                  ┆ 35                 │\n",
       "│ 2025-04-07 00:00:00 ┆ 4156        ┆ 89                ┆ 73                  ┆ 50                 │\n",
       "│ 2025-04-28 00:00:00 ┆ 4049        ┆ 79                ┆ 69                  ┆ 38                 │\n",
       "│ 2025-03-17 00:00:00 ┆ 1590        ┆ 30                ┆ 22                  ┆ 16                 │\n",
       "│ 2025-05-19 00:00:00 ┆ 4032        ┆ 97                ┆ 79                  ┆ 55                 │\n",
       "└─────────────────────┴─────────────┴───────────────────┴─────────────────────┴────────────────────┘"
      ]
     },
     "execution_count": 22,
     "metadata": {},
     "output_type": "execute_result"
    }
   ],
   "source": [
    "delayed_flights_41_42_gte_15min_count_df = delayed_15min_df.filter(\n",
    "    (pl.col(\"CODE_DR\").is_in({41, 42}))\n",
    ").select(pl.len().alias(COL_NAME_TOTAL_COUNT_FLIGHT_WITH_DELAY_41_42_GTE_15MIN))\n",
    "\n",
    "\n",
    "joined_df.collect()"
   ]
  },
  {
   "cell_type": "code",
   "execution_count": 23,
   "id": "7a8df9de",
   "metadata": {},
   "outputs": [
    {
     "ename": "AttributeError",
     "evalue": "'LazyFrame' object has no attribute 'item'",
     "output_type": "error",
     "traceback": [
      "\u001b[31m---------------------------------------------------------------------------\u001b[39m",
      "\u001b[31mAttributeError\u001b[39m                            Traceback (most recent call last)",
      "\u001b[36mCell\u001b[39m\u001b[36m \u001b[39m\u001b[32mIn[23]\u001b[39m\u001b[32m, line 1\u001b[39m\n\u001b[32m----> \u001b[39m\u001b[32m1\u001b[39m count_flight = \u001b[43mjoined_df\u001b[49m\u001b[43m.\u001b[49m\u001b[43mselect\u001b[49m\u001b[43m(\u001b[49m\u001b[43mpl\u001b[49m\u001b[43m.\u001b[49m\u001b[43mcol\u001b[49m\u001b[43m(\u001b[49m\u001b[43mCOL_NAME_TOTAL_COUNT\u001b[49m\u001b[43m)\u001b[49m\u001b[43m)\u001b[49m\u001b[43m.\u001b[49m\u001b[43mitem\u001b[49m()\n\u001b[32m      2\u001b[39m count_flight_with_delay = joined_df.select(\n\u001b[32m      3\u001b[39m     pl.col(COL_NAME_TOTAL_COUNT_FLIGHT_WITH_DELAY)\n\u001b[32m      4\u001b[39m ).item()\n\u001b[32m      5\u001b[39m count_flight_with_delay_gte_15min = joined_df.select(\n\u001b[32m      6\u001b[39m     pl.col(COL_NAME_TOTAL_COUNT_FLIGHT_WITH_DELAY_GTE_15MIN)\n\u001b[32m      7\u001b[39m ).item()\n",
      "\u001b[31mAttributeError\u001b[39m: 'LazyFrame' object has no attribute 'item'"
     ]
    }
   ],
   "source": [
    "count_flight = joined_df.select(pl.col(COL_NAME_TOTAL_COUNT)).item()\n",
    "count_flight_with_delay = joined_df.select(\n",
    "    pl.col(COL_NAME_TOTAL_COUNT_FLIGHT_WITH_DELAY)\n",
    ").item()\n",
    "count_flight_with_delay_gte_15min = joined_df.select(\n",
    "    pl.col(COL_NAME_TOTAL_COUNT_FLIGHT_WITH_DELAY_GTE_15MIN)\n",
    ").item()\n",
    "count_flight_with_delay_gte_15min_41_42 = joined_df.select(\n",
    "    pl.col(COL_NAME_TOTAL_COUNT_FLIGHT_WITH_DELAY_41_42_GTE_15MIN)\n",
    ").item()"
   ]
  },
  {
   "cell_type": "code",
   "execution_count": null,
   "id": "0150f8b5",
   "metadata": {},
   "outputs": [],
   "source": [
    "# first graph\n",
    "\n",
    "per_delayed_flights_15min__not_with_41_42 = 1 - (\n",
    "    count_flight_with_delay_gte_15min_41_42 / count_flight\n",
    ")\n",
    "\n",
    "# second graph\n",
    "\n",
    "## first op (15 min)\n",
    "per_delayed_flights_not_with_15min = 1 - (\n",
    "    count_flight_with_delay_gte_15min / count_flight\n",
    ")\n",
    "\n",
    "\n",
    "## second op\n",
    "\n",
    "per_flights_not_delayed = 1 - (count_flight_with_delay / count_flight)\n",
    "\n",
    "\n",
    "# third graph"
   ]
  },
  {
   "cell_type": "code",
   "execution_count": null,
   "id": "18aee283",
   "metadata": {},
   "outputs": [],
   "source": []
  },
  {
   "cell_type": "code",
   "execution_count": null,
   "id": "017edcc1",
   "metadata": {},
   "outputs": [],
   "source": [
    "import polars as pl\n",
    "from datetime import timedelta\n",
    "\n",
    "\n",
    "df_window = pl.col(\"DateTime\").dt.truncate(timedelta(weeks=1))\n",
    "\n",
    "df_windowed = df.group_by(df_window).agg(pl.len())"
   ]
  },
  {
   "cell_type": "code",
   "execution_count": null,
   "id": "c65e9773",
   "metadata": {},
   "outputs": [],
   "source": []
  }
 ],
 "metadata": {
  "kernelspec": {
   "display_name": "dashboard-gd99mBky-py3.13",
   "language": "python",
   "name": "python3"
  },
  "language_info": {
   "codemirror_mode": {
    "name": "ipython",
    "version": 3
   },
   "file_extension": ".py",
   "mimetype": "text/x-python",
   "name": "python",
   "nbconvert_exporter": "python",
   "pygments_lexer": "ipython3",
   "version": "3.13.5"
  }
 },
 "nbformat": 4,
 "nbformat_minor": 5
}
