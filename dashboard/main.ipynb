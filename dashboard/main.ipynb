{
 "cells": [
  {
   "cell_type": "code",
   "execution_count": 61,
   "id": "61561334",
   "metadata": {},
   "outputs": [],
   "source": [
    "import polars as pl\n",
    "\n",
    "\n",
    "from excel_manager import (\n",
    "    get_df,\n",
    "    get_count_df,\n",
    "    COL_NAME_TOTAL_COUNT,\n",
    "    COL_NAME_WINDOW_TIME,\n",
    "    COL_NAME_DEPARTURE_DATETIME,\n",
    ")"
   ]
  },
  {
   "cell_type": "code",
   "execution_count": 62,
   "id": "634034ec",
   "metadata": {},
   "outputs": [],
   "source": [
    "COL_NAME_TOTAL_COUNT_FLIGHT_WITH_DELAY = \"flight_with_delay\"\n",
    "COL_NAME_TOTAL_COUNT_FLIGHT_WITH_DELAY_GTE_15MIN = \"flight_with_delay_gte_15min\"\n",
    "COL_NAME_TOTAL_COUNT_FLIGHT_WITH_DELAY_41_42_GTE_15MIN = (\n",
    "    \"flight_with_delay_gte_15min_code_41_42\"\n",
    ")\n",
    "COL_NAME_PER_DELAYED_FLIGHTS_15MIN_NOT_WITH_41_42 = (\n",
    "    \"per_delayed_flights_15min__not_with_41_42\"\n",
    ")\n",
    "COL_NAME_PER_DELAYED_FLIGHTS_NOT_WITH_15MIN = \"per_delayed_flights_not_with_15min\"\n",
    "COL_NAME_PER_FLIGHTS_NOT_DELAYED = \"per_flights_not_delayed\""
   ]
  },
  {
   "cell_type": "code",
   "execution_count": 63,
   "id": "f992a40a",
   "metadata": {},
   "outputs": [],
   "source": [
    "df = get_df()"
   ]
  },
  {
   "cell_type": "code",
   "execution_count": 64,
   "id": "01fb20e8",
   "metadata": {},
   "outputs": [],
   "source": [
    "window_str = \"\""
   ]
  },
  {
   "cell_type": "code",
   "execution_count": 65,
   "id": "a57275d8",
   "metadata": {},
   "outputs": [],
   "source": [
    "total_df = get_count_df(window_str)"
   ]
  },
  {
   "cell_type": "code",
   "execution_count": null,
   "id": "4f9af507",
   "metadata": {},
   "outputs": [],
   "source": []
  },
  {
   "cell_type": "code",
   "execution_count": 66,
   "id": "8813bf19",
   "metadata": {},
   "outputs": [
    {
     "data": {
      "text/html": [
       "<div><style>\n",
       ".dataframe > thead > tr,\n",
       ".dataframe > tbody > tr {\n",
       "  text-align: right;\n",
       "  white-space: pre-wrap;\n",
       "}\n",
       "</style>\n",
       "<small>shape: (1, 1)</small><table border=\"1\" class=\"dataframe\"><thead><tr><th>total_count</th></tr><tr><td>u32</td></tr></thead><tbody><tr><td>17017</td></tr></tbody></table></div>"
      ],
      "text/plain": [
       "shape: (1, 1)\n",
       "┌─────────────┐\n",
       "│ total_count │\n",
       "│ ---         │\n",
       "│ u32         │\n",
       "╞═════════════╡\n",
       "│ 17017       │\n",
       "└─────────────┘"
      ]
     },
     "execution_count": 66,
     "metadata": {},
     "output_type": "execute_result"
    }
   ],
   "source": [
    "total_df.collect()"
   ]
  },
  {
   "cell_type": "code",
   "execution_count": null,
   "id": "cd9c6ca8",
   "metadata": {},
   "outputs": [],
   "source": []
  },
  {
   "cell_type": "code",
   "execution_count": 67,
   "id": "b17356eb",
   "metadata": {},
   "outputs": [],
   "source": [
    "windowed_df = df.with_columns(\n",
    "    pl.col(COL_NAME_DEPARTURE_DATETIME)\n",
    "    .dt.truncate(window_str)\n",
    "    .alias(COL_NAME_WINDOW_TIME)\n",
    ")\n",
    "delayed_flights_count_df = windowed_df.group_by(COL_NAME_WINDOW_TIME).agg(\n",
    "    pl.len().alias(COL_NAME_TOTAL_COUNT_FLIGHT_WITH_DELAY)\n",
    ")"
   ]
  },
  {
   "cell_type": "code",
   "execution_count": 68,
   "id": "60c83c1f",
   "metadata": {},
   "outputs": [
    {
     "ename": "PanicException",
     "evalue": "attempt to calculate the remainder with a divisor of zero",
     "output_type": "error",
     "traceback": [
      "\u001b[31m---------------------------------------------------------------------------\u001b[39m",
      "\u001b[31mPanicException\u001b[39m                            Traceback (most recent call last)",
      "\u001b[36mCell\u001b[39m\u001b[36m \u001b[39m\u001b[32mIn[68]\u001b[39m\u001b[32m, line 1\u001b[39m\n\u001b[32m----> \u001b[39m\u001b[32m1\u001b[39m \u001b[43mdelayed_flights_count_df\u001b[49m\u001b[43m.\u001b[49m\u001b[43msort\u001b[49m\u001b[43m(\u001b[49m\u001b[33;43m\"\u001b[39;49m\u001b[33;43mWINDOW_DATETIME_DEP\u001b[39;49m\u001b[33;43m\"\u001b[39;49m\u001b[43m)\u001b[49m\u001b[43m.\u001b[49m\u001b[43mcollect\u001b[49m\u001b[43m(\u001b[49m\u001b[43m)\u001b[49m\n",
      "\u001b[36mFile \u001b[39m\u001b[32mc:\\Users\\tajdi\\AppData\\Local\\pypoetry\\Cache\\virtualenvs\\dashboard-gd99mBky-py3.13\\Lib\\site-packages\\polars\\_utils\\deprecation.py:97\u001b[39m, in \u001b[36mdeprecate_streaming_parameter.<locals>.decorate.<locals>.wrapper\u001b[39m\u001b[34m(*args, **kwargs)\u001b[39m\n\u001b[32m     93\u001b[39m         kwargs[\u001b[33m\"\u001b[39m\u001b[33mengine\u001b[39m\u001b[33m\"\u001b[39m] = \u001b[33m\"\u001b[39m\u001b[33min-memory\u001b[39m\u001b[33m\"\u001b[39m\n\u001b[32m     95\u001b[39m     \u001b[38;5;28;01mdel\u001b[39;00m kwargs[\u001b[33m\"\u001b[39m\u001b[33mstreaming\u001b[39m\u001b[33m\"\u001b[39m]\n\u001b[32m---> \u001b[39m\u001b[32m97\u001b[39m \u001b[38;5;28;01mreturn\u001b[39;00m \u001b[43mfunction\u001b[49m\u001b[43m(\u001b[49m\u001b[43m*\u001b[49m\u001b[43margs\u001b[49m\u001b[43m,\u001b[49m\u001b[43m \u001b[49m\u001b[43m*\u001b[49m\u001b[43m*\u001b[49m\u001b[43mkwargs\u001b[49m\u001b[43m)\u001b[49m\n",
      "\u001b[36mFile \u001b[39m\u001b[32mc:\\Users\\tajdi\\AppData\\Local\\pypoetry\\Cache\\virtualenvs\\dashboard-gd99mBky-py3.13\\Lib\\site-packages\\polars\\lazyframe\\opt_flags.py:330\u001b[39m, in \u001b[36mforward_old_opt_flags.<locals>.decorate.<locals>.wrapper\u001b[39m\u001b[34m(*args, **kwargs)\u001b[39m\n\u001b[32m    327\u001b[39m         optflags = cb(optflags, kwargs.pop(key))  \u001b[38;5;66;03m# type: ignore[no-untyped-call,unused-ignore]\u001b[39;00m\n\u001b[32m    329\u001b[39m kwargs[\u001b[33m\"\u001b[39m\u001b[33moptimizations\u001b[39m\u001b[33m\"\u001b[39m] = optflags\n\u001b[32m--> \u001b[39m\u001b[32m330\u001b[39m \u001b[38;5;28;01mreturn\u001b[39;00m \u001b[43mfunction\u001b[49m\u001b[43m(\u001b[49m\u001b[43m*\u001b[49m\u001b[43margs\u001b[49m\u001b[43m,\u001b[49m\u001b[43m \u001b[49m\u001b[43m*\u001b[49m\u001b[43m*\u001b[49m\u001b[43mkwargs\u001b[49m\u001b[43m)\u001b[49m\n",
      "\u001b[36mFile \u001b[39m\u001b[32mc:\\Users\\tajdi\\AppData\\Local\\pypoetry\\Cache\\virtualenvs\\dashboard-gd99mBky-py3.13\\Lib\\site-packages\\polars\\lazyframe\\frame.py:2332\u001b[39m, in \u001b[36mLazyFrame.collect\u001b[39m\u001b[34m(self, type_coercion, predicate_pushdown, projection_pushdown, simplify_expression, slice_pushdown, comm_subplan_elim, comm_subexpr_elim, cluster_with_columns, collapse_joins, no_optimization, engine, background, optimizations, **_kwargs)\u001b[39m\n\u001b[32m   2330\u001b[39m \u001b[38;5;66;03m# Only for testing purposes\u001b[39;00m\n\u001b[32m   2331\u001b[39m callback = _kwargs.get(\u001b[33m\"\u001b[39m\u001b[33mpost_opt_callback\u001b[39m\u001b[33m\"\u001b[39m, callback)\n\u001b[32m-> \u001b[39m\u001b[32m2332\u001b[39m \u001b[38;5;28;01mreturn\u001b[39;00m wrap_df(\u001b[43mldf\u001b[49m\u001b[43m.\u001b[49m\u001b[43mcollect\u001b[49m\u001b[43m(\u001b[49m\u001b[43mengine\u001b[49m\u001b[43m,\u001b[49m\u001b[43m \u001b[49m\u001b[43mcallback\u001b[49m\u001b[43m)\u001b[49m)\n",
      "\u001b[31mPanicException\u001b[39m: attempt to calculate the remainder with a divisor of zero"
     ]
    }
   ],
   "source": [
    "delayed_flights_count_df.sort(\"WINDOW_DATETIME_DEP\").collect()"
   ]
  },
  {
   "cell_type": "code",
   "execution_count": 69,
   "id": "c0298aae",
   "metadata": {},
   "outputs": [],
   "source": [
    "delayed_15min_df = windowed_df.filter((pl.col(\"Retard en min\") >= 15))\n",
    "delayed_15min_count_df = delayed_15min_df.group_by(COL_NAME_WINDOW_TIME).agg(\n",
    "    pl.len().alias(COL_NAME_TOTAL_COUNT_FLIGHT_WITH_DELAY_GTE_15MIN)\n",
    ")"
   ]
  },
  {
   "cell_type": "code",
   "execution_count": 70,
   "id": "6557bfb0",
   "metadata": {},
   "outputs": [
    {
     "ename": "PanicException",
     "evalue": "attempt to calculate the remainder with a divisor of zero",
     "output_type": "error",
     "traceback": [
      "\u001b[31m---------------------------------------------------------------------------\u001b[39m",
      "\u001b[31mPanicException\u001b[39m                            Traceback (most recent call last)",
      "\u001b[36mCell\u001b[39m\u001b[36m \u001b[39m\u001b[32mIn[70]\u001b[39m\u001b[32m, line 1\u001b[39m\n\u001b[32m----> \u001b[39m\u001b[32m1\u001b[39m \u001b[43mdelayed_15min_count_df\u001b[49m\u001b[43m.\u001b[49m\u001b[43msort\u001b[49m\u001b[43m(\u001b[49m\u001b[33;43m\"\u001b[39;49m\u001b[33;43mWINDOW_DATETIME_DEP\u001b[39;49m\u001b[33;43m\"\u001b[39;49m\u001b[43m)\u001b[49m\u001b[43m.\u001b[49m\u001b[43mcollect\u001b[49m\u001b[43m(\u001b[49m\u001b[43m)\u001b[49m\n",
      "\u001b[36mFile \u001b[39m\u001b[32mc:\\Users\\tajdi\\AppData\\Local\\pypoetry\\Cache\\virtualenvs\\dashboard-gd99mBky-py3.13\\Lib\\site-packages\\polars\\_utils\\deprecation.py:97\u001b[39m, in \u001b[36mdeprecate_streaming_parameter.<locals>.decorate.<locals>.wrapper\u001b[39m\u001b[34m(*args, **kwargs)\u001b[39m\n\u001b[32m     93\u001b[39m         kwargs[\u001b[33m\"\u001b[39m\u001b[33mengine\u001b[39m\u001b[33m\"\u001b[39m] = \u001b[33m\"\u001b[39m\u001b[33min-memory\u001b[39m\u001b[33m\"\u001b[39m\n\u001b[32m     95\u001b[39m     \u001b[38;5;28;01mdel\u001b[39;00m kwargs[\u001b[33m\"\u001b[39m\u001b[33mstreaming\u001b[39m\u001b[33m\"\u001b[39m]\n\u001b[32m---> \u001b[39m\u001b[32m97\u001b[39m \u001b[38;5;28;01mreturn\u001b[39;00m \u001b[43mfunction\u001b[49m\u001b[43m(\u001b[49m\u001b[43m*\u001b[49m\u001b[43margs\u001b[49m\u001b[43m,\u001b[49m\u001b[43m \u001b[49m\u001b[43m*\u001b[49m\u001b[43m*\u001b[49m\u001b[43mkwargs\u001b[49m\u001b[43m)\u001b[49m\n",
      "\u001b[36mFile \u001b[39m\u001b[32mc:\\Users\\tajdi\\AppData\\Local\\pypoetry\\Cache\\virtualenvs\\dashboard-gd99mBky-py3.13\\Lib\\site-packages\\polars\\lazyframe\\opt_flags.py:330\u001b[39m, in \u001b[36mforward_old_opt_flags.<locals>.decorate.<locals>.wrapper\u001b[39m\u001b[34m(*args, **kwargs)\u001b[39m\n\u001b[32m    327\u001b[39m         optflags = cb(optflags, kwargs.pop(key))  \u001b[38;5;66;03m# type: ignore[no-untyped-call,unused-ignore]\u001b[39;00m\n\u001b[32m    329\u001b[39m kwargs[\u001b[33m\"\u001b[39m\u001b[33moptimizations\u001b[39m\u001b[33m\"\u001b[39m] = optflags\n\u001b[32m--> \u001b[39m\u001b[32m330\u001b[39m \u001b[38;5;28;01mreturn\u001b[39;00m \u001b[43mfunction\u001b[49m\u001b[43m(\u001b[49m\u001b[43m*\u001b[49m\u001b[43margs\u001b[49m\u001b[43m,\u001b[49m\u001b[43m \u001b[49m\u001b[43m*\u001b[49m\u001b[43m*\u001b[49m\u001b[43mkwargs\u001b[49m\u001b[43m)\u001b[49m\n",
      "\u001b[36mFile \u001b[39m\u001b[32mc:\\Users\\tajdi\\AppData\\Local\\pypoetry\\Cache\\virtualenvs\\dashboard-gd99mBky-py3.13\\Lib\\site-packages\\polars\\lazyframe\\frame.py:2332\u001b[39m, in \u001b[36mLazyFrame.collect\u001b[39m\u001b[34m(self, type_coercion, predicate_pushdown, projection_pushdown, simplify_expression, slice_pushdown, comm_subplan_elim, comm_subexpr_elim, cluster_with_columns, collapse_joins, no_optimization, engine, background, optimizations, **_kwargs)\u001b[39m\n\u001b[32m   2330\u001b[39m \u001b[38;5;66;03m# Only for testing purposes\u001b[39;00m\n\u001b[32m   2331\u001b[39m callback = _kwargs.get(\u001b[33m\"\u001b[39m\u001b[33mpost_opt_callback\u001b[39m\u001b[33m\"\u001b[39m, callback)\n\u001b[32m-> \u001b[39m\u001b[32m2332\u001b[39m \u001b[38;5;28;01mreturn\u001b[39;00m wrap_df(\u001b[43mldf\u001b[49m\u001b[43m.\u001b[49m\u001b[43mcollect\u001b[49m\u001b[43m(\u001b[49m\u001b[43mengine\u001b[49m\u001b[43m,\u001b[49m\u001b[43m \u001b[49m\u001b[43mcallback\u001b[49m\u001b[43m)\u001b[49m)\n",
      "\u001b[31mPanicException\u001b[39m: attempt to calculate the remainder with a divisor of zero"
     ]
    }
   ],
   "source": [
    "delayed_15min_count_df.sort(\"WINDOW_DATETIME_DEP\").collect()"
   ]
  },
  {
   "cell_type": "code",
   "execution_count": 11,
   "id": "119fc885",
   "metadata": {},
   "outputs": [],
   "source": [
    "delayed_flights_41_42_gte_15min_count_df = (\n",
    "    delayed_15min_df.filter(pl.col(\"CODE_DR\").is_in({41, 42}))\n",
    "    .group_by(COL_NAME_WINDOW_TIME)\n",
    "    .agg(pl.len().alias(COL_NAME_TOTAL_COUNT_FLIGHT_WITH_DELAY_41_42_GTE_15MIN))\n",
    ")"
   ]
  },
  {
   "cell_type": "code",
   "execution_count": 12,
   "id": "4410a2b6",
   "metadata": {},
   "outputs": [
    {
     "data": {
      "text/html": [
       "<div><style>\n",
       ".dataframe > thead > tr,\n",
       ".dataframe > tbody > tr {\n",
       "  text-align: right;\n",
       "  white-space: pre-wrap;\n",
       "}\n",
       "</style>\n",
       "<small>shape: (74, 2)</small><table border=\"1\" class=\"dataframe\"><thead><tr><th>WINDOW_DATETIME_DEP</th><th>flight_with_delay_gte_15min_code_41_42</th></tr><tr><td>datetime[μs]</td><td>u32</td></tr></thead><tbody><tr><td>2025-03-30 00:00:00</td><td>2</td></tr><tr><td>2025-03-31 00:00:00</td><td>2</td></tr><tr><td>2025-04-01 00:00:00</td><td>2</td></tr><tr><td>2025-04-02 00:00:00</td><td>2</td></tr><tr><td>2025-04-03 00:00:00</td><td>3</td></tr><tr><td>&hellip;</td><td>&hellip;</td></tr><tr><td>2025-06-20 00:00:00</td><td>1</td></tr><tr><td>2025-06-21 00:00:00</td><td>1</td></tr><tr><td>2025-06-22 00:00:00</td><td>5</td></tr><tr><td>2025-06-23 00:00:00</td><td>4</td></tr><tr><td>2025-06-24 00:00:00</td><td>1</td></tr></tbody></table></div>"
      ],
      "text/plain": [
       "shape: (74, 2)\n",
       "┌─────────────────────┬─────────────────────────────────┐\n",
       "│ WINDOW_DATETIME_DEP ┆ flight_with_delay_gte_15min_co… │\n",
       "│ ---                 ┆ ---                             │\n",
       "│ datetime[μs]        ┆ u32                             │\n",
       "╞═════════════════════╪═════════════════════════════════╡\n",
       "│ 2025-03-30 00:00:00 ┆ 2                               │\n",
       "│ 2025-03-31 00:00:00 ┆ 2                               │\n",
       "│ 2025-04-01 00:00:00 ┆ 2                               │\n",
       "│ 2025-04-02 00:00:00 ┆ 2                               │\n",
       "│ 2025-04-03 00:00:00 ┆ 3                               │\n",
       "│ …                   ┆ …                               │\n",
       "│ 2025-06-20 00:00:00 ┆ 1                               │\n",
       "│ 2025-06-21 00:00:00 ┆ 1                               │\n",
       "│ 2025-06-22 00:00:00 ┆ 5                               │\n",
       "│ 2025-06-23 00:00:00 ┆ 4                               │\n",
       "│ 2025-06-24 00:00:00 ┆ 1                               │\n",
       "└─────────────────────┴─────────────────────────────────┘"
      ]
     },
     "execution_count": 12,
     "metadata": {},
     "output_type": "execute_result"
    }
   ],
   "source": [
    "delayed_flights_41_42_gte_15min_count_df.sort(\"WINDOW_DATETIME_DEP\").collect()"
   ]
  },
  {
   "cell_type": "code",
   "execution_count": null,
   "id": "c4cba264",
   "metadata": {},
   "outputs": [],
   "source": []
  },
  {
   "cell_type": "code",
   "execution_count": 13,
   "id": "17edf60a",
   "metadata": {},
   "outputs": [],
   "source": [
    "joined_df = (\n",
    "    total_df.join(delayed_flights_count_df, COL_NAME_WINDOW_TIME, how=\"left\")\n",
    "    .join(delayed_15min_count_df, COL_NAME_WINDOW_TIME, how=\"left\")\n",
    "    .join(delayed_flights_41_42_gte_15min_count_df, COL_NAME_WINDOW_TIME, how=\"left\")\n",
    "    .fill_null(0)\n",
    ")"
   ]
  },
  {
   "cell_type": "code",
   "execution_count": 14,
   "id": "c2759b03",
   "metadata": {},
   "outputs": [
    {
     "data": {
      "text/html": [
       "<div><style>\n",
       ".dataframe > thead > tr,\n",
       ".dataframe > tbody > tr {\n",
       "  text-align: right;\n",
       "  white-space: pre-wrap;\n",
       "}\n",
       "</style>\n",
       "<small>shape: (87, 5)</small><table border=\"1\" class=\"dataframe\"><thead><tr><th>WINDOW_DATETIME_DEP</th><th>total_count</th><th>flight_with_delay</th><th>flight_with_delay_gte_15min</th><th>flight_with_delay_gte_15min_code_41_42</th></tr><tr><td>datetime[μs]</td><td>u32</td><td>u32</td><td>u32</td><td>u32</td></tr></thead><tbody><tr><td>2025-05-09 00:00:00</td><td>209</td><td>5</td><td>4</td><td>3</td></tr><tr><td>2025-04-21 00:00:00</td><td>200</td><td>4</td><td>4</td><td>3</td></tr><tr><td>2025-06-07 00:00:00</td><td>194</td><td>6</td><td>5</td><td>4</td></tr><tr><td>2025-04-03 00:00:00</td><td>199</td><td>3</td><td>3</td><td>3</td></tr><tr><td>2025-05-20 00:00:00</td><td>167</td><td>4</td><td>3</td><td>1</td></tr><tr><td>&hellip;</td><td>&hellip;</td><td>&hellip;</td><td>&hellip;</td><td>&hellip;</td></tr><tr><td>2025-05-27 00:00:00</td><td>154</td><td>5</td><td>5</td><td>4</td></tr><tr><td>2025-05-16 00:00:00</td><td>214</td><td>7</td><td>6</td><td>3</td></tr><tr><td>2025-04-28 00:00:00</td><td>191</td><td>1</td><td>0</td><td>0</td></tr><tr><td>2025-06-14 00:00:00</td><td>205</td><td>4</td><td>3</td><td>3</td></tr><tr><td>2025-04-10 00:00:00</td><td>196</td><td>2</td><td>2</td><td>1</td></tr></tbody></table></div>"
      ],
      "text/plain": [
       "shape: (87, 5)\n",
       "┌─────────────────────┬─────────────┬───────────────────┬─────────────────────┬────────────────────┐\n",
       "│ WINDOW_DATETIME_DEP ┆ total_count ┆ flight_with_delay ┆ flight_with_delay_g ┆ flight_with_delay_ │\n",
       "│ ---                 ┆ ---         ┆ ---               ┆ te_15min            ┆ gte_15min_co…      │\n",
       "│ datetime[μs]        ┆ u32         ┆ u32               ┆ ---                 ┆ ---                │\n",
       "│                     ┆             ┆                   ┆ u32                 ┆ u32                │\n",
       "╞═════════════════════╪═════════════╪═══════════════════╪═════════════════════╪════════════════════╡\n",
       "│ 2025-05-09 00:00:00 ┆ 209         ┆ 5                 ┆ 4                   ┆ 3                  │\n",
       "│ 2025-04-21 00:00:00 ┆ 200         ┆ 4                 ┆ 4                   ┆ 3                  │\n",
       "│ 2025-06-07 00:00:00 ┆ 194         ┆ 6                 ┆ 5                   ┆ 4                  │\n",
       "│ 2025-04-03 00:00:00 ┆ 199         ┆ 3                 ┆ 3                   ┆ 3                  │\n",
       "│ 2025-05-20 00:00:00 ┆ 167         ┆ 4                 ┆ 3                   ┆ 1                  │\n",
       "│ …                   ┆ …           ┆ …                 ┆ …                   ┆ …                  │\n",
       "│ 2025-05-27 00:00:00 ┆ 154         ┆ 5                 ┆ 5                   ┆ 4                  │\n",
       "│ 2025-05-16 00:00:00 ┆ 214         ┆ 7                 ┆ 6                   ┆ 3                  │\n",
       "│ 2025-04-28 00:00:00 ┆ 191         ┆ 1                 ┆ 0                   ┆ 0                  │\n",
       "│ 2025-06-14 00:00:00 ┆ 205         ┆ 4                 ┆ 3                   ┆ 3                  │\n",
       "│ 2025-04-10 00:00:00 ┆ 196         ┆ 2                 ┆ 2                   ┆ 1                  │\n",
       "└─────────────────────┴─────────────┴───────────────────┴─────────────────────┴────────────────────┘"
      ]
     },
     "execution_count": 14,
     "metadata": {},
     "output_type": "execute_result"
    }
   ],
   "source": [
    "joined_df.collect()"
   ]
  },
  {
   "cell_type": "code",
   "execution_count": 15,
   "id": "c2716ff6",
   "metadata": {},
   "outputs": [],
   "source": [
    "joined_df_res = joined_df.with_columns(\n",
    "    [\n",
    "        ## delay\n",
    "        pl.lit(1)\n",
    "        .sub(\n",
    "            pl.col(COL_NAME_TOTAL_COUNT_FLIGHT_WITH_DELAY)\n",
    "            / (pl.col(COL_NAME_TOTAL_COUNT))\n",
    "        )\n",
    "        .alias(COL_NAME_PER_FLIGHTS_NOT_DELAYED),\n",
    "        ## delay > 15\n",
    "        (\n",
    "            pl.lit(1).sub(\n",
    "                pl.col(COL_NAME_TOTAL_COUNT_FLIGHT_WITH_DELAY_GTE_15MIN)\n",
    "                / (pl.col(COL_NAME_TOTAL_COUNT))\n",
    "            )\n",
    "        ).alias(COL_NAME_PER_DELAYED_FLIGHTS_NOT_WITH_15MIN),\n",
    "        ## delay > 15 min for 41 42\n",
    "        pl.lit(1)\n",
    "        .sub(\n",
    "            (\n",
    "                pl.col(COL_NAME_TOTAL_COUNT_FLIGHT_WITH_DELAY_41_42_GTE_15MIN)\n",
    "                / pl.col(COL_NAME_TOTAL_COUNT)\n",
    "            )\n",
    "        )\n",
    "        .alias(COL_NAME_PER_DELAYED_FLIGHTS_15MIN_NOT_WITH_41_42),\n",
    "    ]\n",
    ")"
   ]
  },
  {
   "cell_type": "code",
   "execution_count": 16,
   "id": "967afd96",
   "metadata": {},
   "outputs": [],
   "source": [
    "joined_df_res = joined_df.sort(COL_NAME_WINDOW_TIME)"
   ]
  },
  {
   "cell_type": "code",
   "execution_count": 29,
   "id": "fefd36bc",
   "metadata": {},
   "outputs": [
    {
     "data": {
      "text/html": [
       "<div><style>\n",
       ".dataframe > thead > tr,\n",
       ".dataframe > tbody > tr {\n",
       "  text-align: right;\n",
       "  white-space: pre-wrap;\n",
       "}\n",
       "</style>\n",
       "<small>shape: (87, 5)</small><table border=\"1\" class=\"dataframe\"><thead><tr><th>WINDOW_DATETIME_DEP</th><th>total_count</th><th>flight_with_delay</th><th>flight_with_delay_gte_15min</th><th>flight_with_delay_gte_15min_code_41_42</th></tr><tr><td>datetime[μs]</td><td>u32</td><td>u32</td><td>u32</td><td>u32</td></tr></thead><tbody><tr><td>2025-03-30 00:00:00</td><td>197</td><td>2</td><td>2</td><td>2</td></tr><tr><td>2025-03-31 00:00:00</td><td>190</td><td>3</td><td>3</td><td>2</td></tr><tr><td>2025-04-01 00:00:00</td><td>161</td><td>4</td><td>2</td><td>2</td></tr><tr><td>2025-04-02 00:00:00</td><td>193</td><td>5</td><td>4</td><td>2</td></tr><tr><td>2025-04-03 00:00:00</td><td>199</td><td>3</td><td>3</td><td>3</td></tr><tr><td>&hellip;</td><td>&hellip;</td><td>&hellip;</td><td>&hellip;</td><td>&hellip;</td></tr><tr><td>2025-06-20 00:00:00</td><td>217</td><td>7</td><td>4</td><td>1</td></tr><tr><td>2025-06-21 00:00:00</td><td>204</td><td>1</td><td>1</td><td>1</td></tr><tr><td>2025-06-22 00:00:00</td><td>225</td><td>6</td><td>6</td><td>5</td></tr><tr><td>2025-06-23 00:00:00</td><td>215</td><td>8</td><td>6</td><td>4</td></tr><tr><td>2025-06-24 00:00:00</td><td>194</td><td>2</td><td>1</td><td>1</td></tr></tbody></table></div>"
      ],
      "text/plain": [
       "shape: (87, 5)\n",
       "┌─────────────────────┬─────────────┬───────────────────┬─────────────────────┬────────────────────┐\n",
       "│ WINDOW_DATETIME_DEP ┆ total_count ┆ flight_with_delay ┆ flight_with_delay_g ┆ flight_with_delay_ │\n",
       "│ ---                 ┆ ---         ┆ ---               ┆ te_15min            ┆ gte_15min_co…      │\n",
       "│ datetime[μs]        ┆ u32         ┆ u32               ┆ ---                 ┆ ---                │\n",
       "│                     ┆             ┆                   ┆ u32                 ┆ u32                │\n",
       "╞═════════════════════╪═════════════╪═══════════════════╪═════════════════════╪════════════════════╡\n",
       "│ 2025-03-30 00:00:00 ┆ 197         ┆ 2                 ┆ 2                   ┆ 2                  │\n",
       "│ 2025-03-31 00:00:00 ┆ 190         ┆ 3                 ┆ 3                   ┆ 2                  │\n",
       "│ 2025-04-01 00:00:00 ┆ 161         ┆ 4                 ┆ 2                   ┆ 2                  │\n",
       "│ 2025-04-02 00:00:00 ┆ 193         ┆ 5                 ┆ 4                   ┆ 2                  │\n",
       "│ 2025-04-03 00:00:00 ┆ 199         ┆ 3                 ┆ 3                   ┆ 3                  │\n",
       "│ …                   ┆ …           ┆ …                 ┆ …                   ┆ …                  │\n",
       "│ 2025-06-20 00:00:00 ┆ 217         ┆ 7                 ┆ 4                   ┆ 1                  │\n",
       "│ 2025-06-21 00:00:00 ┆ 204         ┆ 1                 ┆ 1                   ┆ 1                  │\n",
       "│ 2025-06-22 00:00:00 ┆ 225         ┆ 6                 ┆ 6                   ┆ 5                  │\n",
       "│ 2025-06-23 00:00:00 ┆ 215         ┆ 8                 ┆ 6                   ┆ 4                  │\n",
       "│ 2025-06-24 00:00:00 ┆ 194         ┆ 2                 ┆ 1                   ┆ 1                  │\n",
       "└─────────────────────┴─────────────┴───────────────────┴─────────────────────┴────────────────────┘"
      ]
     },
     "execution_count": 29,
     "metadata": {},
     "output_type": "execute_result"
    }
   ],
   "source": [
    "joined_df_res.collect()"
   ]
  },
  {
   "cell_type": "code",
   "execution_count": 34,
   "id": "4e470e39",
   "metadata": {},
   "outputs": [],
   "source": [
    "latest_values = joined_df_res.collect().select(pl.col(COL_NAME_TOTAL_COUNT).tail(2))"
   ]
  },
  {
   "cell_type": "code",
   "execution_count": 41,
   "id": "ae3b140c",
   "metadata": {},
   "outputs": [
    {
     "data": {
      "text/html": [
       "<div><style>\n",
       ".dataframe > thead > tr,\n",
       ".dataframe > tbody > tr {\n",
       "  text-align: right;\n",
       "  white-space: pre-wrap;\n",
       "}\n",
       "</style>\n",
       "<small>shape: (2, 1)</small><table border=\"1\" class=\"dataframe\"><thead><tr><th>total_count</th></tr><tr><td>u32</td></tr></thead><tbody><tr><td>215</td></tr><tr><td>194</td></tr></tbody></table></div>"
      ],
      "text/plain": [
       "shape: (2, 1)\n",
       "┌─────────────┐\n",
       "│ total_count │\n",
       "│ ---         │\n",
       "│ u32         │\n",
       "╞═════════════╡\n",
       "│ 215         │\n",
       "│ 194         │\n",
       "└─────────────┘"
      ]
     },
     "execution_count": 41,
     "metadata": {},
     "output_type": "execute_result"
    }
   ],
   "source": [
    "latest_values"
   ]
  },
  {
   "cell_type": "code",
   "execution_count": 39,
   "id": "22b41c63",
   "metadata": {},
   "outputs": [],
   "source": [
    "year, before = latest_values.to_series().to_list()"
   ]
  },
  {
   "cell_type": "code",
   "execution_count": 40,
   "id": "b2928b73",
   "metadata": {},
   "outputs": [
    {
     "data": {
      "text/plain": [
       "215"
      ]
     },
     "execution_count": 40,
     "metadata": {},
     "output_type": "execute_result"
    }
   ],
   "source": [
    "year"
   ]
  },
  {
   "cell_type": "code",
   "execution_count": 18,
   "id": "df5c4ccb",
   "metadata": {},
   "outputs": [],
   "source": [
    "joined_df_res_2 = joined_df.with_columns(\n",
    "    [\n",
    "        ## delay\n",
    "        (\n",
    "            (\n",
    "                pl.col(COL_NAME_TOTAL_COUNT)\n",
    "                - pl.col(COL_NAME_TOTAL_COUNT_FLIGHT_WITH_DELAY)\n",
    "            ).cast(pl.Float64)\n",
    "            / pl.col(COL_NAME_TOTAL_COUNT)\n",
    "        ).alias(COL_NAME_PER_FLIGHTS_NOT_DELAYED),\n",
    "        ## delay > 15\n",
    "        (\n",
    "            (\n",
    "                pl.col(COL_NAME_TOTAL_COUNT)\n",
    "                - pl.col(COL_NAME_TOTAL_COUNT_FLIGHT_WITH_DELAY_GTE_15MIN)\n",
    "            )\n",
    "            / pl.col(COL_NAME_TOTAL_COUNT)\n",
    "        ).alias(COL_NAME_PER_DELAYED_FLIGHTS_NOT_WITH_15MIN),\n",
    "        ## delay > 15 min for 41 42\n",
    "        (\n",
    "            (\n",
    "                pl.col(COL_NAME_TOTAL_COUNT)\n",
    "                - pl.col(COL_NAME_TOTAL_COUNT_FLIGHT_WITH_DELAY_41_42_GTE_15MIN)\n",
    "            )\n",
    "            / pl.col(COL_NAME_TOTAL_COUNT)\n",
    "        ).alias(COL_NAME_PER_DELAYED_FLIGHTS_15MIN_NOT_WITH_41_42),\n",
    "    ]\n",
    ")"
   ]
  },
  {
   "cell_type": "code",
   "execution_count": 19,
   "id": "0a1b667a",
   "metadata": {},
   "outputs": [
    {
     "data": {
      "text/html": [
       "<div><style>\n",
       ".dataframe > thead > tr,\n",
       ".dataframe > tbody > tr {\n",
       "  text-align: right;\n",
       "  white-space: pre-wrap;\n",
       "}\n",
       "</style>\n",
       "<small>shape: (87, 8)</small><table border=\"1\" class=\"dataframe\"><thead><tr><th>WINDOW_DATETIME_DEP</th><th>total_count</th><th>flight_with_delay</th><th>flight_with_delay_gte_15min</th><th>flight_with_delay_gte_15min_code_41_42</th><th>per_flights_not_delayed</th><th>per_delayed_flights_not_with_15min</th><th>per_delayed_flights_15min__not_with_41_42</th></tr><tr><td>datetime[μs]</td><td>u32</td><td>u32</td><td>u32</td><td>u32</td><td>f64</td><td>f64</td><td>f64</td></tr></thead><tbody><tr><td>2025-06-07 00:00:00</td><td>194</td><td>6</td><td>5</td><td>4</td><td>0.969072</td><td>0.974227</td><td>0.979381</td></tr><tr><td>2025-04-21 00:00:00</td><td>200</td><td>4</td><td>4</td><td>3</td><td>0.98</td><td>0.98</td><td>0.985</td></tr><tr><td>2025-04-03 00:00:00</td><td>199</td><td>3</td><td>3</td><td>3</td><td>0.984925</td><td>0.984925</td><td>0.984925</td></tr><tr><td>2025-05-09 00:00:00</td><td>209</td><td>5</td><td>4</td><td>3</td><td>0.976077</td><td>0.980861</td><td>0.985646</td></tr><tr><td>2025-05-20 00:00:00</td><td>167</td><td>4</td><td>3</td><td>1</td><td>0.976048</td><td>0.982036</td><td>0.994012</td></tr><tr><td>&hellip;</td><td>&hellip;</td><td>&hellip;</td><td>&hellip;</td><td>&hellip;</td><td>&hellip;</td><td>&hellip;</td><td>&hellip;</td></tr><tr><td>2025-05-27 00:00:00</td><td>154</td><td>5</td><td>5</td><td>4</td><td>0.967532</td><td>0.967532</td><td>0.974026</td></tr><tr><td>2025-06-14 00:00:00</td><td>205</td><td>4</td><td>3</td><td>3</td><td>0.980488</td><td>0.985366</td><td>0.985366</td></tr><tr><td>2025-04-28 00:00:00</td><td>191</td><td>1</td><td>0</td><td>0</td><td>0.994764</td><td>1.0</td><td>1.0</td></tr><tr><td>2025-05-16 00:00:00</td><td>214</td><td>7</td><td>6</td><td>3</td><td>0.96729</td><td>0.971963</td><td>0.985981</td></tr><tr><td>2025-04-10 00:00:00</td><td>196</td><td>2</td><td>2</td><td>1</td><td>0.989796</td><td>0.989796</td><td>0.994898</td></tr></tbody></table></div>"
      ],
      "text/plain": [
       "shape: (87, 8)\n",
       "┌────────────┬────────────┬────────────┬───────────┬───────────┬───────────┬───────────┬───────────┐\n",
       "│ WINDOW_DAT ┆ total_coun ┆ flight_wit ┆ flight_wi ┆ flight_wi ┆ per_fligh ┆ per_delay ┆ per_delay │\n",
       "│ ETIME_DEP  ┆ t          ┆ h_delay    ┆ th_delay_ ┆ th_delay_ ┆ ts_not_de ┆ ed_flight ┆ ed_flight │\n",
       "│ ---        ┆ ---        ┆ ---        ┆ gte_15min ┆ gte_15min ┆ layed     ┆ s_not_wit ┆ s_15min__ │\n",
       "│ datetime[μ ┆ u32        ┆ u32        ┆ ---       ┆ _co…      ┆ ---       ┆ h_1…      ┆ not…      │\n",
       "│ s]         ┆            ┆            ┆ u32       ┆ ---       ┆ f64       ┆ ---       ┆ ---       │\n",
       "│            ┆            ┆            ┆           ┆ u32       ┆           ┆ f64       ┆ f64       │\n",
       "╞════════════╪════════════╪════════════╪═══════════╪═══════════╪═══════════╪═══════════╪═══════════╡\n",
       "│ 2025-06-07 ┆ 194        ┆ 6          ┆ 5         ┆ 4         ┆ 0.969072  ┆ 0.974227  ┆ 0.979381  │\n",
       "│ 00:00:00   ┆            ┆            ┆           ┆           ┆           ┆           ┆           │\n",
       "│ 2025-04-21 ┆ 200        ┆ 4          ┆ 4         ┆ 3         ┆ 0.98      ┆ 0.98      ┆ 0.985     │\n",
       "│ 00:00:00   ┆            ┆            ┆           ┆           ┆           ┆           ┆           │\n",
       "│ 2025-04-03 ┆ 199        ┆ 3          ┆ 3         ┆ 3         ┆ 0.984925  ┆ 0.984925  ┆ 0.984925  │\n",
       "│ 00:00:00   ┆            ┆            ┆           ┆           ┆           ┆           ┆           │\n",
       "│ 2025-05-09 ┆ 209        ┆ 5          ┆ 4         ┆ 3         ┆ 0.976077  ┆ 0.980861  ┆ 0.985646  │\n",
       "│ 00:00:00   ┆            ┆            ┆           ┆           ┆           ┆           ┆           │\n",
       "│ 2025-05-20 ┆ 167        ┆ 4          ┆ 3         ┆ 1         ┆ 0.976048  ┆ 0.982036  ┆ 0.994012  │\n",
       "│ 00:00:00   ┆            ┆            ┆           ┆           ┆           ┆           ┆           │\n",
       "│ …          ┆ …          ┆ …          ┆ …         ┆ …         ┆ …         ┆ …         ┆ …         │\n",
       "│ 2025-05-27 ┆ 154        ┆ 5          ┆ 5         ┆ 4         ┆ 0.967532  ┆ 0.967532  ┆ 0.974026  │\n",
       "│ 00:00:00   ┆            ┆            ┆           ┆           ┆           ┆           ┆           │\n",
       "│ 2025-06-14 ┆ 205        ┆ 4          ┆ 3         ┆ 3         ┆ 0.980488  ┆ 0.985366  ┆ 0.985366  │\n",
       "│ 00:00:00   ┆            ┆            ┆           ┆           ┆           ┆           ┆           │\n",
       "│ 2025-04-28 ┆ 191        ┆ 1          ┆ 0         ┆ 0         ┆ 0.994764  ┆ 1.0       ┆ 1.0       │\n",
       "│ 00:00:00   ┆            ┆            ┆           ┆           ┆           ┆           ┆           │\n",
       "│ 2025-05-16 ┆ 214        ┆ 7          ┆ 6         ┆ 3         ┆ 0.96729   ┆ 0.971963  ┆ 0.985981  │\n",
       "│ 00:00:00   ┆            ┆            ┆           ┆           ┆           ┆           ┆           │\n",
       "│ 2025-04-10 ┆ 196        ┆ 2          ┆ 2         ┆ 1         ┆ 0.989796  ┆ 0.989796  ┆ 0.994898  │\n",
       "│ 00:00:00   ┆            ┆            ┆           ┆           ┆           ┆           ┆           │\n",
       "└────────────┴────────────┴────────────┴───────────┴───────────┴───────────┴───────────┴───────────┘"
      ]
     },
     "execution_count": 19,
     "metadata": {},
     "output_type": "execute_result"
    }
   ],
   "source": [
    "joined_df_res_2.collect()"
   ]
  },
  {
   "cell_type": "code",
   "execution_count": 20,
   "id": "ccc80878",
   "metadata": {},
   "outputs": [
    {
     "data": {
      "text/plain": [
       "[datetime.datetime(2025, 5, 20, 0, 0),\n",
       " datetime.datetime(2025, 4, 3, 0, 0),\n",
       " datetime.datetime(2025, 5, 9, 0, 0),\n",
       " datetime.datetime(2025, 4, 21, 0, 0),\n",
       " datetime.datetime(2025, 6, 7, 0, 0),\n",
       " datetime.datetime(2025, 5, 13, 0, 0),\n",
       " datetime.datetime(2025, 4, 14, 0, 0),\n",
       " datetime.datetime(2025, 6, 18, 0, 0),\n",
       " datetime.datetime(2025, 5, 2, 0, 0),\n",
       " datetime.datetime(2025, 5, 31, 0, 0),\n",
       " datetime.datetime(2025, 6, 11, 0, 0),\n",
       " datetime.datetime(2025, 4, 7, 0, 0),\n",
       " datetime.datetime(2025, 5, 24, 0, 0),\n",
       " datetime.datetime(2025, 4, 25, 0, 0),\n",
       " datetime.datetime(2025, 5, 6, 0, 0),\n",
       " datetime.datetime(2025, 3, 31, 0, 0),\n",
       " datetime.datetime(2025, 4, 18, 0, 0),\n",
       " datetime.datetime(2025, 4, 29, 0, 0),\n",
       " datetime.datetime(2025, 5, 17, 0, 0),\n",
       " datetime.datetime(2025, 6, 4, 0, 0),\n",
       " datetime.datetime(2025, 6, 22, 0, 0),\n",
       " datetime.datetime(2025, 6, 15, 0, 0),\n",
       " datetime.datetime(2025, 4, 22, 0, 0),\n",
       " datetime.datetime(2025, 4, 11, 0, 0),\n",
       " datetime.datetime(2025, 5, 10, 0, 0),\n",
       " datetime.datetime(2025, 5, 28, 0, 0),\n",
       " datetime.datetime(2025, 4, 15, 0, 0),\n",
       " datetime.datetime(2025, 6, 8, 0, 0),\n",
       " datetime.datetime(2025, 6, 19, 0, 0),\n",
       " datetime.datetime(2025, 4, 4, 0, 0),\n",
       " datetime.datetime(2025, 5, 3, 0, 0),\n",
       " datetime.datetime(2025, 5, 21, 0, 0),\n",
       " datetime.datetime(2025, 5, 14, 0, 0),\n",
       " datetime.datetime(2025, 4, 26, 0, 0),\n",
       " datetime.datetime(2025, 4, 8, 0, 0),\n",
       " datetime.datetime(2025, 6, 1, 0, 0),\n",
       " datetime.datetime(2025, 6, 12, 0, 0),\n",
       " datetime.datetime(2025, 6, 23, 0, 0),\n",
       " datetime.datetime(2025, 4, 1, 0, 0),\n",
       " datetime.datetime(2025, 4, 19, 0, 0),\n",
       " datetime.datetime(2025, 5, 7, 0, 0),\n",
       " datetime.datetime(2025, 6, 5, 0, 0),\n",
       " datetime.datetime(2025, 5, 25, 0, 0),\n",
       " datetime.datetime(2025, 6, 16, 0, 0),\n",
       " datetime.datetime(2025, 4, 12, 0, 0),\n",
       " datetime.datetime(2025, 5, 18, 0, 0),\n",
       " datetime.datetime(2025, 4, 30, 0, 0),\n",
       " datetime.datetime(2025, 5, 29, 0, 0),\n",
       " datetime.datetime(2025, 4, 23, 0, 0),\n",
       " datetime.datetime(2025, 5, 22, 0, 0),\n",
       " datetime.datetime(2025, 4, 5, 0, 0),\n",
       " datetime.datetime(2025, 6, 9, 0, 0),\n",
       " datetime.datetime(2025, 5, 11, 0, 0),\n",
       " datetime.datetime(2025, 6, 20, 0, 0),\n",
       " datetime.datetime(2025, 5, 15, 0, 0),\n",
       " datetime.datetime(2025, 5, 4, 0, 0),\n",
       " datetime.datetime(2025, 4, 16, 0, 0),\n",
       " datetime.datetime(2025, 6, 2, 0, 0),\n",
       " datetime.datetime(2025, 6, 13, 0, 0),\n",
       " datetime.datetime(2025, 4, 27, 0, 0),\n",
       " datetime.datetime(2025, 4, 9, 0, 0),\n",
       " datetime.datetime(2025, 4, 20, 0, 0),\n",
       " datetime.datetime(2025, 5, 8, 0, 0),\n",
       " datetime.datetime(2025, 5, 26, 0, 0),\n",
       " datetime.datetime(2025, 4, 13, 0, 0),\n",
       " datetime.datetime(2025, 6, 6, 0, 0),\n",
       " datetime.datetime(2025, 5, 1, 0, 0),\n",
       " datetime.datetime(2025, 6, 17, 0, 0),\n",
       " datetime.datetime(2025, 5, 19, 0, 0),\n",
       " datetime.datetime(2025, 4, 2, 0, 0),\n",
       " datetime.datetime(2025, 6, 24, 0, 0),\n",
       " datetime.datetime(2025, 6, 10, 0, 0),\n",
       " datetime.datetime(2025, 5, 12, 0, 0),\n",
       " datetime.datetime(2025, 4, 6, 0, 0),\n",
       " datetime.datetime(2025, 4, 24, 0, 0),\n",
       " datetime.datetime(2025, 5, 30, 0, 0),\n",
       " datetime.datetime(2025, 5, 23, 0, 0),\n",
       " datetime.datetime(2025, 3, 30, 0, 0),\n",
       " datetime.datetime(2025, 5, 5, 0, 0),\n",
       " datetime.datetime(2025, 6, 3, 0, 0),\n",
       " datetime.datetime(2025, 6, 21, 0, 0),\n",
       " datetime.datetime(2025, 4, 17, 0, 0),\n",
       " datetime.datetime(2025, 4, 28, 0, 0),\n",
       " datetime.datetime(2025, 6, 14, 0, 0),\n",
       " datetime.datetime(2025, 5, 27, 0, 0),\n",
       " datetime.datetime(2025, 4, 10, 0, 0),\n",
       " datetime.datetime(2025, 5, 16, 0, 0)]"
      ]
     },
     "execution_count": 20,
     "metadata": {},
     "output_type": "execute_result"
    }
   ],
   "source": [
    "joined_df_res_2.select(COL_NAME_WINDOW_TIME).collect().to_series().to_list()"
   ]
  },
  {
   "cell_type": "code",
   "execution_count": 21,
   "id": "b30a0929",
   "metadata": {},
   "outputs": [
    {
     "data": {
      "text/html": [
       "<div><style>\n",
       ".dataframe > thead > tr,\n",
       ".dataframe > tbody > tr {\n",
       "  text-align: right;\n",
       "  white-space: pre-wrap;\n",
       "}\n",
       "</style>\n",
       "<small>shape: (87, 5)</small><table border=\"1\" class=\"dataframe\"><thead><tr><th>WINDOW_DATETIME_DEP</th><th>total_count</th><th>flight_with_delay</th><th>flight_with_delay_gte_15min</th><th>flight_with_delay_gte_15min_code_41_42</th></tr><tr><td>datetime[μs]</td><td>u32</td><td>u32</td><td>u32</td><td>u32</td></tr></thead><tbody><tr><td>2025-04-03 00:00:00</td><td>199</td><td>3</td><td>3</td><td>3</td></tr><tr><td>2025-05-09 00:00:00</td><td>209</td><td>5</td><td>4</td><td>3</td></tr><tr><td>2025-05-20 00:00:00</td><td>167</td><td>4</td><td>3</td><td>1</td></tr><tr><td>2025-06-07 00:00:00</td><td>194</td><td>6</td><td>5</td><td>4</td></tr><tr><td>2025-04-21 00:00:00</td><td>200</td><td>4</td><td>4</td><td>3</td></tr><tr><td>&hellip;</td><td>&hellip;</td><td>&hellip;</td><td>&hellip;</td><td>&hellip;</td></tr><tr><td>2025-05-16 00:00:00</td><td>214</td><td>7</td><td>6</td><td>3</td></tr><tr><td>2025-05-27 00:00:00</td><td>154</td><td>5</td><td>5</td><td>4</td></tr><tr><td>2025-04-10 00:00:00</td><td>196</td><td>2</td><td>2</td><td>1</td></tr><tr><td>2025-06-14 00:00:00</td><td>205</td><td>4</td><td>3</td><td>3</td></tr><tr><td>2025-04-28 00:00:00</td><td>191</td><td>1</td><td>0</td><td>0</td></tr></tbody></table></div>"
      ],
      "text/plain": [
       "shape: (87, 5)\n",
       "┌─────────────────────┬─────────────┬───────────────────┬─────────────────────┬────────────────────┐\n",
       "│ WINDOW_DATETIME_DEP ┆ total_count ┆ flight_with_delay ┆ flight_with_delay_g ┆ flight_with_delay_ │\n",
       "│ ---                 ┆ ---         ┆ ---               ┆ te_15min            ┆ gte_15min_co…      │\n",
       "│ datetime[μs]        ┆ u32         ┆ u32               ┆ ---                 ┆ ---                │\n",
       "│                     ┆             ┆                   ┆ u32                 ┆ u32                │\n",
       "╞═════════════════════╪═════════════╪═══════════════════╪═════════════════════╪════════════════════╡\n",
       "│ 2025-04-03 00:00:00 ┆ 199         ┆ 3                 ┆ 3                   ┆ 3                  │\n",
       "│ 2025-05-09 00:00:00 ┆ 209         ┆ 5                 ┆ 4                   ┆ 3                  │\n",
       "│ 2025-05-20 00:00:00 ┆ 167         ┆ 4                 ┆ 3                   ┆ 1                  │\n",
       "│ 2025-06-07 00:00:00 ┆ 194         ┆ 6                 ┆ 5                   ┆ 4                  │\n",
       "│ 2025-04-21 00:00:00 ┆ 200         ┆ 4                 ┆ 4                   ┆ 3                  │\n",
       "│ …                   ┆ …           ┆ …                 ┆ …                   ┆ …                  │\n",
       "│ 2025-05-16 00:00:00 ┆ 214         ┆ 7                 ┆ 6                   ┆ 3                  │\n",
       "│ 2025-05-27 00:00:00 ┆ 154         ┆ 5                 ┆ 5                   ┆ 4                  │\n",
       "│ 2025-04-10 00:00:00 ┆ 196         ┆ 2                 ┆ 2                   ┆ 1                  │\n",
       "│ 2025-06-14 00:00:00 ┆ 205         ┆ 4                 ┆ 3                   ┆ 3                  │\n",
       "│ 2025-04-28 00:00:00 ┆ 191         ┆ 1                 ┆ 0                   ┆ 0                  │\n",
       "└─────────────────────┴─────────────┴───────────────────┴─────────────────────┴────────────────────┘"
      ]
     },
     "execution_count": 21,
     "metadata": {},
     "output_type": "execute_result"
    }
   ],
   "source": [
    "joined_df.collect()"
   ]
  },
  {
   "cell_type": "markdown",
   "id": "c73204ba",
   "metadata": {},
   "source": [
    "# normal\n"
   ]
  },
  {
   "cell_type": "code",
   "execution_count": 53,
   "id": "7e104c5f",
   "metadata": {},
   "outputs": [],
   "source": [
    "delayed_flights_count_df = df.select(\n",
    "    pl.len().alias(COL_NAME_TOTAL_COUNT_FLIGHT_WITH_DELAY)\n",
    ")\n",
    "\n",
    "delayed_15min_df = df.filter((pl.col(\"Retard en min\") >= 15))\n",
    "delayed_15min_count_df = delayed_15min_df.select(\n",
    "    pl.len().alias(COL_NAME_TOTAL_COUNT_FLIGHT_WITH_DELAY_GTE_15MIN)\n",
    ")"
   ]
  },
  {
   "cell_type": "code",
   "execution_count": 58,
   "id": "ec7cf31b",
   "metadata": {},
   "outputs": [
    {
     "data": {
      "text/html": [
       "<div><style>\n",
       ".dataframe > thead > tr,\n",
       ".dataframe > tbody > tr {\n",
       "  text-align: right;\n",
       "  white-space: pre-wrap;\n",
       "}\n",
       "</style>\n",
       "<small>shape: (1, 1)</small><table border=\"1\" class=\"dataframe\"><thead><tr><th>total_count</th></tr><tr><td>u32</td></tr></thead><tbody><tr><td>17017</td></tr></tbody></table></div>"
      ],
      "text/plain": [
       "shape: (1, 1)\n",
       "┌─────────────┐\n",
       "│ total_count │\n",
       "│ ---         │\n",
       "│ u32         │\n",
       "╞═════════════╡\n",
       "│ 17017       │\n",
       "└─────────────┘"
      ]
     },
     "execution_count": 58,
     "metadata": {},
     "output_type": "execute_result"
    }
   ],
   "source": [
    "total_df.collect()"
   ]
  },
  {
   "cell_type": "code",
   "execution_count": 57,
   "id": "7130a578",
   "metadata": {},
   "outputs": [
    {
     "data": {
      "text/html": [
       "<div><style>\n",
       ".dataframe > thead > tr,\n",
       ".dataframe > tbody > tr {\n",
       "  text-align: right;\n",
       "  white-space: pre-wrap;\n",
       "}\n",
       "</style>\n",
       "<small>shape: (1, 1)</small><table border=\"1\" class=\"dataframe\"><thead><tr><th>flight_with_delay</th></tr><tr><td>u32</td></tr></thead><tbody><tr><td>365</td></tr></tbody></table></div>"
      ],
      "text/plain": [
       "shape: (1, 1)\n",
       "┌───────────────────┐\n",
       "│ flight_with_delay │\n",
       "│ ---               │\n",
       "│ u32               │\n",
       "╞═══════════════════╡\n",
       "│ 365               │\n",
       "└───────────────────┘"
      ]
     },
     "execution_count": 57,
     "metadata": {},
     "output_type": "execute_result"
    }
   ],
   "source": [
    "delayed_flights_count_df.collect()"
   ]
  },
  {
   "cell_type": "code",
   "execution_count": 59,
   "id": "eacc2e43",
   "metadata": {},
   "outputs": [],
   "source": [
    "joined_df = pl.concat(\n",
    "    [\n",
    "        total_df,\n",
    "        delayed_flights_count_df,\n",
    "        delayed_15min_count_df,\n",
    "        delayed_flights_41_42_gte_15min_count_df,\n",
    "    ],\n",
    "    how=\"horizontal\",\n",
    ")"
   ]
  },
  {
   "cell_type": "code",
   "execution_count": 60,
   "id": "936ab15f",
   "metadata": {},
   "outputs": [
    {
     "data": {
      "text/html": [
       "<div><style>\n",
       ".dataframe > thead > tr,\n",
       ".dataframe > tbody > tr {\n",
       "  text-align: right;\n",
       "  white-space: pre-wrap;\n",
       "}\n",
       "</style>\n",
       "<small>shape: (1, 4)</small><table border=\"1\" class=\"dataframe\"><thead><tr><th>total_count</th><th>flight_with_delay</th><th>flight_with_delay_gte_15min</th><th>flight_with_delay_gte_15min_code_41_42</th></tr><tr><td>u32</td><td>u32</td><td>u32</td><td>u32</td></tr></thead><tbody><tr><td>17017</td><td>365</td><td>294</td><td>194</td></tr></tbody></table></div>"
      ],
      "text/plain": [
       "shape: (1, 4)\n",
       "┌─────────────┬───────────────────┬─────────────────────────────┬─────────────────────────────────┐\n",
       "│ total_count ┆ flight_with_delay ┆ flight_with_delay_gte_15min ┆ flight_with_delay_gte_15min_co… │\n",
       "│ ---         ┆ ---               ┆ ---                         ┆ ---                             │\n",
       "│ u32         ┆ u32               ┆ u32                         ┆ u32                             │\n",
       "╞═════════════╪═══════════════════╪═════════════════════════════╪═════════════════════════════════╡\n",
       "│ 17017       ┆ 365               ┆ 294                         ┆ 194                             │\n",
       "└─────────────┴───────────────────┴─────────────────────────────┴─────────────────────────────────┘"
      ]
     },
     "execution_count": 60,
     "metadata": {},
     "output_type": "execute_result"
    }
   ],
   "source": [
    "joined_df.collect()"
   ]
  },
  {
   "cell_type": "code",
   "execution_count": 24,
   "id": "7a8df9de",
   "metadata": {},
   "outputs": [
    {
     "ename": "AttributeError",
     "evalue": "'LazyFrame' object has no attribute 'item'",
     "output_type": "error",
     "traceback": [
      "\u001b[31m---------------------------------------------------------------------------\u001b[39m",
      "\u001b[31mAttributeError\u001b[39m                            Traceback (most recent call last)",
      "\u001b[36mCell\u001b[39m\u001b[36m \u001b[39m\u001b[32mIn[24]\u001b[39m\u001b[32m, line 1\u001b[39m\n\u001b[32m----> \u001b[39m\u001b[32m1\u001b[39m count_flight = \u001b[43mjoined_df\u001b[49m\u001b[43m.\u001b[49m\u001b[43mselect\u001b[49m\u001b[43m(\u001b[49m\u001b[43mpl\u001b[49m\u001b[43m.\u001b[49m\u001b[43mcol\u001b[49m\u001b[43m(\u001b[49m\u001b[43mCOL_NAME_TOTAL_COUNT\u001b[49m\u001b[43m)\u001b[49m\u001b[43m)\u001b[49m\u001b[43m.\u001b[49m\u001b[43mitem\u001b[49m()\n\u001b[32m      2\u001b[39m count_flight_with_delay = joined_df.select(\n\u001b[32m      3\u001b[39m     pl.col(COL_NAME_TOTAL_COUNT_FLIGHT_WITH_DELAY)\n\u001b[32m      4\u001b[39m ).item()\n\u001b[32m      5\u001b[39m count_flight_with_delay_gte_15min = joined_df.select(\n\u001b[32m      6\u001b[39m     pl.col(COL_NAME_TOTAL_COUNT_FLIGHT_WITH_DELAY_GTE_15MIN)\n\u001b[32m      7\u001b[39m ).item()\n",
      "\u001b[31mAttributeError\u001b[39m: 'LazyFrame' object has no attribute 'item'"
     ]
    }
   ],
   "source": [
    "count_flight = joined_df.select(pl.col(COL_NAME_TOTAL_COUNT)).item()\n",
    "count_flight_with_delay = joined_df.select(\n",
    "    pl.col(COL_NAME_TOTAL_COUNT_FLIGHT_WITH_DELAY)\n",
    ").item()\n",
    "count_flight_with_delay_gte_15min = joined_df.select(\n",
    "    pl.col(COL_NAME_TOTAL_COUNT_FLIGHT_WITH_DELAY_GTE_15MIN)\n",
    ").item()\n",
    "count_flight_with_delay_gte_15min_41_42 = joined_df.select(\n",
    "    pl.col(COL_NAME_TOTAL_COUNT_FLIGHT_WITH_DELAY_41_42_GTE_15MIN)\n",
    ").item()"
   ]
  },
  {
   "cell_type": "code",
   "execution_count": null,
   "id": "0150f8b5",
   "metadata": {},
   "outputs": [],
   "source": [
    "# first graph\n",
    "\n",
    "per_delayed_flights_15min__not_with_41_42 = 1 - (\n",
    "    count_flight_with_delay_gte_15min_41_42 / count_flight\n",
    ")\n",
    "\n",
    "# second graph\n",
    "\n",
    "## first op (15 min)\n",
    "per_delayed_flights_not_with_15min = 1 - (\n",
    "    count_flight_with_delay_gte_15min / count_flight\n",
    ")\n",
    "\n",
    "\n",
    "## second op\n",
    "\n",
    "per_flights_not_delayed = 1 - (count_flight_with_delay / count_flight)\n",
    "\n",
    "\n",
    "# third graph"
   ]
  },
  {
   "cell_type": "code",
   "execution_count": null,
   "id": "18aee283",
   "metadata": {},
   "outputs": [],
   "source": []
  },
  {
   "cell_type": "code",
   "execution_count": null,
   "id": "017edcc1",
   "metadata": {},
   "outputs": [],
   "source": [
    "import polars as pl\n",
    "from datetime import timedelta\n",
    "\n",
    "\n",
    "df_window = pl.col(\"DateTime\").dt.truncate(timedelta(weeks=1))\n",
    "\n",
    "df_windowed = df.group_by(df_window).agg(pl.len())"
   ]
  },
  {
   "cell_type": "code",
   "execution_count": null,
   "id": "c65e9773",
   "metadata": {},
   "outputs": [],
   "source": []
  }
 ],
 "metadata": {
  "kernelspec": {
   "display_name": "dashboard-gd99mBky-py3.13",
   "language": "python",
   "name": "python3"
  },
  "language_info": {
   "codemirror_mode": {
    "name": "ipython",
    "version": 3
   },
   "file_extension": ".py",
   "mimetype": "text/x-python",
   "name": "python",
   "nbconvert_exporter": "python",
   "pygments_lexer": "ipython3",
   "version": "3.13.5"
  }
 },
 "nbformat": 4,
 "nbformat_minor": 5
}
