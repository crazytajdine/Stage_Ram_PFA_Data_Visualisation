{
 "cells": [
  {
   "cell_type": "code",
   "execution_count": 19,
   "id": "61561334",
   "metadata": {},
   "outputs": [],
   "source": [
    "import polars as pl\n",
    "from excel_manager import get_df, get_count_df, COL_NAME_TOTAL_COUNT"
   ]
  },
  {
   "cell_type": "code",
   "execution_count": 20,
   "id": "634034ec",
   "metadata": {},
   "outputs": [],
   "source": [
    "COL_NAME_TOTAL_COUNT_FLIGHT_WITH_DELAY = \"flight_with_delay\"\n",
    "COL_NAME_TOTAL_COUNT_FLIGHT_WITH_DELAY_GTE_15MIN = \"flight_with_delay_gte_15min\"\n",
    "COL_NAME_TOTAL_COUNT_FLIGHT_WITH_DELAY_41_42_GTE_15MIN = \"flight_with_delay_41_42\""
   ]
  },
  {
   "cell_type": "code",
   "execution_count": 21,
   "id": "f992a40a",
   "metadata": {},
   "outputs": [],
   "source": [
    "df = get_df()"
   ]
  },
  {
   "cell_type": "code",
   "execution_count": 22,
   "id": "a2567513",
   "metadata": {},
   "outputs": [],
   "source": [
    "df = df.with_columns(pl.col(\"CODE_DR\").cast(pl.Int32).alias(\"CODE_DR\"))"
   ]
  },
  {
   "cell_type": "code",
   "execution_count": 23,
   "id": "a57275d8",
   "metadata": {},
   "outputs": [],
   "source": [
    "total_df = get_count_df()"
   ]
  },
  {
   "cell_type": "code",
   "execution_count": 24,
   "id": "7e104c5f",
   "metadata": {},
   "outputs": [],
   "source": [
    "delayed_flights_count_df = df.select(\n",
    "    pl.len().alias(COL_NAME_TOTAL_COUNT_FLIGHT_WITH_DELAY)\n",
    ")\n",
    "\n",
    "delayed_15min_df = df.filter((pl.col(\"Retard en min\") >= 15))\n",
    "delayed_15min_count_df = delayed_15min_df.select(\n",
    "    pl.len().alias(COL_NAME_TOTAL_COUNT_FLIGHT_WITH_DELAY_GTE_15MIN)\n",
    ")"
   ]
  },
  {
   "cell_type": "code",
   "execution_count": 25,
   "id": "eacc2e43",
   "metadata": {},
   "outputs": [
    {
     "data": {
      "text/html": [
       "<div><style>\n",
       ".dataframe > thead > tr,\n",
       ".dataframe > tbody > tr {\n",
       "  text-align: right;\n",
       "  white-space: pre-wrap;\n",
       "}\n",
       "</style>\n",
       "<small>shape: (1, 4)</small><table border=\"1\" class=\"dataframe\"><thead><tr><th>total_count</th><th>flight_with_delay_41_42</th><th>flight_with_delay</th><th>flight_with_delay_gte_15min</th></tr><tr><td>u32</td><td>u32</td><td>u32</td><td>u32</td></tr></thead><tbody><tr><td>17017</td><td>194</td><td>365</td><td>294</td></tr></tbody></table></div>"
      ],
      "text/plain": [
       "shape: (1, 4)\n",
       "┌─────────────┬─────────────────────────┬───────────────────┬─────────────────────────────┐\n",
       "│ total_count ┆ flight_with_delay_41_42 ┆ flight_with_delay ┆ flight_with_delay_gte_15min │\n",
       "│ ---         ┆ ---                     ┆ ---               ┆ ---                         │\n",
       "│ u32         ┆ u32                     ┆ u32               ┆ u32                         │\n",
       "╞═════════════╪═════════════════════════╪═══════════════════╪═════════════════════════════╡\n",
       "│ 17017       ┆ 194                     ┆ 365               ┆ 294                         │\n",
       "└─────────────┴─────────────────────────┴───────────────────┴─────────────────────────────┘"
      ]
     },
     "execution_count": 25,
     "metadata": {},
     "output_type": "execute_result"
    }
   ],
   "source": [
    "delayed_count_df = delayed_15min_df.filter((pl.col(\"CODE_DR\").is_in({41, 42}))).select(\n",
    "    pl.len().alias(COL_NAME_TOTAL_COUNT_FLIGHT_WITH_DELAY_41_42_GTE_15MIN)\n",
    ")\n",
    "\n",
    "\n",
    "joined_df = (\n",
    "    total_df.join(delayed_count_df, how=\"cross\")\n",
    "    .join(delayed_flights_count_df, how=\"cross\")\n",
    "    .join(delayed_15min_count_df, how=\"cross\")\n",
    "    .collect()\n",
    ")\n",
    "\n",
    "\n",
    "joined_df"
   ]
  },
  {
   "cell_type": "code",
   "execution_count": 33,
   "id": "7a8df9de",
   "metadata": {},
   "outputs": [],
   "source": [
    "count_flight = joined_df.select(pl.col(COL_NAME_TOTAL_COUNT)).item()\n",
    "count_flight_with_delay = joined_df.select(\n",
    "    pl.col(COL_NAME_TOTAL_COUNT_FLIGHT_WITH_DELAY)\n",
    ").item()\n",
    "count_flight_with_delay_gte_15min = joined_df.select(\n",
    "    pl.col(COL_NAME_TOTAL_COUNT_FLIGHT_WITH_DELAY_GTE_15MIN)\n",
    ").item()\n",
    "count_flight_with_delay_gte_15min_41_42 = joined_df.select(\n",
    "    pl.col(COL_NAME_TOTAL_COUNT_FLIGHT_WITH_DELAY_41_42_GTE_15MIN)\n",
    ").item()"
   ]
  },
  {
   "cell_type": "code",
   "execution_count": null,
   "id": "0150f8b5",
   "metadata": {},
   "outputs": [
    {
     "data": {
      "text/plain": [
       "17017"
      ]
     },
     "execution_count": 34,
     "metadata": {},
     "output_type": "execute_result"
    }
   ],
   "source": [
    "# first graph\n",
    "\n",
    "per_delayed_flights_15min__not_with_41_42 = 1 - (\n",
    "    count_flight_with_delay_gte_15min_41_42 / count_flight\n",
    ")\n",
    "\n",
    "# second graph\n",
    "\n",
    "## first op (15 min)\n",
    "per_delayed_flights_not_with_15min = 1 - (\n",
    "    count_flight_with_delay_gte_15min / count_flight\n",
    ")\n",
    "\n",
    "\n",
    "## second op\n",
    "\n",
    "per_flights_not_delayed = 1 - (count_flight_with_delay / count_flight)\n",
    "\n",
    "\n",
    "# third graph"
   ]
  }
 ],
 "metadata": {
  "kernelspec": {
   "display_name": "dashboard-gd99mBky-py3.13",
   "language": "python",
   "name": "python3"
  },
  "language_info": {
   "codemirror_mode": {
    "name": "ipython",
    "version": 3
   },
   "file_extension": ".py",
   "mimetype": "text/x-python",
   "name": "python",
   "nbconvert_exporter": "python",
   "pygments_lexer": "ipython3",
   "version": "3.13.5"
  }
 },
 "nbformat": 4,
 "nbformat_minor": 5
}
