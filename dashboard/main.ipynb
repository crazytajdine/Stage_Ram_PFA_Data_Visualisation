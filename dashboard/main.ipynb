{
 "cells": [
  {
   "cell_type": "code",
   "execution_count": 3,
   "id": "01523427",
   "metadata": {},
   "outputs": [],
   "source": [
    "path = \"C:\\\\Users\\\\tajdi\\\\Downloads\\\\project Idriss\\\\project Idriss\\\\data.xlsx\""
   ]
  },
  {
   "cell_type": "code",
   "execution_count": null,
   "id": "d888c2e4",
   "metadata": {},
   "outputs": [],
   "source": []
  },
  {
   "cell_type": "code",
   "execution_count": 6,
   "id": "735d6b4d",
   "metadata": {},
   "outputs": [],
   "source": [
    "from excel_manager import create_dep_datetime, filter_tec\n",
    "import polars as pl"
   ]
  },
  {
   "cell_type": "code",
   "execution_count": 8,
   "id": "c7ead2b2",
   "metadata": {},
   "outputs": [],
   "source": [
    "df = pl.read_excel(path, sheet_name=\"Sheet1\").lazy()"
   ]
  },
  {
   "cell_type": "code",
   "execution_count": 22,
   "id": "caacdbbe",
   "metadata": {},
   "outputs": [],
   "source": [
    "df = df.pipe(filter_tec).pipe(create_dep_datetime)"
   ]
  },
  {
   "cell_type": "code",
   "execution_count": 23,
   "id": "ca09d2f5",
   "metadata": {},
   "outputs": [],
   "source": [
    "def create_dep_datetime(df_lazy: pl.LazyFrame) -> pl.LazyFrame:\n",
    "    return df_lazy.with_columns(\n",
    "        pl.col(\"DEP_DAY_SCHED\")\n",
    "        .dt.combine(pl.col(\"DEP_TIME_SCHED\").str.strptime(pl.Time, \"%H:%M\"))\n",
    "        .alias(\"DEP_DATETIME\")\n",
    "    )"
   ]
  },
  {
   "cell_type": "code",
   "execution_count": 24,
   "id": "1d08e27a",
   "metadata": {},
   "outputs": [
    {
     "data": {
      "text/html": [
       "<div><style>\n",
       ".dataframe > thead > tr,\n",
       ".dataframe > tbody > tr {\n",
       "  text-align: right;\n",
       "  white-space: pre-wrap;\n",
       "}\n",
       "</style>\n",
       "<small>shape: (365,)</small><table border=\"1\" class=\"dataframe\"><thead><tr><th>DEP_DATETIME</th></tr><tr><td>datetime[μs]</td></tr></thead><tbody><tr><td>2025-03-30 21:50:00</td></tr><tr><td>2025-03-31 05:35:00</td></tr><tr><td>2025-03-30 04:15:00</td></tr><tr><td>2025-03-31 21:25:00</td></tr><tr><td>2025-03-31 18:00:00</td></tr><tr><td>&hellip;</td></tr><tr><td>2025-06-23 10:35:00</td></tr><tr><td>2025-06-23 15:35:00</td></tr><tr><td>2025-06-23 16:25:00</td></tr><tr><td>2025-06-24 10:45:00</td></tr><tr><td>2025-06-24 09:15:00</td></tr></tbody></table></div>"
      ],
      "text/plain": [
       "shape: (365,)\n",
       "Series: 'DEP_DATETIME' [datetime[μs]]\n",
       "[\n",
       "\t2025-03-30 21:50:00\n",
       "\t2025-03-31 05:35:00\n",
       "\t2025-03-30 04:15:00\n",
       "\t2025-03-31 21:25:00\n",
       "\t2025-03-31 18:00:00\n",
       "\t…\n",
       "\t2025-06-23 10:35:00\n",
       "\t2025-06-23 15:35:00\n",
       "\t2025-06-23 16:25:00\n",
       "\t2025-06-24 10:45:00\n",
       "\t2025-06-24 09:15:00\n",
       "]"
      ]
     },
     "execution_count": 24,
     "metadata": {},
     "output_type": "execute_result"
    }
   ],
   "source": [
    "df.collect()[\"DEP_DATETIME\"]"
   ]
  },
  {
   "cell_type": "code",
   "execution_count": null,
   "id": "26b65f84",
   "metadata": {},
   "outputs": [],
   "source": []
  }
 ],
 "metadata": {
  "kernelspec": {
   "display_name": "dashboard-rbGoJx3C-py3.13",
   "language": "python",
   "name": "python3"
  },
  "language_info": {
   "codemirror_mode": {
    "name": "ipython",
    "version": 3
   },
   "file_extension": ".py",
   "mimetype": "text/x-python",
   "name": "python",
   "nbconvert_exporter": "python",
   "pygments_lexer": "ipython3",
   "version": "3.13.5"
  }
 },
 "nbformat": 4,
 "nbformat_minor": 5
}
