{
 "cells": [
  {
   "cell_type": "code",
   "execution_count": null,
   "id": "19794130",
   "metadata": {},
   "outputs": [],
   "source": [
    "from platformdirs import user_config_dir, user_cache_dir, user_data_dir\n",
    "\n",
    "app_name = \"MyApp\"\n",
    "auth = \"aut\""
   ]
  },
  {
   "cell_type": "code",
   "execution_count": 6,
   "id": "ae5db787",
   "metadata": {},
   "outputs": [
    {
     "name": "stdout",
     "output_type": "stream",
     "text": [
      "User config dir: C:\\Users\\tajdi\\AppData\\Local\\aut\\MyApp\n",
      "User cache dir: C:\\Users\\tajdi\\AppData\\Local\\aut\\MyApp\\Cache\n",
      "User data dir: C:\\Users\\tajdi\\AppData\\Local\\aut\\MyApp\n"
     ]
    }
   ],
   "source": [
    "print(\"User config dir:\", user_config_dir(app_name,auth))\n",
    "print(\"User cache dir:\", user_cache_dir(app_name,auth))\n",
    "print(\"User data dir:\", user_data_dir(app_name,auth))\n"
   ]
  },
  {
   "cell_type": "code",
   "execution_count": null,
   "id": "9cd847b5",
   "metadata": {},
   "outputs": [],
   "source": []
  }
 ],
 "metadata": {
  "kernelspec": {
   "display_name": "dashboard-rbGoJx3C-py3.13",
   "language": "python",
   "name": "python3"
  },
  "language_info": {
   "codemirror_mode": {
    "name": "ipython",
    "version": 3
   },
   "file_extension": ".py",
   "mimetype": "text/x-python",
   "name": "python",
   "nbconvert_exporter": "python",
   "pygments_lexer": "ipython3",
   "version": "3.13.5"
  }
 },
 "nbformat": 4,
 "nbformat_minor": 5
}
