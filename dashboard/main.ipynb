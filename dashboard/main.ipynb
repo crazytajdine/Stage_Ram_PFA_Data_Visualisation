{
 "cells": [
  {
   "cell_type": "code",
   "execution_count": 3,
   "id": "01523427",
   "metadata": {},
   "outputs": [],
   "source": [
    "path = \"C:\\\\Users\\\\tajdi\\\\Downloads\\\\project Idriss\\\\project Idriss\\\\data.xlsx\""
   ]
  },
  {
   "cell_type": "code",
   "execution_count": 6,
   "id": "735d6b4d",
   "metadata": {},
   "outputs": [],
   "source": [
    "from excel_manager import create_dep_datetime, filter_tec\n",
    "import polars as pl"
   ]
  },
  {
   "cell_type": "code",
   "execution_count": 8,
   "id": "c7ead2b2",
   "metadata": {},
   "outputs": [],
   "source": [
    "df = pl.read_excel(path, sheet_name=\"Sheet1\").lazy()"
   ]
  },
  {
   "cell_type": "code",
   "execution_count": 15,
   "id": "caacdbbe",
   "metadata": {},
   "outputs": [
    {
     "ename": "TypeError",
     "evalue": "datetime_() missing 1 required positional argument: 'day'",
     "output_type": "error",
     "traceback": [
      "\u001b[31m---------------------------------------------------------------------------\u001b[39m",
      "\u001b[31mTypeError\u001b[39m                                 Traceback (most recent call last)",
      "\u001b[36mCell\u001b[39m\u001b[36m \u001b[39m\u001b[32mIn[15]\u001b[39m\u001b[32m, line 1\u001b[39m\n\u001b[32m----> \u001b[39m\u001b[32m1\u001b[39m df = \u001b[43mdf\u001b[49m\u001b[43m.\u001b[49m\u001b[43mpipe\u001b[49m\u001b[43m(\u001b[49m\u001b[43mfilter_tec\u001b[49m\u001b[43m)\u001b[49m\u001b[43m.\u001b[49m\u001b[43mpipe\u001b[49m\u001b[43m(\u001b[49m\u001b[43mcreate_dep_datetime\u001b[49m\u001b[43m)\u001b[49m\n",
      "\u001b[36mFile \u001b[39m\u001b[32mc:\\Users\\tajdi\\AppData\\Local\\pypoetry\\Cache\\virtualenvs\\dashboard-rbGoJx3C-py3.13\\Lib\\site-packages\\polars\\lazyframe\\frame.py:939\u001b[39m, in \u001b[36mLazyFrame.pipe\u001b[39m\u001b[34m(self, function, *args, **kwargs)\u001b[39m\n\u001b[32m    870\u001b[39m \u001b[38;5;28;01mdef\u001b[39;00m\u001b[38;5;250m \u001b[39m\u001b[34mpipe\u001b[39m(\n\u001b[32m    871\u001b[39m     \u001b[38;5;28mself\u001b[39m,\n\u001b[32m    872\u001b[39m     function: Callable[Concatenate[LazyFrame, P], T],\n\u001b[32m    873\u001b[39m     *args: P.args,\n\u001b[32m    874\u001b[39m     **kwargs: P.kwargs,\n\u001b[32m    875\u001b[39m ) -> T:\n\u001b[32m    876\u001b[39m \u001b[38;5;250m    \u001b[39m\u001b[33;03m\"\"\"\u001b[39;00m\n\u001b[32m    877\u001b[39m \u001b[33;03m    Offers a structured way to apply a sequence of user-defined functions (UDFs).\u001b[39;00m\n\u001b[32m    878\u001b[39m \n\u001b[32m   (...)\u001b[39m\u001b[32m    937\u001b[39m \u001b[33;03m    └─────┴─────┘\u001b[39;00m\n\u001b[32m    938\u001b[39m \u001b[33;03m    \"\"\"\u001b[39;00m\n\u001b[32m--> \u001b[39m\u001b[32m939\u001b[39m     \u001b[38;5;28;01mreturn\u001b[39;00m \u001b[43mfunction\u001b[49m\u001b[43m(\u001b[49m\u001b[38;5;28;43mself\u001b[39;49m\u001b[43m,\u001b[49m\u001b[43m \u001b[49m\u001b[43m*\u001b[49m\u001b[43margs\u001b[49m\u001b[43m,\u001b[49m\u001b[43m \u001b[49m\u001b[43m*\u001b[49m\u001b[43m*\u001b[49m\u001b[43mkwargs\u001b[49m\u001b[43m)\u001b[49m\n",
      "\u001b[36mCell\u001b[39m\u001b[36m \u001b[39m\u001b[32mIn[14]\u001b[39m\u001b[32m, line 3\u001b[39m, in \u001b[36mcreate_dep_datetime\u001b[39m\u001b[34m(df_lazy)\u001b[39m\n\u001b[32m      1\u001b[39m \u001b[38;5;28;01mdef\u001b[39;00m\u001b[38;5;250m \u001b[39m\u001b[34mcreate_dep_datetime\u001b[39m(df_lazy: pl.LazyFrame) -> pl.LazyFrame:\n\u001b[32m      2\u001b[39m     \u001b[38;5;28;01mreturn\u001b[39;00m df_lazy.with_columns(\n\u001b[32m----> \u001b[39m\u001b[32m3\u001b[39m         \u001b[43mpl\u001b[49m\u001b[43m.\u001b[49m\u001b[43mdatetime\u001b[49m\u001b[43m(\u001b[49m\n\u001b[32m      4\u001b[39m \u001b[43m            \u001b[49m\u001b[43mpl\u001b[49m\u001b[43m.\u001b[49m\u001b[43mcol\u001b[49m\u001b[43m(\u001b[49m\u001b[33;43m\"\u001b[39;49m\u001b[33;43mDEP_DAY_SCHED\u001b[39;49m\u001b[33;43m\"\u001b[39;49m\u001b[43m)\u001b[49m\u001b[43m,\u001b[49m\n\u001b[32m      5\u001b[39m \u001b[43m            \u001b[49m\u001b[43mpl\u001b[49m\u001b[43m.\u001b[49m\u001b[43mcol\u001b[49m\u001b[43m(\u001b[49m\u001b[33;43m\"\u001b[39;49m\u001b[33;43mDEP_TIME_SCHED\u001b[39;49m\u001b[33;43m\"\u001b[39;49m\u001b[43m)\u001b[49m\u001b[43m.\u001b[49m\u001b[43mstr\u001b[49m\u001b[43m.\u001b[49m\u001b[43mstrptime\u001b[49m\u001b[43m(\u001b[49m\u001b[43mpl\u001b[49m\u001b[43m.\u001b[49m\u001b[43mTime\u001b[49m\u001b[43m,\u001b[49m\u001b[43m \u001b[49m\u001b[33;43m\"\u001b[39;49m\u001b[33;43m%\u001b[39;49m\u001b[33;43mH:\u001b[39;49m\u001b[33;43m%\u001b[39;49m\u001b[33;43mM\u001b[39;49m\u001b[33;43m\"\u001b[39;49m\u001b[43m)\u001b[49m\u001b[43m,\u001b[49m\n\u001b[32m      6\u001b[39m \u001b[43m        \u001b[49m\u001b[43m)\u001b[49m.alias(\u001b[33m\"\u001b[39m\u001b[33mDEP_DATETIME\u001b[39m\u001b[33m\"\u001b[39m)\n\u001b[32m      7\u001b[39m     )\n",
      "\u001b[31mTypeError\u001b[39m: datetime_() missing 1 required positional argument: 'day'"
     ]
    }
   ],
   "source": [
    "df = df.pipe(filter_tec).pipe(create_dep_datetime)"
   ]
  },
  {
   "cell_type": "code",
   "execution_count": null,
   "id": "ca09d2f5",
   "metadata": {},
   "outputs": [],
   "source": [
    "def create_dep_datetime(df_lazy: pl.LazyFrame) -> pl.LazyFrame:\n",
    "    return df_lazy.with_columns(\n",
    "        pl.col(\"DEP_DAY_SCHED\")\n",
    "        .dt.combine(pl.col(\"DEP_TIME_SCHED\").str.strptime(pl.Time, \"%H:%M\"))\n",
    "        .alias(\"DEP_DATETIME\")\n",
    "    )"
   ]
  },
  {
   "cell_type": "code",
   "execution_count": null,
   "id": "1d08e27a",
   "metadata": {},
   "outputs": [],
   "source": []
  },
  {
   "cell_type": "code",
   "execution_count": null,
   "id": "26b65f84",
   "metadata": {},
   "outputs": [],
   "source": []
  }
 ],
 "metadata": {
  "kernelspec": {
   "display_name": "dashboard-rbGoJx3C-py3.13",
   "language": "python",
   "name": "python3"
  },
  "language_info": {
   "codemirror_mode": {
    "name": "ipython",
    "version": 3
   },
   "file_extension": ".py",
   "mimetype": "text/x-python",
   "name": "python",
   "nbconvert_exporter": "python",
   "pygments_lexer": "ipython3",
   "version": "3.13.5"
  }
 },
 "nbformat": 4,
 "nbformat_minor": 5
}
