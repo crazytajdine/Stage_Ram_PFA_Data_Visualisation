{
 "cells": [
  {
   "cell_type": "code",
   "execution_count": null,
   "id": "581d39f4",
   "metadata": {},
   "outputs": [],
   "source": [
    "from services import (\n",
    "    user_service,\n",
    "    role_service,\n",
    "    page_service,\n",
    ")"
   ]
  },
  {
   "cell_type": "code",
   "execution_count": 2,
   "id": "757388df",
   "metadata": {},
   "outputs": [],
   "source": [
    "from data_managers.database_manager import session_scope"
   ]
  },
  {
   "cell_type": "code",
   "execution_count": 3,
   "id": "c0dc0c1b",
   "metadata": {},
   "outputs": [
    {
     "name": "stderr",
     "output_type": "stream",
     "text": [
      "WARNING:root:User None attempted to delete role id=3, but role not found\n"
     ]
    },
    {
     "name": "stdout",
     "output_type": "stream",
     "text": [
      "False\n"
     ]
    }
   ],
   "source": [
    "with session_scope() as session:\n",
    "    # just for test i did None id\n",
    "    is_deleted = role_service.delete_role(3, None, session=session)\n",
    "print(is_deleted)"
   ]
  },
  {
   "cell_type": "markdown",
   "id": "b2ec1a2a",
   "metadata": {},
   "source": [
    "mine already exist that is why"
   ]
  },
  {
   "cell_type": "code",
   "execution_count": null,
   "id": "c23698be",
   "metadata": {},
   "outputs": [
    {
     "name": "stdout",
     "output_type": "stream",
     "text": [
      "Already exist hell naah \n"
     ]
    }
   ],
   "source": [
    "from sqlalchemy.exc import IntegrityError\n",
    "\n",
    "try:\n",
    "    with session_scope() as session:\n",
    "        r = role_service.create_role(\"admin\", session=session)\n",
    "\n",
    "        pages = r.pages\n",
    "        id = r.id\n",
    "        print(r.id, r.pages)\n",
    "except IntegrityError:\n",
    "    print(\"Already exist hell naah \")"
   ]
  },
  {
   "cell_type": "code",
   "execution_count": null,
   "id": "3c0be1a4",
   "metadata": {},
   "outputs": [],
   "source": [
    "try:\n",
    "    with session_scope() as session:\n",
    "        user = user_service.create_user(\"admin@ff.com\", session=session)\n",
    "\n",
    "except IntegrityError:\n",
    "    print(\"Already exist hell naah \")"
   ]
  },
  {
   "cell_type": "code",
   "execution_count": 12,
   "id": "75bf34f7",
   "metadata": {},
   "outputs": [
    {
     "name": "stdout",
     "output_type": "stream",
     "text": [
      "3 []\n"
     ]
    }
   ],
   "source": [
    "with session_scope() as session:\n",
    "    r = role_service.get_role_by_name(\"admin\", session=session)\n",
    "    pages = r.pages\n",
    "    id = r.id\n",
    "    print(r.id, r.pages)"
   ]
  },
  {
   "cell_type": "code",
   "execution_count": 14,
   "id": "4b515096",
   "metadata": {},
   "outputs": [
    {
     "name": "stdout",
     "output_type": "stream",
     "text": [
      "Created Role: 7 admin\n"
     ]
    }
   ],
   "source": [
    "with session_scope() as session:\n",
    "    # Create role\n",
    "    role = role_service.create_role(\"admin\", session=session)\n",
    "\n",
    "    print(\"Created Role:\", role.id, role.role_name)"
   ]
  },
  {
   "cell_type": "code",
   "execution_count": null,
   "id": "9c39639a",
   "metadata": {},
   "outputs": [
    {
     "name": "stdout",
     "output_type": "stream",
     "text": [
      "Pages for role: ['Dashboard', 'Settings', 'Dashboard', 'Settings', 'Dashboard', 'Settings']\n"
     ]
    }
   ],
   "source": [
    "with session_scope() as session:\n",
    "\n",
    "    role = role_service.get_role_by_id(7, session=session)\n",
    "\n",
    "    # Page names to associate\n",
    "    page_names = [\"Dashboard\", \"Settings\"]\n",
    "\n",
    "    for name in page_names:\n",
    "        # Check if the page already exists\n",
    "        page = page_service.get_page_by_name(name, session=session)\n",
    "        if not page:\n",
    "            # Create the page if it doesn't exist\n",
    "            page = page_service.create_page(name, session=session)\n",
    "\n",
    "        # Associate page with role if not already associated\n",
    "        if page not in role.pages:\n",
    "            role.pages.append(page)\n",
    "\n",
    "    session.flush()\n",
    "    print(\"Pages for role:\", [p.page_name for p in role.pages])"
   ]
  },
  {
   "cell_type": "code",
   "execution_count": null,
   "id": "d941046a",
   "metadata": {},
   "outputs": [],
   "source": []
  }
 ],
 "metadata": {
  "kernelspec": {
   "display_name": "dashboard-gd99mBky-py3.10",
   "language": "python",
   "name": "python3"
  },
  "language_info": {
   "codemirror_mode": {
    "name": "ipython",
    "version": 3
   },
   "file_extension": ".py",
   "mimetype": "text/x-python",
   "name": "python",
   "nbconvert_exporter": "python",
   "pygments_lexer": "ipython3",
   "version": "3.10.18"
  }
 },
 "nbformat": 4,
 "nbformat_minor": 5
}
