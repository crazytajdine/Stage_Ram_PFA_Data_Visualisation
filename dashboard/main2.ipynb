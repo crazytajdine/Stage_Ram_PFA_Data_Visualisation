{
 "cells": [
  {
   "cell_type": "code",
   "execution_count": 7,
   "id": "70f66551",
   "metadata": {},
   "outputs": [],
   "source": [
    "from data_managers.excel_manager import get_df, apply_filters\n",
    "from calculations.main_dashboard import calculate_subtype_airport_pct"
   ]
  },
  {
   "cell_type": "code",
   "execution_count": 8,
   "id": "a62f7f4a",
   "metadata": {},
   "outputs": [],
   "source": [
    "df = get_df().collect()"
   ]
  },
  {
   "cell_type": "code",
   "execution_count": 9,
   "id": "90233242",
   "metadata": {},
   "outputs": [],
   "source": [
    "df, _ = apply_filters(df, {\"fl_segmentation\": 1, \"fl_unit_segmentation\": \"w\"})"
   ]
  },
  {
   "cell_type": "code",
   "execution_count": 10,
   "id": "269b6a92",
   "metadata": {},
   "outputs": [
    {
     "data": {
      "text/html": [
       "<div><style>\n",
       ".dataframe > thead > tr,\n",
       ".dataframe > tbody > tr {\n",
       "  text-align: right;\n",
       "  white-space: pre-wrap;\n",
       "}\n",
       "</style>\n",
       "<small>shape: (263, 38)</small><table border=\"1\" class=\"dataframe\"><thead><tr><th>FN_CARRIER</th><th>FN_NUMBER</th><th>FN_SUFFIX</th><th>AC_SUBTYPE</th><th>AC_REGISTRATION</th><th>LEG_TYPE</th><th>AC_VERSION</th><th>DEP_AP_SCHED</th><th>ARR_AP_SCHED</th><th>DEP_AP_ACTUAL</th><th>ARR_AP_ACTUAL</th><th>SECTEUR_ORIGIN</th><th>SECTEUR_DESTINATION</th><th>O/D</th><th>DEP_DAY_SCHED</th><th>DEP_TIME_SCHED</th><th>ARR_DAY_SCHED</th><th>ARR_TIME_SCHED</th><th>OFFBLOCK_DAY</th><th>OFFBLOCK_TIME</th><th>AIRBORNE_DAY</th><th>AIRBORNE_TIME</th><th>LANDING_DAY</th><th>LANDING_TIME</th><th>ONBLOCK_DAY</th><th>ONBLOCK_TIME</th><th>DELAY_CODE</th><th>LIB_CODE_DR</th><th>FAMILLE_DR</th><th>DELAY_TIME</th><th>Tranch Retard départ</th><th>TRAFIC</th><th>ENTRY_DAY</th><th>ENTRY_TIME</th><th>IREG</th><th>CREG</th><th>WINDOW_DATETIME_DEP</th><th>WINDOW_DATETIME_DEP_MAX</th></tr><tr><td>str</td><td>str</td><td>str</td><td>str</td><td>str</td><td>str</td><td>str</td><td>str</td><td>str</td><td>str</td><td>str</td><td>str</td><td>str</td><td>str</td><td>date</td><td>str</td><td>date</td><td>str</td><td>date</td><td>str</td><td>date</td><td>str</td><td>date</td><td>str</td><td>date</td><td>str</td><td>i32</td><td>str</td><td>str</td><td>i64</td><td>str</td><td>i64</td><td>date</td><td>str</td><td>str</td><td>str</td><td>date</td><td>date</td></tr></thead><tbody><tr><td>&quot;AT&quot;</td><td>&quot;0403&quot;</td><td>null</td><td>&quot;AT7&quot;</td><td>&quot;CNCOE&quot;</td><td>&quot;J&quot;</td><td>&quot;JY70&quot;</td><td>&quot;CMN&quot;</td><td>&quot;RAK&quot;</td><td>&quot;CMN&quot;</td><td>&quot;RAK&quot;</td><td>&quot;CMN&quot;</td><td>&quot;RAK&quot;</td><td>&quot;CMN/RAK&quot;</td><td>2025-07-04</td><td>&quot;21:35&quot;</td><td>2025-07-04</td><td>&quot;22:40&quot;</td><td>2025-07-04</td><td>&quot;22:44&quot;</td><td>2025-07-04</td><td>&quot;23:07&quot;</td><td>2025-07-04</td><td>&quot;23:48&quot;</td><td>2025-07-04</td><td>&quot;23:54&quot;</td><td>52</td><td>&quot;AVA&quot;</td><td>&quot;AVARIE&quot;</td><td>69</td><td>&quot;1h&lt;=R&lt;2h&quot;</td><td>54</td><td>2025-07-05</td><td>&quot;00:10&quot;</td><td>null</td><td>null</td><td>2025-06-30</td><td>2025-07-06</td></tr><tr><td>&quot;AT&quot;</td><td>&quot;0413&quot;</td><td>null</td><td>&quot;AT7&quot;</td><td>&quot;CNCOE&quot;</td><td>&quot;J&quot;</td><td>&quot;JY70&quot;</td><td>&quot;CMN&quot;</td><td>&quot;RAK&quot;</td><td>&quot;CMN&quot;</td><td>&quot;RAK&quot;</td><td>&quot;CMN&quot;</td><td>&quot;RAK&quot;</td><td>&quot;CMN/RAK&quot;</td><td>2025-07-20</td><td>&quot;15:35&quot;</td><td>2025-07-20</td><td>&quot;16:40&quot;</td><td>2025-07-20</td><td>&quot;15:53&quot;</td><td>2025-07-20</td><td>&quot;16:06&quot;</td><td>2025-07-20</td><td>&quot;16:47&quot;</td><td>2025-07-20</td><td>&quot;16:51&quot;</td><td>52</td><td>&quot;AVA&quot;</td><td>&quot;AVARIE&quot;</td><td>18</td><td>&quot;16min&lt;=R&lt;1h&quot;</td><td>69</td><td>2025-07-21</td><td>&quot;09:27&quot;</td><td>null</td><td>null</td><td>2025-07-14</td><td>2025-07-20</td></tr><tr><td>&quot;AT&quot;</td><td>&quot;0413&quot;</td><td>null</td><td>&quot;AT7&quot;</td><td>&quot;CNCOE&quot;</td><td>&quot;J&quot;</td><td>&quot;JY70&quot;</td><td>&quot;CMN&quot;</td><td>&quot;RAK&quot;</td><td>&quot;CMN&quot;</td><td>&quot;RAK&quot;</td><td>&quot;CMN&quot;</td><td>&quot;RAK&quot;</td><td>&quot;CMN/RAK&quot;</td><td>2025-07-29</td><td>&quot;16:05&quot;</td><td>2025-07-29</td><td>&quot;17:10&quot;</td><td>2025-07-29</td><td>&quot;16:14&quot;</td><td>2025-07-29</td><td>&quot;16:26&quot;</td><td>2025-07-29</td><td>&quot;17:09&quot;</td><td>2025-07-29</td><td>&quot;17:15&quot;</td><td>41</td><td>&quot;TEC&quot;</td><td>&quot;TECHNIQIE&quot;</td><td>9</td><td>&quot;-&quot;</td><td>53</td><td>2025-07-29</td><td>&quot;17:55&quot;</td><td>null</td><td>null</td><td>2025-07-28</td><td>2025-08-03</td></tr><tr><td>&quot;AT&quot;</td><td>&quot;0423&quot;</td><td>null</td><td>&quot;AT7&quot;</td><td>&quot;CNCOE&quot;</td><td>&quot;J&quot;</td><td>&quot;JY70&quot;</td><td>&quot;CMN&quot;</td><td>&quot;AGA&quot;</td><td>&quot;CMN&quot;</td><td>&quot;AGA&quot;</td><td>&quot;CMN&quot;</td><td>&quot;AGA&quot;</td><td>&quot;CMN/AGA&quot;</td><td>2025-07-24</td><td>&quot;09:55&quot;</td><td>2025-07-24</td><td>&quot;11:20&quot;</td><td>2025-07-24</td><td>&quot;09:59&quot;</td><td>2025-07-24</td><td>&quot;10:15&quot;</td><td>2025-07-24</td><td>&quot;11:21&quot;</td><td>2025-07-24</td><td>&quot;11:25&quot;</td><td>52</td><td>&quot;AVA&quot;</td><td>&quot;AVARIE&quot;</td><td>4</td><td>&quot;-&quot;</td><td>61</td><td>2025-07-24</td><td>&quot;14:02&quot;</td><td>null</td><td>null</td><td>2025-07-21</td><td>2025-07-27</td></tr><tr><td>&quot;AT&quot;</td><td>&quot;0440&quot;</td><td>null</td><td>&quot;AT7&quot;</td><td>&quot;CNCOE&quot;</td><td>&quot;J&quot;</td><td>&quot;JY70&quot;</td><td>&quot;CMN&quot;</td><td>&quot;FEZ&quot;</td><td>&quot;CMN&quot;</td><td>&quot;FEZ&quot;</td><td>&quot;CMN&quot;</td><td>&quot;FEZ&quot;</td><td>&quot;CMN/FEZ&quot;</td><td>2025-07-22</td><td>&quot;21:55&quot;</td><td>2025-07-22</td><td>&quot;23:05&quot;</td><td>2025-07-22</td><td>&quot;22:01&quot;</td><td>2025-07-22</td><td>&quot;22:13&quot;</td><td>2025-07-22</td><td>&quot;23:01&quot;</td><td>2025-07-22</td><td>&quot;23:03&quot;</td><td>52</td><td>&quot;AVA&quot;</td><td>&quot;AVARIE&quot;</td><td>6</td><td>&quot;-&quot;</td><td>52</td><td>2025-07-22</td><td>&quot;23:30&quot;</td><td>null</td><td>null</td><td>2025-07-21</td><td>2025-07-27</td></tr><tr><td>&hellip;</td><td>&hellip;</td><td>&hellip;</td><td>&hellip;</td><td>&hellip;</td><td>&hellip;</td><td>&hellip;</td><td>&hellip;</td><td>&hellip;</td><td>&hellip;</td><td>&hellip;</td><td>&hellip;</td><td>&hellip;</td><td>&hellip;</td><td>&hellip;</td><td>&hellip;</td><td>&hellip;</td><td>&hellip;</td><td>&hellip;</td><td>&hellip;</td><td>&hellip;</td><td>&hellip;</td><td>&hellip;</td><td>&hellip;</td><td>&hellip;</td><td>&hellip;</td><td>&hellip;</td><td>&hellip;</td><td>&hellip;</td><td>&hellip;</td><td>&hellip;</td><td>&hellip;</td><td>&hellip;</td><td>&hellip;</td><td>&hellip;</td><td>&hellip;</td><td>&hellip;</td><td>&hellip;</td></tr><tr><td>&quot;AT&quot;</td><td>&quot;0320&quot;</td><td>null</td><td>&quot;76Y&quot;</td><td>&quot;CNROW&quot;</td><td>&quot;F&quot;</td><td>&quot;P20&quot;</td><td>&quot;CMN&quot;</td><td>&quot;IST&quot;</td><td>&quot;CMN&quot;</td><td>&quot;IST&quot;</td><td>&quot;CMN&quot;</td><td>&quot;EUR&quot;</td><td>&quot;CMN/IST&quot;</td><td>2025-07-01</td><td>&quot;09:10&quot;</td><td>2025-07-01</td><td>&quot;13:55&quot;</td><td>2025-07-01</td><td>&quot;09:55&quot;</td><td>2025-07-01</td><td>&quot;10:08&quot;</td><td>2025-07-01</td><td>&quot;14:12&quot;</td><td>2025-07-01</td><td>&quot;14:18&quot;</td><td>41</td><td>&quot;TEC&quot;</td><td>&quot;TECHNIQIE&quot;</td><td>45</td><td>&quot;16min&lt;=R&lt;1h&quot;</td><td>0</td><td>2025-07-01</td><td>&quot;14:21&quot;</td><td>null</td><td>null</td><td>2025-06-30</td><td>2025-07-06</td></tr><tr><td>&quot;AT&quot;</td><td>&quot;0329&quot;</td><td>null</td><td>&quot;76Y&quot;</td><td>&quot;CNROW&quot;</td><td>&quot;F&quot;</td><td>&quot;P20&quot;</td><td>&quot;CMN&quot;</td><td>&quot;BKO&quot;</td><td>&quot;CMN&quot;</td><td>&quot;BKO&quot;</td><td>&quot;CMN&quot;</td><td>&quot;AFR&quot;</td><td>&quot;CMN/BKO&quot;</td><td>2025-07-10</td><td>&quot;09:00&quot;</td><td>2025-07-10</td><td>&quot;12:25&quot;</td><td>2025-07-10</td><td>&quot;09:15&quot;</td><td>2025-07-10</td><td>&quot;09:27&quot;</td><td>2025-07-10</td><td>&quot;12:19&quot;</td><td>2025-07-10</td><td>&quot;12:25&quot;</td><td>43</td><td>&quot;TEC&quot;</td><td>&quot;TECHNIQIE&quot;</td><td>15</td><td>&quot;-&quot;</td><td>0</td><td>2025-07-10</td><td>&quot;12:29&quot;</td><td>null</td><td>null</td><td>2025-07-07</td><td>2025-07-13</td></tr><tr><td>&quot;AT&quot;</td><td>&quot;0329&quot;</td><td>null</td><td>&quot;76Y&quot;</td><td>&quot;CNROW&quot;</td><td>&quot;F&quot;</td><td>&quot;P20&quot;</td><td>&quot;CMN&quot;</td><td>&quot;BKO&quot;</td><td>&quot;CMN&quot;</td><td>&quot;BKO&quot;</td><td>&quot;CMN&quot;</td><td>&quot;AFR&quot;</td><td>&quot;CMN/BKO&quot;</td><td>2025-07-17</td><td>&quot;09:00&quot;</td><td>2025-07-17</td><td>&quot;12:25&quot;</td><td>2025-07-17</td><td>&quot;09:51&quot;</td><td>2025-07-17</td><td>&quot;10:03&quot;</td><td>2025-07-17</td><td>&quot;12:50&quot;</td><td>2025-07-17</td><td>&quot;12:58&quot;</td><td>41</td><td>&quot;TEC&quot;</td><td>&quot;TECHNIQIE&quot;</td><td>51</td><td>&quot;16min&lt;=R&lt;1h&quot;</td><td>0</td><td>2025-07-17</td><td>&quot;15:24&quot;</td><td>null</td><td>null</td><td>2025-07-14</td><td>2025-07-20</td></tr><tr><td>&quot;AT&quot;</td><td>&quot;0718&quot;</td><td>null</td><td>&quot;73H&quot;</td><td>&quot;CNROY&quot;</td><td>&quot;J&quot;</td><td>&quot;JY159&quot;</td><td>&quot;CMN&quot;</td><td>&quot;LYS&quot;</td><td>&quot;CMN&quot;</td><td>&quot;LYS&quot;</td><td>&quot;CMN&quot;</td><td>&quot;FCE&quot;</td><td>&quot;CMN/LYS&quot;</td><td>2025-07-23</td><td>&quot;07:05&quot;</td><td>2025-07-23</td><td>&quot;09:50&quot;</td><td>2025-07-23</td><td>&quot;07:10&quot;</td><td>2025-07-23</td><td>&quot;07:20&quot;</td><td>2025-07-23</td><td>&quot;09:43&quot;</td><td>2025-07-23</td><td>&quot;09:48&quot;</td><td>41</td><td>&quot;TEC&quot;</td><td>&quot;TECHNIQIE&quot;</td><td>5</td><td>&quot;-&quot;</td><td>45</td><td>2025-07-23</td><td>&quot;10:05&quot;</td><td>null</td><td>null</td><td>2025-07-21</td><td>2025-07-27</td></tr><tr><td>&quot;AT&quot;</td><td>&quot;0409&quot;</td><td>null</td><td>&quot;73H&quot;</td><td>&quot;CNROZ&quot;</td><td>&quot;J&quot;</td><td>&quot;JY159&quot;</td><td>&quot;CMN&quot;</td><td>&quot;RAK&quot;</td><td>&quot;CMN&quot;</td><td>&quot;RAK&quot;</td><td>&quot;CMN&quot;</td><td>&quot;RAK&quot;</td><td>&quot;CMN/RAK&quot;</td><td>2025-07-04</td><td>&quot;07:55&quot;</td><td>2025-07-04</td><td>&quot;08:45&quot;</td><td>2025-07-04</td><td>&quot;08:11&quot;</td><td>2025-07-04</td><td>&quot;08:25&quot;</td><td>2025-07-04</td><td>&quot;08:52&quot;</td><td>2025-07-04</td><td>&quot;08:58&quot;</td><td>41</td><td>&quot;TEC&quot;</td><td>&quot;TECHNIQIE&quot;</td><td>16</td><td>&quot;16min&lt;=R&lt;1h&quot;</td><td>50</td><td>2025-07-07</td><td>&quot;10:53&quot;</td><td>null</td><td>null</td><td>2025-06-30</td><td>2025-07-06</td></tr></tbody></table></div>"
      ],
      "text/plain": [
       "shape: (263, 38)\n",
       "┌────────────┬───────────┬───────────┬────────────┬───┬──────┬──────┬───────────────┬──────────────┐\n",
       "│ FN_CARRIER ┆ FN_NUMBER ┆ FN_SUFFIX ┆ AC_SUBTYPE ┆ … ┆ IREG ┆ CREG ┆ WINDOW_DATETI ┆ WINDOW_DATET │\n",
       "│ ---        ┆ ---       ┆ ---       ┆ ---        ┆   ┆ ---  ┆ ---  ┆ ME_DEP        ┆ IME_DEP_MAX  │\n",
       "│ str        ┆ str       ┆ str       ┆ str        ┆   ┆ str  ┆ str  ┆ ---           ┆ ---          │\n",
       "│            ┆           ┆           ┆            ┆   ┆      ┆      ┆ date          ┆ date         │\n",
       "╞════════════╪═══════════╪═══════════╪════════════╪═══╪══════╪══════╪═══════════════╪══════════════╡\n",
       "│ AT         ┆ 0403      ┆ null      ┆ AT7        ┆ … ┆ null ┆ null ┆ 2025-06-30    ┆ 2025-07-06   │\n",
       "│ AT         ┆ 0413      ┆ null      ┆ AT7        ┆ … ┆ null ┆ null ┆ 2025-07-14    ┆ 2025-07-20   │\n",
       "│ AT         ┆ 0413      ┆ null      ┆ AT7        ┆ … ┆ null ┆ null ┆ 2025-07-28    ┆ 2025-08-03   │\n",
       "│ AT         ┆ 0423      ┆ null      ┆ AT7        ┆ … ┆ null ┆ null ┆ 2025-07-21    ┆ 2025-07-27   │\n",
       "│ AT         ┆ 0440      ┆ null      ┆ AT7        ┆ … ┆ null ┆ null ┆ 2025-07-21    ┆ 2025-07-27   │\n",
       "│ …          ┆ …         ┆ …         ┆ …          ┆ … ┆ …    ┆ …    ┆ …             ┆ …            │\n",
       "│ AT         ┆ 0320      ┆ null      ┆ 76Y        ┆ … ┆ null ┆ null ┆ 2025-06-30    ┆ 2025-07-06   │\n",
       "│ AT         ┆ 0329      ┆ null      ┆ 76Y        ┆ … ┆ null ┆ null ┆ 2025-07-07    ┆ 2025-07-13   │\n",
       "│ AT         ┆ 0329      ┆ null      ┆ 76Y        ┆ … ┆ null ┆ null ┆ 2025-07-14    ┆ 2025-07-20   │\n",
       "│ AT         ┆ 0718      ┆ null      ┆ 73H        ┆ … ┆ null ┆ null ┆ 2025-07-21    ┆ 2025-07-27   │\n",
       "│ AT         ┆ 0409      ┆ null      ┆ 73H        ┆ … ┆ null ┆ null ┆ 2025-06-30    ┆ 2025-07-06   │\n",
       "└────────────┴───────────┴───────────┴────────────┴───┴──────┴──────┴───────────────┴──────────────┘"
      ]
     },
     "execution_count": 10,
     "metadata": {},
     "output_type": "execute_result"
    }
   ],
   "source": [
    "df"
   ]
  },
  {
   "cell_type": "code",
   "execution_count": null,
   "id": "d8c85b61",
   "metadata": {},
   "outputs": [],
   "source": []
  },
  {
   "cell_type": "code",
   "execution_count": 11,
   "id": "cc0fc656",
   "metadata": {},
   "outputs": [
    {
     "name": "stderr",
     "output_type": "stream",
     "text": [
      "ERROR:root:Failed to get cache for key 'calculations:all_dates:without_segmentation:all_delays:all_subtypes:all_matricules:main_subtype_airport_pct': Error 10061 connecting to localhost:6379. No connection could be made because the target machine actively refused it.\n",
      "ERROR:root:Failed to set cache for key 'calculations:all_dates:without_segmentation:all_delays:all_subtypes:all_matricules:main_subtype_airport_pct': Error 10061 connecting to localhost:6379. No connection could be made because the target machine actively refused it.\n"
     ]
    }
   ],
   "source": [
    "res = calculate_subtype_airport_pct(df)"
   ]
  },
  {
   "cell_type": "code",
   "execution_count": 12,
   "id": "95453621",
   "metadata": {},
   "outputs": [
    {
     "data": {
      "text/html": [
       "<div><style>\n",
       ".dataframe > thead > tr,\n",
       ".dataframe > tbody > tr {\n",
       "  text-align: right;\n",
       "  white-space: pre-wrap;\n",
       "}\n",
       "</style>\n",
       "<small>shape: (81, 6)</small><table border=\"1\" class=\"dataframe\"><thead><tr><th>WINDOW_DATETIME_DEP</th><th>WINDOW_DATETIME_DEP_MAX</th><th>AC_SUBTYPE</th><th>DEP_AP_SCHED</th><th>count of flights</th><th>pct_by_registrations</th></tr><tr><td>date</td><td>date</td><td>str</td><td>str</td><td>u32</td><td>f64</td></tr></thead><tbody><tr><td>2025-07-28</td><td>2025-08-03</td><td>&quot;73H&quot;</td><td>&quot;CMN&quot;</td><td>14</td><td>87.5</td></tr><tr><td>2025-07-07</td><td>2025-07-13</td><td>&quot;73H&quot;</td><td>&quot;CMN&quot;</td><td>22</td><td>84.62</td></tr><tr><td>2025-07-21</td><td>2025-07-27</td><td>&quot;73H&quot;</td><td>&quot;CMN&quot;</td><td>26</td><td>83.87</td></tr><tr><td>2025-07-14</td><td>2025-07-20</td><td>&quot;73H&quot;</td><td>&quot;CMN&quot;</td><td>37</td><td>78.72</td></tr><tr><td>2025-06-30</td><td>2025-07-06</td><td>&quot;73H&quot;</td><td>&quot;CMN&quot;</td><td>16</td><td>59.26</td></tr><tr><td>&hellip;</td><td>&hellip;</td><td>&hellip;</td><td>&hellip;</td><td>&hellip;</td><td>&hellip;</td></tr><tr><td>2025-07-21</td><td>2025-07-27</td><td>&quot;E90&quot;</td><td>&quot;NAP&quot;</td><td>1</td><td>16.67</td></tr><tr><td>2025-07-21</td><td>2025-07-27</td><td>&quot;E90&quot;</td><td>&quot;MRS&quot;</td><td>1</td><td>16.67</td></tr><tr><td>2025-07-14</td><td>2025-07-20</td><td>&quot;E90&quot;</td><td>&quot;RBA&quot;</td><td>1</td><td>10.0</td></tr><tr><td>2025-07-14</td><td>2025-07-20</td><td>&quot;E90&quot;</td><td>&quot;BRU&quot;</td><td>1</td><td>10.0</td></tr><tr><td>2025-07-14</td><td>2025-07-20</td><td>&quot;E90&quot;</td><td>&quot;AGP&quot;</td><td>1</td><td>10.0</td></tr></tbody></table></div>"
      ],
      "text/plain": [
       "shape: (81, 6)\n",
       "┌───────────────────┬───────────────────┬────────────┬──────────────┬──────────┬───────────────────┐\n",
       "│ WINDOW_DATETIME_D ┆ WINDOW_DATETIME_D ┆ AC_SUBTYPE ┆ DEP_AP_SCHED ┆ count of ┆ pct_by_registrati │\n",
       "│ EP                ┆ EP_MAX            ┆ ---        ┆ ---          ┆ flights  ┆ ons               │\n",
       "│ ---               ┆ ---               ┆ str        ┆ str          ┆ ---      ┆ ---               │\n",
       "│ date              ┆ date              ┆            ┆              ┆ u32      ┆ f64               │\n",
       "╞═══════════════════╪═══════════════════╪════════════╪══════════════╪══════════╪═══════════════════╡\n",
       "│ 2025-07-28        ┆ 2025-08-03        ┆ 73H        ┆ CMN          ┆ 14       ┆ 87.5              │\n",
       "│ 2025-07-07        ┆ 2025-07-13        ┆ 73H        ┆ CMN          ┆ 22       ┆ 84.62             │\n",
       "│ 2025-07-21        ┆ 2025-07-27        ┆ 73H        ┆ CMN          ┆ 26       ┆ 83.87             │\n",
       "│ 2025-07-14        ┆ 2025-07-20        ┆ 73H        ┆ CMN          ┆ 37       ┆ 78.72             │\n",
       "│ 2025-06-30        ┆ 2025-07-06        ┆ 73H        ┆ CMN          ┆ 16       ┆ 59.26             │\n",
       "│ …                 ┆ …                 ┆ …          ┆ …            ┆ …        ┆ …                 │\n",
       "│ 2025-07-21        ┆ 2025-07-27        ┆ E90        ┆ NAP          ┆ 1        ┆ 16.67             │\n",
       "│ 2025-07-21        ┆ 2025-07-27        ┆ E90        ┆ MRS          ┆ 1        ┆ 16.67             │\n",
       "│ 2025-07-14        ┆ 2025-07-20        ┆ E90        ┆ RBA          ┆ 1        ┆ 10.0              │\n",
       "│ 2025-07-14        ┆ 2025-07-20        ┆ E90        ┆ BRU          ┆ 1        ┆ 10.0              │\n",
       "│ 2025-07-14        ┆ 2025-07-20        ┆ E90        ┆ AGP          ┆ 1        ┆ 10.0              │\n",
       "└───────────────────┴───────────────────┴────────────┴──────────────┴──────────┴───────────────────┘"
      ]
     },
     "execution_count": 12,
     "metadata": {},
     "output_type": "execute_result"
    }
   ],
   "source": [
    "res"
   ]
  },
  {
   "cell_type": "code",
   "execution_count": 28,
   "id": "11fca5e8",
   "metadata": {},
   "outputs": [
    {
     "data": {
      "text/html": [
       "<div><style>\n",
       ".dataframe > thead > tr,\n",
       ".dataframe > tbody > tr {\n",
       "  text-align: right;\n",
       "  white-space: pre-wrap;\n",
       "}\n",
       "</style>\n",
       "<small>shape: (5, 3)</small><table border=\"1\" class=\"dataframe\"><thead><tr><th>WINDOW_DATETIME_DEP</th><th>AC_SUBTYPE</th><th>total_count</th></tr><tr><td>date</td><td>str</td><td>f64</td></tr></thead><tbody><tr><td>2025-06-30</td><td>&quot;73H&quot;</td><td>99.99</td></tr><tr><td>2025-07-07</td><td>&quot;73H&quot;</td><td>100.02</td></tr><tr><td>2025-07-14</td><td>&quot;73H&quot;</td><td>100.02</td></tr><tr><td>2025-07-21</td><td>&quot;73H&quot;</td><td>100.01</td></tr><tr><td>2025-07-28</td><td>&quot;73H&quot;</td><td>100.0</td></tr></tbody></table></div>"
      ],
      "text/plain": [
       "shape: (5, 3)\n",
       "┌─────────────────────┬────────────┬─────────────┐\n",
       "│ WINDOW_DATETIME_DEP ┆ AC_SUBTYPE ┆ total_count │\n",
       "│ ---                 ┆ ---        ┆ ---         │\n",
       "│ date                ┆ str        ┆ f64         │\n",
       "╞═════════════════════╪════════════╪═════════════╡\n",
       "│ 2025-06-30          ┆ 73H        ┆ 99.99       │\n",
       "│ 2025-07-07          ┆ 73H        ┆ 100.02      │\n",
       "│ 2025-07-14          ┆ 73H        ┆ 100.02      │\n",
       "│ 2025-07-21          ┆ 73H        ┆ 100.01      │\n",
       "│ 2025-07-28          ┆ 73H        ┆ 100.0       │\n",
       "└─────────────────────┴────────────┴─────────────┘"
      ]
     },
     "execution_count": 28,
     "metadata": {},
     "output_type": "execute_result"
    }
   ],
   "source": [
    "from polars import col, sum\n",
    "\n",
    "\n",
    "res.group_by([\"WINDOW_DATETIME_DEP\", \"AC_SUBTYPE\"]).agg(\n",
    "    sum(\"pct_by_registrations\").alias(\"total_count\")\n",
    ").sort(\"WINDOW_DATETIME_DEP\").filter(col(\"AC_SUBTYPE\") == \"73H\")"
   ]
  },
  {
   "cell_type": "code",
   "execution_count": 24,
   "id": "c82882cb",
   "metadata": {},
   "outputs": [
    {
     "data": {
      "text/html": [
       "<div><style>\n",
       ".dataframe > thead > tr,\n",
       ".dataframe > tbody > tr {\n",
       "  text-align: right;\n",
       "  white-space: pre-wrap;\n",
       "}\n",
       "</style>\n",
       "<small>shape: (13, 8)</small><table border=\"1\" class=\"dataframe\"><thead><tr><th>WINDOW_DATETIME_DEP</th><th>WINDOW_DATETIME_DEP_MAX</th><th>AC_SUBTYPE</th><th>DEP_AP_SCHED</th><th>count of flights</th><th>pct_by_registrations</th><th>total_flights</th><th>percentage</th></tr><tr><td>date</td><td>date</td><td>str</td><td>str</td><td>u32</td><td>f64</td><td>u32</td><td>f64</td></tr></thead><tbody><tr><td>2025-07-28</td><td>2025-08-03</td><td>&quot;73H&quot;</td><td>&quot;CMN&quot;</td><td>14</td><td>87.5</td><td>16</td><td>87.5</td></tr><tr><td>2025-07-28</td><td>2025-08-03</td><td>&quot;73H&quot;</td><td>&quot;TUN&quot;</td><td>1</td><td>6.25</td><td>16</td><td>6.25</td></tr><tr><td>2025-07-28</td><td>2025-08-03</td><td>&quot;73H&quot;</td><td>&quot;ORY&quot;</td><td>1</td><td>6.25</td><td>16</td><td>6.25</td></tr><tr><td>2025-07-28</td><td>2025-08-03</td><td>&quot;788&quot;</td><td>&quot;CMN&quot;</td><td>3</td><td>100.0</td><td>3</td><td>100.0</td></tr><tr><td>2025-07-28</td><td>2025-08-03</td><td>&quot;789&quot;</td><td>&quot;JFK&quot;</td><td>2</td><td>66.67</td><td>3</td><td>66.666667</td></tr><tr><td>&hellip;</td><td>&hellip;</td><td>&hellip;</td><td>&hellip;</td><td>&hellip;</td><td>&hellip;</td><td>&hellip;</td><td>&hellip;</td></tr><tr><td>2025-07-28</td><td>2025-08-03</td><td>&quot;7M8&quot;</td><td>&quot;LYS&quot;</td><td>1</td><td>33.33</td><td>3</td><td>33.333333</td></tr><tr><td>2025-07-28</td><td>2025-08-03</td><td>&quot;AT7&quot;</td><td>&quot;CMN&quot;</td><td>3</td><td>75.0</td><td>4</td><td>75.0</td></tr><tr><td>2025-07-28</td><td>2025-08-03</td><td>&quot;AT7&quot;</td><td>&quot;LPA&quot;</td><td>1</td><td>25.0</td><td>4</td><td>25.0</td></tr><tr><td>2025-07-28</td><td>2025-08-03</td><td>&quot;E90&quot;</td><td>&quot;CMN&quot;</td><td>3</td><td>75.0</td><td>4</td><td>75.0</td></tr><tr><td>2025-07-28</td><td>2025-08-03</td><td>&quot;E90&quot;</td><td>&quot;AGP&quot;</td><td>1</td><td>25.0</td><td>4</td><td>25.0</td></tr></tbody></table></div>"
      ],
      "text/plain": [
       "shape: (13, 8)\n",
       "┌────────────┬────────────┬────────────┬───────────┬───────────┬───────────┬───────────┬───────────┐\n",
       "│ WINDOW_DAT ┆ WINDOW_DAT ┆ AC_SUBTYPE ┆ DEP_AP_SC ┆ count of  ┆ pct_by_re ┆ total_fli ┆ percentag │\n",
       "│ ETIME_DEP  ┆ ETIME_DEP_ ┆ ---        ┆ HED       ┆ flights   ┆ gistratio ┆ ghts      ┆ e         │\n",
       "│ ---        ┆ MAX        ┆ str        ┆ ---       ┆ ---       ┆ ns        ┆ ---       ┆ ---       │\n",
       "│ date       ┆ ---        ┆            ┆ str       ┆ u32       ┆ ---       ┆ u32       ┆ f64       │\n",
       "│            ┆ date       ┆            ┆           ┆           ┆ f64       ┆           ┆           │\n",
       "╞════════════╪════════════╪════════════╪═══════════╪═══════════╪═══════════╪═══════════╪═══════════╡\n",
       "│ 2025-07-28 ┆ 2025-08-03 ┆ 73H        ┆ CMN       ┆ 14        ┆ 87.5      ┆ 16        ┆ 87.5      │\n",
       "│ 2025-07-28 ┆ 2025-08-03 ┆ 73H        ┆ TUN       ┆ 1         ┆ 6.25      ┆ 16        ┆ 6.25      │\n",
       "│ 2025-07-28 ┆ 2025-08-03 ┆ 73H        ┆ ORY       ┆ 1         ┆ 6.25      ┆ 16        ┆ 6.25      │\n",
       "│ 2025-07-28 ┆ 2025-08-03 ┆ 788        ┆ CMN       ┆ 3         ┆ 100.0     ┆ 3         ┆ 100.0     │\n",
       "│ 2025-07-28 ┆ 2025-08-03 ┆ 789        ┆ JFK       ┆ 2         ┆ 66.67     ┆ 3         ┆ 66.666667 │\n",
       "│ …          ┆ …          ┆ …          ┆ …         ┆ …         ┆ …         ┆ …         ┆ …         │\n",
       "│ 2025-07-28 ┆ 2025-08-03 ┆ 7M8        ┆ LYS       ┆ 1         ┆ 33.33     ┆ 3         ┆ 33.333333 │\n",
       "│ 2025-07-28 ┆ 2025-08-03 ┆ AT7        ┆ CMN       ┆ 3         ┆ 75.0      ┆ 4         ┆ 75.0      │\n",
       "│ 2025-07-28 ┆ 2025-08-03 ┆ AT7        ┆ LPA       ┆ 1         ┆ 25.0      ┆ 4         ┆ 25.0      │\n",
       "│ 2025-07-28 ┆ 2025-08-03 ┆ E90        ┆ CMN       ┆ 3         ┆ 75.0      ┆ 4         ┆ 75.0      │\n",
       "│ 2025-07-28 ┆ 2025-08-03 ┆ E90        ┆ AGP       ┆ 1         ┆ 25.0      ┆ 4         ┆ 25.0      │\n",
       "└────────────┴────────────┴────────────┴───────────┴───────────┴───────────┴───────────┴───────────┘"
      ]
     },
     "execution_count": 24,
     "metadata": {},
     "output_type": "execute_result"
    }
   ],
   "source": [
    "from datetime import date\n",
    "\n",
    "\n",
    "res.with_columns(\n",
    "    [\n",
    "        col(\"count of flights\")\n",
    "        .sum()\n",
    "        .over([\"WINDOW_DATETIME_DEP\", \"AC_SUBTYPE\"])\n",
    "        .alias(\"total_flights\"),\n",
    "    ]\n",
    ").with_columns(\n",
    "    (col(\"count of flights\") / col(\"total_flights\") * 100).alias(\"percentage\")\n",
    ").filter(\n",
    "    col(\"WINDOW_DATETIME_DEP\") == date(2025, 7, 28)\n",
    ").sort(\n",
    "    \"WINDOW_DATETIME_DEP\"\n",
    ")"
   ]
  },
  {
   "cell_type": "code",
   "execution_count": null,
   "id": "a0cc55d2",
   "metadata": {},
   "outputs": [],
   "source": []
  }
 ],
 "metadata": {
  "kernelspec": {
   "display_name": ".venv",
   "language": "python",
   "name": "python3"
  },
  "language_info": {
   "codemirror_mode": {
    "name": "ipython",
    "version": 3
   },
   "file_extension": ".py",
   "mimetype": "text/x-python",
   "name": "python",
   "nbconvert_exporter": "python",
   "pygments_lexer": "ipython3",
   "version": "3.10.0"
  }
 },
 "nbformat": 4,
 "nbformat_minor": 5
}
