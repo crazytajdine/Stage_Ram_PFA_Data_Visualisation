{
 "cells": [
  {
   "cell_type": "code",
   "execution_count": 5,
   "id": "06d58e83",
   "metadata": {},
   "outputs": [],
   "source": [
    "from dashboard.schemas.filter import FilterType\n",
    "\n",
    "\n",
    "def get_filter_without_segmentation_and_none(filter: FilterType):\n",
    "    return (\n",
    "        {\n",
    "            k: v\n",
    "            for k, v in filter.items()\n",
    "            if v and (k not in [\"fl_unit_segmentation\", \"fl_segmentation\"])\n",
    "        }\n",
    "        if filter\n",
    "        else {}\n",
    "    )"
   ]
  },
  {
   "cell_type": "code",
   "execution_count": 6,
   "id": "317f8938",
   "metadata": {},
   "outputs": [],
   "source": [
    "f: FilterType = {\n",
    "    \"fl_subtype\": None,\n",
    "    \"fl_matricule\": None,\n",
    "    \"dt_start\": None,\n",
    "    \"dt_end\": None,\n",
    "    \"fl_segmentation\": None,\n",
    "    \"fl_unit_segmentation\": \"d\",\n",
    "}"
   ]
  },
  {
   "cell_type": "code",
   "execution_count": 7,
   "id": "1d1930a2",
   "metadata": {},
   "outputs": [
    {
     "data": {
      "text/plain": [
       "{}"
      ]
     },
     "execution_count": 7,
     "metadata": {},
     "output_type": "execute_result"
    }
   ],
   "source": [
    "get_filter_without_segmentation_and_none(f)"
   ]
  },
  {
   "cell_type": "code",
   "execution_count": null,
   "id": "454aa85d",
   "metadata": {},
   "outputs": [],
   "source": []
  }
 ],
 "metadata": {
  "kernelspec": {
   "display_name": "dashboard-gd99mBky-py3.10",
   "language": "python",
   "name": "python3"
  },
  "language_info": {
   "codemirror_mode": {
    "name": "ipython",
    "version": 3
   },
   "file_extension": ".py",
   "mimetype": "text/x-python",
   "name": "python",
   "nbconvert_exporter": "python",
   "pygments_lexer": "ipython3",
   "version": "3.10.18"
  }
 },
 "nbformat": 4,
 "nbformat_minor": 5
}
