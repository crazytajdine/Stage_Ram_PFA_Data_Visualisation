{
 "cells": [
  {
   "cell_type": "code",
   "execution_count": 14,
   "id": "581d39f4",
   "metadata": {},
   "outputs": [],
   "source": [
    "from services import (\n",
    "    user_service,\n",
    "    role_service,\n",
    "    page_service,\n",
    ")"
   ]
  },
  {
   "cell_type": "code",
   "execution_count": 15,
   "id": "757388df",
   "metadata": {},
   "outputs": [],
   "source": [
    "from data_managers.database_manager import session_scope"
   ]
  },
  {
   "cell_type": "markdown",
   "id": "b2ec1a2a",
   "metadata": {},
   "source": [
    "mine already exist that is why\n"
   ]
  },
  {
   "cell_type": "code",
   "execution_count": 25,
   "id": "9df1def6",
   "metadata": {},
   "outputs": [],
   "source": [
    "import bcrypt\n",
    "\n",
    "sh = \"test\"\n",
    "salt = bcrypt.gensalt()\n",
    "admin_password = bcrypt.hashpw(b\"test\", salt)"
   ]
  },
  {
   "cell_type": "code",
   "execution_count": 31,
   "id": "862ffb2b",
   "metadata": {},
   "outputs": [],
   "source": [
    "depass = admin_password.decode(\"utf-8\")"
   ]
  },
  {
   "cell_type": "code",
   "execution_count": null,
   "id": "c23698be",
   "metadata": {},
   "outputs": [
    {
     "name": "stdout",
     "output_type": "stream",
     "text": [
      "Already exist hell naah \n"
     ]
    }
   ],
   "source": [
    "from sqlalchemy.exc import IntegrityError\n",
    "\n",
    "try:\n",
    "    with session_scope() as session:\n",
    "        r = role_service.create_role(\"admin\", session=session)\n",
    "\n",
    "        pages = r.pages\n",
    "        id = r.id\n",
    "        print(r.id, r.pages)\n",
    "except IntegrityError:\n",
    "    print(\"Already exist hell naah \")"
   ]
  },
  {
   "cell_type": "code",
   "execution_count": null,
   "id": "3c0be1a4",
   "metadata": {},
   "outputs": [],
   "source": [
    "try:\n",
    "    with session_scope() as session:\n",
    "        user = user_service.create_user(\"admin@ff.com\", session=session)\n",
    "\n",
    "except IntegrityError:\n",
    "    print(\"Already exist hell naah \")"
   ]
  },
  {
   "cell_type": "code",
   "execution_count": 12,
   "id": "75bf34f7",
   "metadata": {},
   "outputs": [
    {
     "name": "stdout",
     "output_type": "stream",
     "text": [
      "3 []\n"
     ]
    }
   ],
   "source": [
    "with session_scope() as session:\n",
    "    r = role_service.get_role_by_name(\"admin\", session=session)\n",
    "    pages = r.pages\n",
    "    id = r.id\n",
    "    print(r.id, r.pages)"
   ]
  },
  {
   "cell_type": "code",
   "execution_count": 14,
   "id": "4b515096",
   "metadata": {},
   "outputs": [
    {
     "name": "stdout",
     "output_type": "stream",
     "text": [
      "Created Role: 7 admin\n"
     ]
    }
   ],
   "source": [
    "with session_scope() as session:\n",
    "    # Create role\n",
    "    role = role_service.create_role(\"admin\", session=session)\n",
    "\n",
    "    print(\"Created Role:\", role.id, role.role_name)"
   ]
  },
  {
   "cell_type": "code",
   "execution_count": null,
   "id": "9c39639a",
   "metadata": {},
   "outputs": [
    {
     "name": "stdout",
     "output_type": "stream",
     "text": [
      "Pages for role: ['Dashboard', 'Settings', 'Dashboard', 'Settings', 'Dashboard', 'Settings']\n"
     ]
    }
   ],
   "source": [
    "with session_scope() as session:\n",
    "\n",
    "    role = role_service.get_role_by_id(7, session=session)\n",
    "\n",
    "    # Page names to associate\n",
    "    page_names = [\"Dashboard\", \"Settings\"]\n",
    "\n",
    "    for name in page_names:\n",
    "        # Check if the page already exists\n",
    "        page = page_service.get_page_by_name(name, session=session)\n",
    "        if not page:\n",
    "            # Create the page if it doesn't exist\n",
    "            page = page_service.create_page(name, session=session)\n",
    "\n",
    "        # Associate page with role if not already associated\n",
    "        if page not in role.pages:\n",
    "            role.pages.append(page)\n",
    "\n",
    "    session.flush()\n",
    "    print(\"Pages for role:\", [p.page_name for p in role.pages])"
   ]
  },
  {
   "cell_type": "code",
   "execution_count": 32,
   "id": "62b252e8",
   "metadata": {},
   "outputs": [],
   "source": [
    "with session_scope() as session:\n",
    "    user = user_service.create_user(\"test@gmail.com\", depass, 11, session)"
   ]
  },
  {
   "cell_type": "code",
   "execution_count": 1,
   "id": "1fec6abe",
   "metadata": {},
   "outputs": [
    {
     "name": "stderr",
     "output_type": "stream",
     "text": [
      "WARNING:fastexcel.types.dtype:Could not determine dtype for column 2, falling back to string\n",
      "WARNING:fastexcel.types.dtype:Could not determine dtype for column 34, falling back to string\n",
      "WARNING:fastexcel.types.dtype:Could not determine dtype for column 35, falling back to string\n"
     ]
    }
   ],
   "source": [
    "from calculations.analytics import prepare_subtype_family_data"
   ]
  },
  {
   "cell_type": "code",
   "execution_count": 2,
   "id": "07c82260",
   "metadata": {},
   "outputs": [
    {
     "ename": "ColumnNotFoundError",
     "evalue": "WINDOW_DATETIME_DEP\n\nResolved plan until failure:\n\n\t---> FAILED HERE RESOLVING 'sink' <---\nDF [\"FN_CARRIER\", \"FN_NUMBER\", \"FN_SUFFIX\", \"AC_SUBTYPE\", ...]; PROJECT */36 COLUMNS",
     "output_type": "error",
     "traceback": [
      "\u001b[1;31m---------------------------------------------------------------------------\u001b[0m",
      "\u001b[1;31mColumnNotFoundError\u001b[0m                       Traceback (most recent call last)",
      "Cell \u001b[1;32mIn[2], line 1\u001b[0m\n\u001b[1;32m----> 1\u001b[0m \u001b[43mprepare_subtype_family_data\u001b[49m\u001b[43m(\u001b[49m\u001b[43m)\u001b[49m\n",
      "File \u001b[1;32mc:\\Users\\tajdi\\OneDrive\\Documents\\GitHub\\Stage_Ram_PFA_Data_Visualisation\\dashboard\\calculations\\analytics.py:160\u001b[0m, in \u001b[0;36mprepare_subtype_family_data\u001b[1;34m()\u001b[0m\n\u001b[0;32m    157\u001b[0m df \u001b[38;5;241m=\u001b[39m df_lazy\u001b[38;5;241m.\u001b[39mcollect()\n\u001b[0;32m    159\u001b[0m \u001b[38;5;66;03m# Count per AC_FAMILY + AC_SUBTYPE per time window\u001b[39;00m\n\u001b[1;32m--> 160\u001b[0m temporal_all \u001b[38;5;241m=\u001b[39m \u001b[43mdf\u001b[49m\u001b[38;5;241;43m.\u001b[39;49m\u001b[43mgroup_by\u001b[49m\u001b[43m(\u001b[49m\u001b[43m[\u001b[49m\u001b[43mCOL_NAME_WINDOW_TIME\u001b[49m\u001b[43m,\u001b[49m\u001b[43m \u001b[49m\u001b[38;5;124;43m\"\u001b[39;49m\u001b[38;5;124;43mAC_FAMILY\u001b[39;49m\u001b[38;5;124;43m\"\u001b[39;49m\u001b[43m,\u001b[49m\u001b[43m \u001b[49m\u001b[38;5;124;43m\"\u001b[39;49m\u001b[38;5;124;43mAC_SUBTYPE\u001b[39;49m\u001b[38;5;124;43m\"\u001b[39;49m\u001b[43m]\u001b[49m\u001b[43m)\u001b[49m\u001b[38;5;241;43m.\u001b[39;49m\u001b[43magg\u001b[49m\u001b[43m(\u001b[49m\n\u001b[0;32m    161\u001b[0m \u001b[43m    \u001b[49m\u001b[43mpl\u001b[49m\u001b[38;5;241;43m.\u001b[39;49m\u001b[43mlen\u001b[49m\u001b[43m(\u001b[49m\u001b[43m)\u001b[49m\u001b[38;5;241;43m.\u001b[39;49m\u001b[43malias\u001b[49m\u001b[43m(\u001b[49m\u001b[38;5;124;43m\"\u001b[39;49m\u001b[38;5;124;43mcount_per_subtype_family\u001b[39;49m\u001b[38;5;124;43m\"\u001b[39;49m\u001b[43m)\u001b[49m\u001b[43m,\u001b[49m\n\u001b[0;32m    162\u001b[0m \u001b[43m    \u001b[49m\u001b[43mpl\u001b[49m\u001b[38;5;241;43m.\u001b[39;49m\u001b[43mcol\u001b[49m\u001b[43m(\u001b[49m\u001b[43mCOL_NAME_WINDOW_TIME_MAX\u001b[49m\u001b[43m)\u001b[49m\u001b[38;5;241;43m.\u001b[39;49m\u001b[43mfirst\u001b[49m\u001b[43m(\u001b[49m\u001b[43m)\u001b[49m\u001b[38;5;241;43m.\u001b[39;49m\u001b[43malias\u001b[49m\u001b[43m(\u001b[49m\u001b[43mCOL_NAME_WINDOW_TIME_MAX\u001b[49m\u001b[43m)\u001b[49m\u001b[43m,\u001b[49m\n\u001b[0;32m    163\u001b[0m \u001b[43m\u001b[49m\u001b[43m)\u001b[49m\n\u001b[0;32m    165\u001b[0m \u001b[38;5;66;03m# Total per period\u001b[39;00m\n\u001b[0;32m    166\u001b[0m period_totals \u001b[38;5;241m=\u001b[39m temporal_all\u001b[38;5;241m.\u001b[39mgroup_by(COL_NAME_WINDOW_TIME)\u001b[38;5;241m.\u001b[39magg(\n\u001b[0;32m    167\u001b[0m     pl\u001b[38;5;241m.\u001b[39mcol(\u001b[38;5;124m\"\u001b[39m\u001b[38;5;124mcount_per_subtype_family\u001b[39m\u001b[38;5;124m\"\u001b[39m)\u001b[38;5;241m.\u001b[39msum()\u001b[38;5;241m.\u001b[39malias(\u001b[38;5;124m\"\u001b[39m\u001b[38;5;124mperiod_total\u001b[39m\u001b[38;5;124m\"\u001b[39m)\n\u001b[0;32m    168\u001b[0m )\n",
      "File \u001b[1;32mc:\\Users\\tajdi\\AppData\\Local\\pypoetry\\Cache\\virtualenvs\\dashboard-gd99mBky-py3.10\\lib\\site-packages\\polars\\dataframe\\group_by.py:238\u001b[0m, in \u001b[0;36mGroupBy.agg\u001b[1;34m(self, *aggs, **named_aggs)\u001b[0m\n\u001b[0;32m    135\u001b[0m \u001b[38;5;250m\u001b[39m\u001b[38;5;124;03m\"\"\"\u001b[39;00m\n\u001b[0;32m    136\u001b[0m \u001b[38;5;124;03mCompute aggregations for each group of a group by operation.\u001b[39;00m\n\u001b[0;32m    137\u001b[0m \n\u001b[1;32m   (...)\u001b[0m\n\u001b[0;32m    233\u001b[0m \u001b[38;5;124;03m└─────┴───────┴────────────────┘\u001b[39;00m\n\u001b[0;32m    234\u001b[0m \u001b[38;5;124;03m\"\"\"\u001b[39;00m\n\u001b[0;32m    235\u001b[0m \u001b[38;5;28;01mfrom\u001b[39;00m\u001b[38;5;250m \u001b[39m\u001b[38;5;21;01mpolars\u001b[39;00m\u001b[38;5;21;01m.\u001b[39;00m\u001b[38;5;21;01mlazyframe\u001b[39;00m\u001b[38;5;21;01m.\u001b[39;00m\u001b[38;5;21;01mopt_flags\u001b[39;00m\u001b[38;5;250m \u001b[39m\u001b[38;5;28;01mimport\u001b[39;00m QueryOptFlags\n\u001b[0;32m    237\u001b[0m \u001b[38;5;28;01mreturn\u001b[39;00m (\n\u001b[1;32m--> 238\u001b[0m     \u001b[38;5;28;43mself\u001b[39;49m\u001b[38;5;241;43m.\u001b[39;49m\u001b[43mdf\u001b[49m\u001b[38;5;241;43m.\u001b[39;49m\u001b[43mlazy\u001b[49m\u001b[43m(\u001b[49m\u001b[43m)\u001b[49m\n\u001b[0;32m    239\u001b[0m \u001b[43m    \u001b[49m\u001b[38;5;241;43m.\u001b[39;49m\u001b[43mgroup_by\u001b[49m\u001b[43m(\u001b[49m\u001b[38;5;241;43m*\u001b[39;49m\u001b[38;5;28;43mself\u001b[39;49m\u001b[38;5;241;43m.\u001b[39;49m\u001b[43mby\u001b[49m\u001b[43m,\u001b[49m\u001b[43m \u001b[49m\u001b[38;5;241;43m*\u001b[39;49m\u001b[38;5;241;43m*\u001b[39;49m\u001b[38;5;28;43mself\u001b[39;49m\u001b[38;5;241;43m.\u001b[39;49m\u001b[43mnamed_by\u001b[49m\u001b[43m,\u001b[49m\u001b[43m \u001b[49m\u001b[43mmaintain_order\u001b[49m\u001b[38;5;241;43m=\u001b[39;49m\u001b[38;5;28;43mself\u001b[39;49m\u001b[38;5;241;43m.\u001b[39;49m\u001b[43mmaintain_order\u001b[49m\u001b[43m)\u001b[49m\n\u001b[0;32m    240\u001b[0m \u001b[43m    \u001b[49m\u001b[38;5;241;43m.\u001b[39;49m\u001b[43magg\u001b[49m\u001b[43m(\u001b[49m\u001b[38;5;241;43m*\u001b[39;49m\u001b[43maggs\u001b[49m\u001b[43m,\u001b[49m\u001b[43m \u001b[49m\u001b[38;5;241;43m*\u001b[39;49m\u001b[38;5;241;43m*\u001b[39;49m\u001b[43mnamed_aggs\u001b[49m\u001b[43m)\u001b[49m\n\u001b[0;32m    241\u001b[0m \u001b[43m    \u001b[49m\u001b[38;5;241;43m.\u001b[39;49m\u001b[43mcollect\u001b[49m\u001b[43m(\u001b[49m\u001b[43moptimizations\u001b[49m\u001b[38;5;241;43m=\u001b[39;49m\u001b[43mQueryOptFlags\u001b[49m\u001b[38;5;241;43m.\u001b[39;49m\u001b[43mnone\u001b[49m\u001b[43m(\u001b[49m\u001b[43m)\u001b[49m\u001b[43m)\u001b[49m\n\u001b[0;32m    242\u001b[0m )\n",
      "File \u001b[1;32mc:\\Users\\tajdi\\AppData\\Local\\pypoetry\\Cache\\virtualenvs\\dashboard-gd99mBky-py3.10\\lib\\site-packages\\polars\\_utils\\deprecation.py:97\u001b[0m, in \u001b[0;36mdeprecate_streaming_parameter.<locals>.decorate.<locals>.wrapper\u001b[1;34m(*args, **kwargs)\u001b[0m\n\u001b[0;32m     93\u001b[0m         kwargs[\u001b[38;5;124m\"\u001b[39m\u001b[38;5;124mengine\u001b[39m\u001b[38;5;124m\"\u001b[39m] \u001b[38;5;241m=\u001b[39m \u001b[38;5;124m\"\u001b[39m\u001b[38;5;124min-memory\u001b[39m\u001b[38;5;124m\"\u001b[39m\n\u001b[0;32m     95\u001b[0m     \u001b[38;5;28;01mdel\u001b[39;00m kwargs[\u001b[38;5;124m\"\u001b[39m\u001b[38;5;124mstreaming\u001b[39m\u001b[38;5;124m\"\u001b[39m]\n\u001b[1;32m---> 97\u001b[0m \u001b[38;5;28;01mreturn\u001b[39;00m function(\u001b[38;5;241m*\u001b[39margs, \u001b[38;5;241m*\u001b[39m\u001b[38;5;241m*\u001b[39mkwargs)\n",
      "File \u001b[1;32mc:\\Users\\tajdi\\AppData\\Local\\pypoetry\\Cache\\virtualenvs\\dashboard-gd99mBky-py3.10\\lib\\site-packages\\polars\\lazyframe\\opt_flags.py:330\u001b[0m, in \u001b[0;36mforward_old_opt_flags.<locals>.decorate.<locals>.wrapper\u001b[1;34m(*args, **kwargs)\u001b[0m\n\u001b[0;32m    327\u001b[0m         optflags \u001b[38;5;241m=\u001b[39m cb(optflags, kwargs\u001b[38;5;241m.\u001b[39mpop(key))  \u001b[38;5;66;03m# type: ignore[no-untyped-call,unused-ignore]\u001b[39;00m\n\u001b[0;32m    329\u001b[0m kwargs[\u001b[38;5;124m\"\u001b[39m\u001b[38;5;124moptimizations\u001b[39m\u001b[38;5;124m\"\u001b[39m] \u001b[38;5;241m=\u001b[39m optflags\n\u001b[1;32m--> 330\u001b[0m \u001b[38;5;28;01mreturn\u001b[39;00m function(\u001b[38;5;241m*\u001b[39margs, \u001b[38;5;241m*\u001b[39m\u001b[38;5;241m*\u001b[39mkwargs)\n",
      "File \u001b[1;32mc:\\Users\\tajdi\\AppData\\Local\\pypoetry\\Cache\\virtualenvs\\dashboard-gd99mBky-py3.10\\lib\\site-packages\\polars\\lazyframe\\frame.py:2332\u001b[0m, in \u001b[0;36mLazyFrame.collect\u001b[1;34m(self, type_coercion, predicate_pushdown, projection_pushdown, simplify_expression, slice_pushdown, comm_subplan_elim, comm_subexpr_elim, cluster_with_columns, collapse_joins, no_optimization, engine, background, optimizations, **_kwargs)\u001b[0m\n\u001b[0;32m   2330\u001b[0m \u001b[38;5;66;03m# Only for testing purposes\u001b[39;00m\n\u001b[0;32m   2331\u001b[0m callback \u001b[38;5;241m=\u001b[39m _kwargs\u001b[38;5;241m.\u001b[39mget(\u001b[38;5;124m\"\u001b[39m\u001b[38;5;124mpost_opt_callback\u001b[39m\u001b[38;5;124m\"\u001b[39m, callback)\n\u001b[1;32m-> 2332\u001b[0m \u001b[38;5;28;01mreturn\u001b[39;00m wrap_df(\u001b[43mldf\u001b[49m\u001b[38;5;241;43m.\u001b[39;49m\u001b[43mcollect\u001b[49m\u001b[43m(\u001b[49m\u001b[43mengine\u001b[49m\u001b[43m,\u001b[49m\u001b[43m \u001b[49m\u001b[43mcallback\u001b[49m\u001b[43m)\u001b[49m)\n",
      "\u001b[1;31mColumnNotFoundError\u001b[0m: WINDOW_DATETIME_DEP\n\nResolved plan until failure:\n\n\t---> FAILED HERE RESOLVING 'sink' <---\nDF [\"FN_CARRIER\", \"FN_NUMBER\", \"FN_SUFFIX\", \"AC_SUBTYPE\", ...]; PROJECT */36 COLUMNS"
     ]
    }
   ],
   "source": [
    "prepare_subtype_family_data()"
   ]
  },
  {
   "cell_type": "code",
   "execution_count": 1,
   "id": "d941046a",
   "metadata": {},
   "outputs": [],
   "source": [
    "import bcrypt\n",
    "\n",
    "salt = bcrypt.gensalt()\n",
    "admin_password = bcrypt.hashpw(b\"test\", salt)"
   ]
  },
  {
   "cell_type": "code",
   "execution_count": 36,
   "id": "34225a83",
   "metadata": {},
   "outputs": [],
   "source": [
    "f = \"$2b$12$lH4HhNx5KmkVEGjrIV5CNO3wyu5iz1u6XDj5RiWjVv7Ql4yiRa8t6\"\n",
    "fdep = f.encode(\"utf-8\")"
   ]
  },
  {
   "cell_type": "code",
   "execution_count": 2,
   "id": "2f4b8961",
   "metadata": {},
   "outputs": [
    {
     "data": {
      "text/plain": [
       "b'$2b$12$lAAE3y6eLfBb2oK0D9WY.OSGaBQFWOlrl.MtngsscRbtIc1bejGxi'"
      ]
     },
     "execution_count": 2,
     "metadata": {},
     "output_type": "execute_result"
    }
   ],
   "source": [
    "admin_password"
   ]
  },
  {
   "cell_type": "code",
   "execution_count": 37,
   "id": "efe4ea4b",
   "metadata": {},
   "outputs": [
    {
     "data": {
      "text/plain": [
       "True"
      ]
     },
     "execution_count": 37,
     "metadata": {},
     "output_type": "execute_result"
    }
   ],
   "source": [
    "bcrypt.checkpw(b\"test\", fdep)"
   ]
  },
  {
   "cell_type": "code",
   "execution_count": null,
   "id": "32fc9ec4",
   "metadata": {},
   "outputs": [],
   "source": []
  }
 ],
 "metadata": {
  "kernelspec": {
   "display_name": "dashboard-gd99mBky-py3.10",
   "language": "python",
   "name": "python3"
  },
  "language_info": {
   "codemirror_mode": {
    "name": "ipython",
    "version": 3
   },
   "file_extension": ".py",
   "mimetype": "text/x-python",
   "name": "python",
   "nbconvert_exporter": "python",
   "pygments_lexer": "ipython3",
   "version": "3.10.18"
  }
 },
 "nbformat": 4,
 "nbformat_minor": 5
}
