{
 "cells": [
  {
   "cell_type": "code",
   "execution_count": 3,
   "id": "581d39f4",
   "metadata": {},
   "outputs": [],
   "source": [
    "from services import user_service, role_service"
   ]
  },
  {
   "cell_type": "code",
   "execution_count": 5,
   "id": "0e2793f2",
   "metadata": {},
   "outputs": [],
   "source": [
    "role = role_service.get_role_by_name(\"admin\")"
   ]
  },
  {
   "cell_type": "code",
   "execution_count": 6,
   "id": "78420a9a",
   "metadata": {},
   "outputs": [
    {
     "data": {
      "text/plain": [
       "datetime.datetime(2025, 8, 12, 20, 42, 44, 403398)"
      ]
     },
     "execution_count": 6,
     "metadata": {},
     "output_type": "execute_result"
    }
   ],
   "source": [
    "role.created_at"
   ]
  },
  {
   "cell_type": "code",
   "execution_count": null,
   "id": "bd5fa2af",
   "metadata": {},
   "outputs": [],
   "source": []
  }
 ],
 "metadata": {
  "kernelspec": {
   "display_name": "dashboard-gd99mBky-py3.10",
   "language": "python",
   "name": "python3"
  },
  "language_info": {
   "codemirror_mode": {
    "name": "ipython",
    "version": 3
   },
   "file_extension": ".py",
   "mimetype": "text/x-python",
   "name": "python",
   "nbconvert_exporter": "python",
   "pygments_lexer": "ipython3",
   "version": "3.10.18"
  }
 },
 "nbformat": 4,
 "nbformat_minor": 5
}
